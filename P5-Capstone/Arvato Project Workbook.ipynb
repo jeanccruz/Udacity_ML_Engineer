{
 "cells": [
  {
   "cell_type": "markdown",
   "metadata": {},
   "source": [
    "# Capstone Project: Create a Customer Segmentation Report for Arvato Financial Services\n",
    "\n",
    "In this project, you will analyze demographics data for customers of a mail-order sales company in Germany, comparing it against demographics information for the general population. You'll use unsupervised learning techniques to perform customer segmentation, identifying the parts of the population that best describe the core customer base of the company. Then, you'll apply what you've learned on a third dataset with demographics information for targets of a marketing campaign for the company, and use a model to predict which individuals are most likely to convert into becoming customers for the company. The data that you will use has been provided by our partners at Bertelsmann Arvato Analytics, and represents a real-life data science task.\n",
    "\n",
    "If you completed the first term of this program, you will be familiar with the first part of this project, from the unsupervised learning project. The versions of those two datasets used in this project will include many more features and has not been pre-cleaned. You are also free to choose whatever approach you'd like to analyzing the data rather than follow pre-determined steps. In your work on this project, make sure that you carefully document your steps and decisions, since your main deliverable for this project will be a blog post reporting your findings."
   ]
  },
  {
   "cell_type": "code",
   "execution_count": 1,
   "metadata": {},
   "outputs": [],
   "source": [
    "# import libraries here; add more as necessary\n",
    "import os\n",
    "import time\n",
    "import numpy as np\n",
    "import pandas as pd\n",
    "import matplotlib.pyplot as plt\n",
    "import seaborn as sns\n",
    "\n",
    "from sklearn.preprocessing import Imputer\n",
    "from sklearn.preprocessing import StandardScaler\n",
    "from sklearn.decomposition import PCA\n",
    "\n",
    "from sklearn.cluster import KMeans\n",
    "from sklearn.linear_model import LogisticRegression\n",
    "from sklearn.tree import DecisionTreeClassifier\n",
    "from sklearn.ensemble import RandomForestClassifier\n",
    "from sklearn.ensemble import GradientBoostingRegressor, AdaBoostRegressor\n",
    "from sklearn.ensemble import AdaBoostClassifier, GradientBoostingClassifier\n",
    "\n",
    "\n",
    "from sklearn.model_selection import GridSearchCV\n",
    "\n",
    "\n",
    "from sklearn.metrics import accuracy_score, roc_auc_score, confusion_matrix\n",
    "from sklearn.model_selection import train_test_split, cross_val_score\n",
    "\n",
    "\n",
    "# magic word for producing visualizations in notebook\n",
    "%matplotlib inline\n",
    "\n",
    "# For displaying max number of lines\n",
    "pd.set_option(\"display.max_rows\", 500)\n",
    "\n",
    "# For reproducability\n",
    "SEED = 2"
   ]
  },
  {
   "cell_type": "markdown",
   "metadata": {},
   "source": [
    "## Part 0: Get to Know the Data\n",
    "\n",
    "There are four data files associated with this project:\n",
    "\n",
    "- `Udacity_AZDIAS_052018.csv`: Demographics data for the general population of Germany; 891 211 persons (rows) x 366 features (columns).\n",
    "- `Udacity_CUSTOMERS_052018.csv`: Demographics data for customers of a mail-order company; 191 652 persons (rows) x 369 features (columns).\n",
    "- `Udacity_MAILOUT_052018_TRAIN.csv`: Demographics data for individuals who were targets of a marketing campaign; 42 982 persons (rows) x 367 (columns).\n",
    "- `Udacity_MAILOUT_052018_TEST.csv`: Demographics data for individuals who were targets of a marketing campaign; 42 833 persons (rows) x 366 (columns).\n",
    "\n",
    "Each row of the demographics files represents a single person, but also includes information outside of individuals, including information about their household, building, and neighborhood. Use the information from the first two files to figure out how customers (\"CUSTOMERS\") are similar to or differ from the general population at large (\"AZDIAS\"), then use your analysis to make predictions on the other two files (\"MAILOUT\"), predicting which recipients are most likely to become a customer for the mail-order company.\n",
    "\n",
    "The \"CUSTOMERS\" file contains three extra columns ('CUSTOMER_GROUP', 'ONLINE_PURCHASE', and 'PRODUCT_GROUP'), which provide broad information about the customers depicted in the file. The original \"MAILOUT\" file included one additional column, \"RESPONSE\", which indicated whether or not each recipient became a customer of the company. For the \"TRAIN\" subset, this column has been retained, but in the \"TEST\" subset it has been removed; it is against that withheld column that your final predictions will be assessed in the Kaggle competition.\n",
    "\n",
    "Otherwise, all of the remaining columns are the same between the three data files. For more information about the columns depicted in the files, you can refer to two Excel spreadsheets provided in the workspace. [One of them](./DIAS Information Levels - Attributes 2017.xlsx) is a top-level list of attributes and descriptions, organized by informational category. [The other](./DIAS Attributes - Values 2017.xlsx) is a detailed mapping of data values for each feature in alphabetical order.\n",
    "\n",
    "In the below cell, we've provided some initial code to load in the first two datasets. Note for all of the `.csv` data files in this project that they're semicolon (`;`) delimited, so an additional argument in the [`read_csv()`](https://pandas.pydata.org/pandas-docs/stable/generated/pandas.read_csv.html) call has been included to read in the data properly. Also, considering the size of the datasets, it may take some time for them to load completely.\n",
    "\n",
    "You'll notice when the data is loaded in that a warning message will immediately pop up. Before you really start digging into the modeling and analysis, you're going to need to perform some cleaning. Take some time to browse the structure of the data and look over the informational spreadsheets to understand the data values. Make some decisions on which features to keep, which features to drop, and if any revisions need to be made on data formats. It'll be a good idea to create a function with pre-processing steps, since you'll need to clean all of the datasets before you work with them."
   ]
  },
  {
   "cell_type": "code",
   "execution_count": 2,
   "metadata": {},
   "outputs": [
    {
     "name": "stderr",
     "output_type": "stream",
     "text": [
      "/opt/conda/lib/python3.6/site-packages/IPython/core/interactiveshell.py:2785: DtypeWarning: Columns (18,19) have mixed types. Specify dtype option on import or set low_memory=False.\n",
      "  interactivity=interactivity, compiler=compiler, result=result)\n"
     ]
    }
   ],
   "source": [
    "#Loadint the raw data\n",
    "azdias = pd.read_csv('../../data/Term2/capstone/arvato_data/Udacity_AZDIAS_052018.csv', sep=';')\n",
    "customers = pd.read_csv('../../data/Term2/capstone/arvato_data/Udacity_CUSTOMERS_052018.csv', sep=';')"
   ]
  },
  {
   "cell_type": "markdown",
   "metadata": {},
   "source": [
    "The warning says columns 18 and 19 have mixed data types, we can explore these two columns in later steps. This is one point to remember."
   ]
  },
  {
   "cell_type": "code",
   "execution_count": 3,
   "metadata": {},
   "outputs": [],
   "source": [
    "#Loading the attributes files\n",
    "# Ignore any empty columns while loading data\n",
    "attributes_values = pd.read_excel('DIAS Attributes - Values 2017.xlsx', header=1)\n",
    "attributes_info = pd.read_excel('DIAS Information Levels - Attributes 2017.xlsx', header=1)  "
   ]
  },
  {
   "cell_type": "markdown",
   "metadata": {},
   "source": [
    "### Data Wrangling\n",
    "\n",
    ">After loading the dataset, I checked for cleanliness, and then trim and clean the dataset to answer the goal questions.\n",
    "\n",
    "#### General Properties"
   ]
  },
  {
   "cell_type": "code",
   "execution_count": 4,
   "metadata": {},
   "outputs": [
    {
     "name": "stdout",
     "output_type": "stream",
     "text": [
      "Azdias shape - (891221, 366)\n",
      "Customers shape - (191652, 369)\n"
     ]
    }
   ],
   "source": [
    "print(\"Azdias shape -\",azdias.shape)\n",
    "print(\"Customers shape -\",customers.shape)"
   ]
  },
  {
   "cell_type": "code",
   "execution_count": 5,
   "metadata": {},
   "outputs": [
    {
     "name": "stdout",
     "output_type": "stream",
     "text": [
      "Number of columns in Customers Data -  369\n",
      "Number of columns in Azdius Data -  366\n",
      "Extra columns in Customers Data -  ['PRODUCT_GROUP', 'CUSTOMER_GROUP', 'ONLINE_PURCHASE']\n"
     ]
    }
   ],
   "source": [
    "print(\"Number of columns in Customers Data - \", len(list(customers.columns)))\n",
    "print(\"Number of columns in Azdius Data - \", len(list(azdias.columns)))\n",
    "\n",
    "extra_cols_in_customers = [col for col in customers.columns if col not in azdias.columns]\n",
    "print(\"Extra columns in Customers Data - \",extra_cols_in_customers)"
   ]
  },
  {
   "cell_type": "markdown",
   "metadata": {},
   "source": [
    "The shapes and extra columns match the description."
   ]
  },
  {
   "cell_type": "code",
   "execution_count": 6,
   "metadata": {},
   "outputs": [
    {
     "data": {
      "text/html": [
       "<div>\n",
       "<style scoped>\n",
       "    .dataframe tbody tr th:only-of-type {\n",
       "        vertical-align: middle;\n",
       "    }\n",
       "\n",
       "    .dataframe tbody tr th {\n",
       "        vertical-align: top;\n",
       "    }\n",
       "\n",
       "    .dataframe thead th {\n",
       "        text-align: right;\n",
       "    }\n",
       "</style>\n",
       "<table border=\"1\" class=\"dataframe\">\n",
       "  <thead>\n",
       "    <tr style=\"text-align: right;\">\n",
       "      <th></th>\n",
       "      <th>LNR</th>\n",
       "      <th>AGER_TYP</th>\n",
       "      <th>AKT_DAT_KL</th>\n",
       "      <th>ALTER_HH</th>\n",
       "      <th>ALTER_KIND1</th>\n",
       "      <th>ALTER_KIND2</th>\n",
       "      <th>ALTER_KIND3</th>\n",
       "      <th>ALTER_KIND4</th>\n",
       "      <th>ALTERSKATEGORIE_FEIN</th>\n",
       "      <th>ANZ_HAUSHALTE_AKTIV</th>\n",
       "      <th>...</th>\n",
       "      <th>VHN</th>\n",
       "      <th>VK_DHT4A</th>\n",
       "      <th>VK_DISTANZ</th>\n",
       "      <th>VK_ZG11</th>\n",
       "      <th>W_KEIT_KIND_HH</th>\n",
       "      <th>WOHNDAUER_2008</th>\n",
       "      <th>WOHNLAGE</th>\n",
       "      <th>ZABEOTYP</th>\n",
       "      <th>ANREDE_KZ</th>\n",
       "      <th>ALTERSKATEGORIE_GROB</th>\n",
       "    </tr>\n",
       "  </thead>\n",
       "  <tbody>\n",
       "    <tr>\n",
       "      <th>0</th>\n",
       "      <td>910215</td>\n",
       "      <td>-1</td>\n",
       "      <td>NaN</td>\n",
       "      <td>NaN</td>\n",
       "      <td>NaN</td>\n",
       "      <td>NaN</td>\n",
       "      <td>NaN</td>\n",
       "      <td>NaN</td>\n",
       "      <td>NaN</td>\n",
       "      <td>NaN</td>\n",
       "      <td>...</td>\n",
       "      <td>NaN</td>\n",
       "      <td>NaN</td>\n",
       "      <td>NaN</td>\n",
       "      <td>NaN</td>\n",
       "      <td>NaN</td>\n",
       "      <td>NaN</td>\n",
       "      <td>NaN</td>\n",
       "      <td>3</td>\n",
       "      <td>1</td>\n",
       "      <td>2</td>\n",
       "    </tr>\n",
       "    <tr>\n",
       "      <th>1</th>\n",
       "      <td>910220</td>\n",
       "      <td>-1</td>\n",
       "      <td>9.0</td>\n",
       "      <td>0.0</td>\n",
       "      <td>NaN</td>\n",
       "      <td>NaN</td>\n",
       "      <td>NaN</td>\n",
       "      <td>NaN</td>\n",
       "      <td>21.0</td>\n",
       "      <td>11.0</td>\n",
       "      <td>...</td>\n",
       "      <td>4.0</td>\n",
       "      <td>8.0</td>\n",
       "      <td>11.0</td>\n",
       "      <td>10.0</td>\n",
       "      <td>3.0</td>\n",
       "      <td>9.0</td>\n",
       "      <td>4.0</td>\n",
       "      <td>5</td>\n",
       "      <td>2</td>\n",
       "      <td>1</td>\n",
       "    </tr>\n",
       "    <tr>\n",
       "      <th>2</th>\n",
       "      <td>910225</td>\n",
       "      <td>-1</td>\n",
       "      <td>9.0</td>\n",
       "      <td>17.0</td>\n",
       "      <td>NaN</td>\n",
       "      <td>NaN</td>\n",
       "      <td>NaN</td>\n",
       "      <td>NaN</td>\n",
       "      <td>17.0</td>\n",
       "      <td>10.0</td>\n",
       "      <td>...</td>\n",
       "      <td>2.0</td>\n",
       "      <td>9.0</td>\n",
       "      <td>9.0</td>\n",
       "      <td>6.0</td>\n",
       "      <td>3.0</td>\n",
       "      <td>9.0</td>\n",
       "      <td>2.0</td>\n",
       "      <td>5</td>\n",
       "      <td>2</td>\n",
       "      <td>3</td>\n",
       "    </tr>\n",
       "    <tr>\n",
       "      <th>3</th>\n",
       "      <td>910226</td>\n",
       "      <td>2</td>\n",
       "      <td>1.0</td>\n",
       "      <td>13.0</td>\n",
       "      <td>NaN</td>\n",
       "      <td>NaN</td>\n",
       "      <td>NaN</td>\n",
       "      <td>NaN</td>\n",
       "      <td>13.0</td>\n",
       "      <td>1.0</td>\n",
       "      <td>...</td>\n",
       "      <td>0.0</td>\n",
       "      <td>7.0</td>\n",
       "      <td>10.0</td>\n",
       "      <td>11.0</td>\n",
       "      <td>NaN</td>\n",
       "      <td>9.0</td>\n",
       "      <td>7.0</td>\n",
       "      <td>3</td>\n",
       "      <td>2</td>\n",
       "      <td>4</td>\n",
       "    </tr>\n",
       "    <tr>\n",
       "      <th>4</th>\n",
       "      <td>910241</td>\n",
       "      <td>-1</td>\n",
       "      <td>1.0</td>\n",
       "      <td>20.0</td>\n",
       "      <td>NaN</td>\n",
       "      <td>NaN</td>\n",
       "      <td>NaN</td>\n",
       "      <td>NaN</td>\n",
       "      <td>14.0</td>\n",
       "      <td>3.0</td>\n",
       "      <td>...</td>\n",
       "      <td>2.0</td>\n",
       "      <td>3.0</td>\n",
       "      <td>5.0</td>\n",
       "      <td>4.0</td>\n",
       "      <td>2.0</td>\n",
       "      <td>9.0</td>\n",
       "      <td>3.0</td>\n",
       "      <td>4</td>\n",
       "      <td>1</td>\n",
       "      <td>3</td>\n",
       "    </tr>\n",
       "  </tbody>\n",
       "</table>\n",
       "<p>5 rows × 366 columns</p>\n",
       "</div>"
      ],
      "text/plain": [
       "      LNR  AGER_TYP  AKT_DAT_KL  ALTER_HH  ALTER_KIND1  ALTER_KIND2  \\\n",
       "0  910215        -1         NaN       NaN          NaN          NaN   \n",
       "1  910220        -1         9.0       0.0          NaN          NaN   \n",
       "2  910225        -1         9.0      17.0          NaN          NaN   \n",
       "3  910226         2         1.0      13.0          NaN          NaN   \n",
       "4  910241        -1         1.0      20.0          NaN          NaN   \n",
       "\n",
       "   ALTER_KIND3  ALTER_KIND4  ALTERSKATEGORIE_FEIN  ANZ_HAUSHALTE_AKTIV  \\\n",
       "0          NaN          NaN                   NaN                  NaN   \n",
       "1          NaN          NaN                  21.0                 11.0   \n",
       "2          NaN          NaN                  17.0                 10.0   \n",
       "3          NaN          NaN                  13.0                  1.0   \n",
       "4          NaN          NaN                  14.0                  3.0   \n",
       "\n",
       "          ...           VHN  VK_DHT4A  VK_DISTANZ  VK_ZG11  W_KEIT_KIND_HH  \\\n",
       "0         ...           NaN       NaN         NaN      NaN             NaN   \n",
       "1         ...           4.0       8.0        11.0     10.0             3.0   \n",
       "2         ...           2.0       9.0         9.0      6.0             3.0   \n",
       "3         ...           0.0       7.0        10.0     11.0             NaN   \n",
       "4         ...           2.0       3.0         5.0      4.0             2.0   \n",
       "\n",
       "   WOHNDAUER_2008  WOHNLAGE ZABEOTYP ANREDE_KZ ALTERSKATEGORIE_GROB  \n",
       "0             NaN       NaN        3         1                    2  \n",
       "1             9.0       4.0        5         2                    1  \n",
       "2             9.0       2.0        5         2                    3  \n",
       "3             9.0       7.0        3         2                    4  \n",
       "4             9.0       3.0        4         1                    3  \n",
       "\n",
       "[5 rows x 366 columns]"
      ]
     },
     "execution_count": 6,
     "metadata": {},
     "output_type": "execute_result"
    }
   ],
   "source": [
    "#Checking the heads of dataframes:\n",
    "azdias.head()"
   ]
  },
  {
   "cell_type": "code",
   "execution_count": 7,
   "metadata": {},
   "outputs": [
    {
     "data": {
      "text/html": [
       "<div>\n",
       "<style scoped>\n",
       "    .dataframe tbody tr th:only-of-type {\n",
       "        vertical-align: middle;\n",
       "    }\n",
       "\n",
       "    .dataframe tbody tr th {\n",
       "        vertical-align: top;\n",
       "    }\n",
       "\n",
       "    .dataframe thead th {\n",
       "        text-align: right;\n",
       "    }\n",
       "</style>\n",
       "<table border=\"1\" class=\"dataframe\">\n",
       "  <thead>\n",
       "    <tr style=\"text-align: right;\">\n",
       "      <th></th>\n",
       "      <th>LNR</th>\n",
       "      <th>AGER_TYP</th>\n",
       "      <th>AKT_DAT_KL</th>\n",
       "      <th>ALTER_HH</th>\n",
       "      <th>ALTER_KIND1</th>\n",
       "      <th>ALTER_KIND2</th>\n",
       "      <th>ALTER_KIND3</th>\n",
       "      <th>ALTER_KIND4</th>\n",
       "      <th>ALTERSKATEGORIE_FEIN</th>\n",
       "      <th>ANZ_HAUSHALTE_AKTIV</th>\n",
       "      <th>...</th>\n",
       "      <th>VK_ZG11</th>\n",
       "      <th>W_KEIT_KIND_HH</th>\n",
       "      <th>WOHNDAUER_2008</th>\n",
       "      <th>WOHNLAGE</th>\n",
       "      <th>ZABEOTYP</th>\n",
       "      <th>PRODUCT_GROUP</th>\n",
       "      <th>CUSTOMER_GROUP</th>\n",
       "      <th>ONLINE_PURCHASE</th>\n",
       "      <th>ANREDE_KZ</th>\n",
       "      <th>ALTERSKATEGORIE_GROB</th>\n",
       "    </tr>\n",
       "  </thead>\n",
       "  <tbody>\n",
       "    <tr>\n",
       "      <th>0</th>\n",
       "      <td>9626</td>\n",
       "      <td>2</td>\n",
       "      <td>1.0</td>\n",
       "      <td>10.0</td>\n",
       "      <td>NaN</td>\n",
       "      <td>NaN</td>\n",
       "      <td>NaN</td>\n",
       "      <td>NaN</td>\n",
       "      <td>10.0</td>\n",
       "      <td>1.0</td>\n",
       "      <td>...</td>\n",
       "      <td>2.0</td>\n",
       "      <td>6.0</td>\n",
       "      <td>9.0</td>\n",
       "      <td>7.0</td>\n",
       "      <td>3</td>\n",
       "      <td>COSMETIC_AND_FOOD</td>\n",
       "      <td>MULTI_BUYER</td>\n",
       "      <td>0</td>\n",
       "      <td>1</td>\n",
       "      <td>4</td>\n",
       "    </tr>\n",
       "    <tr>\n",
       "      <th>1</th>\n",
       "      <td>9628</td>\n",
       "      <td>-1</td>\n",
       "      <td>9.0</td>\n",
       "      <td>11.0</td>\n",
       "      <td>NaN</td>\n",
       "      <td>NaN</td>\n",
       "      <td>NaN</td>\n",
       "      <td>NaN</td>\n",
       "      <td>NaN</td>\n",
       "      <td>NaN</td>\n",
       "      <td>...</td>\n",
       "      <td>3.0</td>\n",
       "      <td>0.0</td>\n",
       "      <td>9.0</td>\n",
       "      <td>NaN</td>\n",
       "      <td>3</td>\n",
       "      <td>FOOD</td>\n",
       "      <td>SINGLE_BUYER</td>\n",
       "      <td>0</td>\n",
       "      <td>1</td>\n",
       "      <td>4</td>\n",
       "    </tr>\n",
       "    <tr>\n",
       "      <th>2</th>\n",
       "      <td>143872</td>\n",
       "      <td>-1</td>\n",
       "      <td>1.0</td>\n",
       "      <td>6.0</td>\n",
       "      <td>NaN</td>\n",
       "      <td>NaN</td>\n",
       "      <td>NaN</td>\n",
       "      <td>NaN</td>\n",
       "      <td>0.0</td>\n",
       "      <td>1.0</td>\n",
       "      <td>...</td>\n",
       "      <td>11.0</td>\n",
       "      <td>6.0</td>\n",
       "      <td>9.0</td>\n",
       "      <td>2.0</td>\n",
       "      <td>3</td>\n",
       "      <td>COSMETIC_AND_FOOD</td>\n",
       "      <td>MULTI_BUYER</td>\n",
       "      <td>0</td>\n",
       "      <td>2</td>\n",
       "      <td>4</td>\n",
       "    </tr>\n",
       "    <tr>\n",
       "      <th>3</th>\n",
       "      <td>143873</td>\n",
       "      <td>1</td>\n",
       "      <td>1.0</td>\n",
       "      <td>8.0</td>\n",
       "      <td>NaN</td>\n",
       "      <td>NaN</td>\n",
       "      <td>NaN</td>\n",
       "      <td>NaN</td>\n",
       "      <td>8.0</td>\n",
       "      <td>0.0</td>\n",
       "      <td>...</td>\n",
       "      <td>2.0</td>\n",
       "      <td>NaN</td>\n",
       "      <td>9.0</td>\n",
       "      <td>7.0</td>\n",
       "      <td>1</td>\n",
       "      <td>COSMETIC</td>\n",
       "      <td>MULTI_BUYER</td>\n",
       "      <td>0</td>\n",
       "      <td>1</td>\n",
       "      <td>4</td>\n",
       "    </tr>\n",
       "    <tr>\n",
       "      <th>4</th>\n",
       "      <td>143874</td>\n",
       "      <td>-1</td>\n",
       "      <td>1.0</td>\n",
       "      <td>20.0</td>\n",
       "      <td>NaN</td>\n",
       "      <td>NaN</td>\n",
       "      <td>NaN</td>\n",
       "      <td>NaN</td>\n",
       "      <td>14.0</td>\n",
       "      <td>7.0</td>\n",
       "      <td>...</td>\n",
       "      <td>4.0</td>\n",
       "      <td>2.0</td>\n",
       "      <td>9.0</td>\n",
       "      <td>3.0</td>\n",
       "      <td>1</td>\n",
       "      <td>FOOD</td>\n",
       "      <td>MULTI_BUYER</td>\n",
       "      <td>0</td>\n",
       "      <td>1</td>\n",
       "      <td>3</td>\n",
       "    </tr>\n",
       "  </tbody>\n",
       "</table>\n",
       "<p>5 rows × 369 columns</p>\n",
       "</div>"
      ],
      "text/plain": [
       "      LNR  AGER_TYP  AKT_DAT_KL  ALTER_HH  ALTER_KIND1  ALTER_KIND2  \\\n",
       "0    9626         2         1.0      10.0          NaN          NaN   \n",
       "1    9628        -1         9.0      11.0          NaN          NaN   \n",
       "2  143872        -1         1.0       6.0          NaN          NaN   \n",
       "3  143873         1         1.0       8.0          NaN          NaN   \n",
       "4  143874        -1         1.0      20.0          NaN          NaN   \n",
       "\n",
       "   ALTER_KIND3  ALTER_KIND4  ALTERSKATEGORIE_FEIN  ANZ_HAUSHALTE_AKTIV  \\\n",
       "0          NaN          NaN                  10.0                  1.0   \n",
       "1          NaN          NaN                   NaN                  NaN   \n",
       "2          NaN          NaN                   0.0                  1.0   \n",
       "3          NaN          NaN                   8.0                  0.0   \n",
       "4          NaN          NaN                  14.0                  7.0   \n",
       "\n",
       "          ...           VK_ZG11  W_KEIT_KIND_HH  WOHNDAUER_2008  WOHNLAGE  \\\n",
       "0         ...               2.0             6.0             9.0       7.0   \n",
       "1         ...               3.0             0.0             9.0       NaN   \n",
       "2         ...              11.0             6.0             9.0       2.0   \n",
       "3         ...               2.0             NaN             9.0       7.0   \n",
       "4         ...               4.0             2.0             9.0       3.0   \n",
       "\n",
       "   ZABEOTYP      PRODUCT_GROUP  CUSTOMER_GROUP ONLINE_PURCHASE ANREDE_KZ  \\\n",
       "0         3  COSMETIC_AND_FOOD     MULTI_BUYER               0         1   \n",
       "1         3               FOOD    SINGLE_BUYER               0         1   \n",
       "2         3  COSMETIC_AND_FOOD     MULTI_BUYER               0         2   \n",
       "3         1           COSMETIC     MULTI_BUYER               0         1   \n",
       "4         1               FOOD     MULTI_BUYER               0         1   \n",
       "\n",
       "  ALTERSKATEGORIE_GROB  \n",
       "0                    4  \n",
       "1                    4  \n",
       "2                    4  \n",
       "3                    4  \n",
       "4                    3  \n",
       "\n",
       "[5 rows x 369 columns]"
      ]
     },
     "execution_count": 7,
     "metadata": {},
     "output_type": "execute_result"
    }
   ],
   "source": [
    "#Checking the heads of dataframes:\n",
    "customers.head()"
   ]
  },
  {
   "cell_type": "markdown",
   "metadata": {},
   "source": [
    "It is possible to see a lot of missing values in both of the dataframes. Looking at the extra columns in the customers dataset."
   ]
  },
  {
   "cell_type": "code",
   "execution_count": 8,
   "metadata": {},
   "outputs": [
    {
     "data": {
      "text/html": [
       "<div>\n",
       "<style scoped>\n",
       "    .dataframe tbody tr th:only-of-type {\n",
       "        vertical-align: middle;\n",
       "    }\n",
       "\n",
       "    .dataframe tbody tr th {\n",
       "        vertical-align: top;\n",
       "    }\n",
       "\n",
       "    .dataframe thead th {\n",
       "        text-align: right;\n",
       "    }\n",
       "</style>\n",
       "<table border=\"1\" class=\"dataframe\">\n",
       "  <thead>\n",
       "    <tr style=\"text-align: right;\">\n",
       "      <th></th>\n",
       "      <th>PRODUCT_GROUP</th>\n",
       "      <th>CUSTOMER_GROUP</th>\n",
       "      <th>ONLINE_PURCHASE</th>\n",
       "    </tr>\n",
       "  </thead>\n",
       "  <tbody>\n",
       "    <tr>\n",
       "      <th>0</th>\n",
       "      <td>COSMETIC_AND_FOOD</td>\n",
       "      <td>MULTI_BUYER</td>\n",
       "      <td>0</td>\n",
       "    </tr>\n",
       "    <tr>\n",
       "      <th>1</th>\n",
       "      <td>FOOD</td>\n",
       "      <td>SINGLE_BUYER</td>\n",
       "      <td>0</td>\n",
       "    </tr>\n",
       "    <tr>\n",
       "      <th>2</th>\n",
       "      <td>COSMETIC_AND_FOOD</td>\n",
       "      <td>MULTI_BUYER</td>\n",
       "      <td>0</td>\n",
       "    </tr>\n",
       "    <tr>\n",
       "      <th>3</th>\n",
       "      <td>COSMETIC</td>\n",
       "      <td>MULTI_BUYER</td>\n",
       "      <td>0</td>\n",
       "    </tr>\n",
       "    <tr>\n",
       "      <th>4</th>\n",
       "      <td>FOOD</td>\n",
       "      <td>MULTI_BUYER</td>\n",
       "      <td>0</td>\n",
       "    </tr>\n",
       "  </tbody>\n",
       "</table>\n",
       "</div>"
      ],
      "text/plain": [
       "       PRODUCT_GROUP CUSTOMER_GROUP  ONLINE_PURCHASE\n",
       "0  COSMETIC_AND_FOOD    MULTI_BUYER                0\n",
       "1               FOOD   SINGLE_BUYER                0\n",
       "2  COSMETIC_AND_FOOD    MULTI_BUYER                0\n",
       "3           COSMETIC    MULTI_BUYER                0\n",
       "4               FOOD    MULTI_BUYER                0"
      ]
     },
     "execution_count": 8,
     "metadata": {},
     "output_type": "execute_result"
    }
   ],
   "source": [
    "#Checking the heads of the extra columns in customers dataset\n",
    "customers[extra_cols_in_customers].head()"
   ]
  },
  {
   "cell_type": "markdown",
   "metadata": {},
   "source": [
    "Those columns are about the customers and their buying behavior. It is also available two extra dataframes with attribute information i.e. the information about what each column represents. We should check those extra dataframes in detail"
   ]
  },
  {
   "cell_type": "markdown",
   "metadata": {},
   "source": [
    "**`attribute_values`** - has a description of columns in azdiasand customers data, information about range of values each column can take and their respective meanings. <br>\n",
    "**`attribute_info`** - has detailed information about each column with additional notes wherever required."
   ]
  },
  {
   "cell_type": "code",
   "execution_count": 9,
   "metadata": {},
   "outputs": [
    {
     "data": {
      "text/html": [
       "<div>\n",
       "<style scoped>\n",
       "    .dataframe tbody tr th:only-of-type {\n",
       "        vertical-align: middle;\n",
       "    }\n",
       "\n",
       "    .dataframe tbody tr th {\n",
       "        vertical-align: top;\n",
       "    }\n",
       "\n",
       "    .dataframe thead th {\n",
       "        text-align: right;\n",
       "    }\n",
       "</style>\n",
       "<table border=\"1\" class=\"dataframe\">\n",
       "  <thead>\n",
       "    <tr style=\"text-align: right;\">\n",
       "      <th></th>\n",
       "      <th>Attribute</th>\n",
       "      <th>Description</th>\n",
       "      <th>Value</th>\n",
       "      <th>Meaning</th>\n",
       "    </tr>\n",
       "  </thead>\n",
       "  <tbody>\n",
       "    <tr>\n",
       "      <th>NaN</th>\n",
       "      <td>AGER_TYP</td>\n",
       "      <td>best-ager typology</td>\n",
       "      <td>-1</td>\n",
       "      <td>unknown</td>\n",
       "    </tr>\n",
       "    <tr>\n",
       "      <th>NaN</th>\n",
       "      <td>NaN</td>\n",
       "      <td>NaN</td>\n",
       "      <td>0</td>\n",
       "      <td>no classification possible</td>\n",
       "    </tr>\n",
       "    <tr>\n",
       "      <th>NaN</th>\n",
       "      <td>NaN</td>\n",
       "      <td>NaN</td>\n",
       "      <td>1</td>\n",
       "      <td>passive elderly</td>\n",
       "    </tr>\n",
       "    <tr>\n",
       "      <th>NaN</th>\n",
       "      <td>NaN</td>\n",
       "      <td>NaN</td>\n",
       "      <td>2</td>\n",
       "      <td>cultural elderly</td>\n",
       "    </tr>\n",
       "    <tr>\n",
       "      <th>NaN</th>\n",
       "      <td>NaN</td>\n",
       "      <td>NaN</td>\n",
       "      <td>3</td>\n",
       "      <td>experience-driven elderly</td>\n",
       "    </tr>\n",
       "  </tbody>\n",
       "</table>\n",
       "</div>"
      ],
      "text/plain": [
       "    Attribute         Description Value                     Meaning\n",
       "NaN  AGER_TYP  best-ager typology    -1                     unknown\n",
       "NaN       NaN                 NaN     0  no classification possible\n",
       "NaN       NaN                 NaN     1             passive elderly\n",
       "NaN       NaN                 NaN     2            cultural elderly\n",
       "NaN       NaN                 NaN     3   experience-driven elderly"
      ]
     },
     "execution_count": 9,
     "metadata": {},
     "output_type": "execute_result"
    }
   ],
   "source": [
    "attributes_values.head()"
   ]
  },
  {
   "cell_type": "markdown",
   "metadata": {},
   "source": [
    "There are attributes with multiple rows corresponding to different values. In order to better see this table we will fill the NaN info with the correspondent attribute"
   ]
  },
  {
   "cell_type": "code",
   "execution_count": 10,
   "metadata": {},
   "outputs": [
    {
     "data": {
      "text/html": [
       "<div>\n",
       "<style scoped>\n",
       "    .dataframe tbody tr th:only-of-type {\n",
       "        vertical-align: middle;\n",
       "    }\n",
       "\n",
       "    .dataframe tbody tr th {\n",
       "        vertical-align: top;\n",
       "    }\n",
       "\n",
       "    .dataframe thead th {\n",
       "        text-align: right;\n",
       "    }\n",
       "</style>\n",
       "<table border=\"1\" class=\"dataframe\">\n",
       "  <thead>\n",
       "    <tr style=\"text-align: right;\">\n",
       "      <th></th>\n",
       "      <th>Attribute</th>\n",
       "      <th>Description</th>\n",
       "      <th>Value</th>\n",
       "      <th>Meaning</th>\n",
       "    </tr>\n",
       "  </thead>\n",
       "  <tbody>\n",
       "    <tr>\n",
       "      <th>NaN</th>\n",
       "      <td>AGER_TYP</td>\n",
       "      <td>best-ager typology</td>\n",
       "      <td>-1</td>\n",
       "      <td>unknown</td>\n",
       "    </tr>\n",
       "    <tr>\n",
       "      <th>NaN</th>\n",
       "      <td>AGER_TYP</td>\n",
       "      <td>NaN</td>\n",
       "      <td>0</td>\n",
       "      <td>no classification possible</td>\n",
       "    </tr>\n",
       "    <tr>\n",
       "      <th>NaN</th>\n",
       "      <td>AGER_TYP</td>\n",
       "      <td>NaN</td>\n",
       "      <td>1</td>\n",
       "      <td>passive elderly</td>\n",
       "    </tr>\n",
       "    <tr>\n",
       "      <th>NaN</th>\n",
       "      <td>AGER_TYP</td>\n",
       "      <td>NaN</td>\n",
       "      <td>2</td>\n",
       "      <td>cultural elderly</td>\n",
       "    </tr>\n",
       "    <tr>\n",
       "      <th>NaN</th>\n",
       "      <td>AGER_TYP</td>\n",
       "      <td>NaN</td>\n",
       "      <td>3</td>\n",
       "      <td>experience-driven elderly</td>\n",
       "    </tr>\n",
       "    <tr>\n",
       "      <th>NaN</th>\n",
       "      <td>ALTERSKATEGORIE_GROB</td>\n",
       "      <td>age classification through prename analysis</td>\n",
       "      <td>-1, 0</td>\n",
       "      <td>unknown</td>\n",
       "    </tr>\n",
       "    <tr>\n",
       "      <th>NaN</th>\n",
       "      <td>ALTERSKATEGORIE_GROB</td>\n",
       "      <td>NaN</td>\n",
       "      <td>1</td>\n",
       "      <td>&lt; 30 years</td>\n",
       "    </tr>\n",
       "    <tr>\n",
       "      <th>NaN</th>\n",
       "      <td>ALTERSKATEGORIE_GROB</td>\n",
       "      <td>NaN</td>\n",
       "      <td>2</td>\n",
       "      <td>30 - 45 years</td>\n",
       "    </tr>\n",
       "    <tr>\n",
       "      <th>NaN</th>\n",
       "      <td>ALTERSKATEGORIE_GROB</td>\n",
       "      <td>NaN</td>\n",
       "      <td>3</td>\n",
       "      <td>46 - 60 years</td>\n",
       "    </tr>\n",
       "    <tr>\n",
       "      <th>NaN</th>\n",
       "      <td>ALTERSKATEGORIE_GROB</td>\n",
       "      <td>NaN</td>\n",
       "      <td>4</td>\n",
       "      <td>&gt; 60 years</td>\n",
       "    </tr>\n",
       "  </tbody>\n",
       "</table>\n",
       "</div>"
      ],
      "text/plain": [
       "                Attribute                                   Description  \\\n",
       "NaN              AGER_TYP                            best-ager typology   \n",
       "NaN              AGER_TYP                                           NaN   \n",
       "NaN              AGER_TYP                                           NaN   \n",
       "NaN              AGER_TYP                                           NaN   \n",
       "NaN              AGER_TYP                                           NaN   \n",
       "NaN  ALTERSKATEGORIE_GROB  age classification through prename analysis    \n",
       "NaN  ALTERSKATEGORIE_GROB                                           NaN   \n",
       "NaN  ALTERSKATEGORIE_GROB                                           NaN   \n",
       "NaN  ALTERSKATEGORIE_GROB                                           NaN   \n",
       "NaN  ALTERSKATEGORIE_GROB                                           NaN   \n",
       "\n",
       "     Value                     Meaning  \n",
       "NaN     -1                     unknown  \n",
       "NaN      0  no classification possible  \n",
       "NaN      1             passive elderly  \n",
       "NaN      2            cultural elderly  \n",
       "NaN      3   experience-driven elderly  \n",
       "NaN  -1, 0                     unknown  \n",
       "NaN      1                  < 30 years  \n",
       "NaN      2               30 - 45 years  \n",
       "NaN      3               46 - 60 years  \n",
       "NaN      4                  > 60 years  "
      ]
     },
     "execution_count": 10,
     "metadata": {},
     "output_type": "execute_result"
    }
   ],
   "source": [
    "attributes_values[\"Attribute\"] = attributes_values[\"Attribute\"].ffill()\n",
    "attributes_values.head(10)"
   ]
  },
  {
   "cell_type": "code",
   "execution_count": 11,
   "metadata": {},
   "outputs": [
    {
     "data": {
      "text/html": [
       "<div>\n",
       "<style scoped>\n",
       "    .dataframe tbody tr th:only-of-type {\n",
       "        vertical-align: middle;\n",
       "    }\n",
       "\n",
       "    .dataframe tbody tr th {\n",
       "        vertical-align: top;\n",
       "    }\n",
       "\n",
       "    .dataframe thead th {\n",
       "        text-align: right;\n",
       "    }\n",
       "</style>\n",
       "<table border=\"1\" class=\"dataframe\">\n",
       "  <thead>\n",
       "    <tr style=\"text-align: right;\">\n",
       "      <th></th>\n",
       "      <th>Information level</th>\n",
       "      <th>Attribute</th>\n",
       "      <th>Description</th>\n",
       "      <th>Additional notes</th>\n",
       "    </tr>\n",
       "  </thead>\n",
       "  <tbody>\n",
       "    <tr>\n",
       "      <th>NaN</th>\n",
       "      <td>NaN</td>\n",
       "      <td>AGER_TYP</td>\n",
       "      <td>best-ager typology</td>\n",
       "      <td>in cooperation with Kantar TNS; the informatio...</td>\n",
       "    </tr>\n",
       "    <tr>\n",
       "      <th>NaN</th>\n",
       "      <td>Person</td>\n",
       "      <td>ALTERSKATEGORIE_GROB</td>\n",
       "      <td>age through prename analysis</td>\n",
       "      <td>modelled on millions of first name-age-referen...</td>\n",
       "    </tr>\n",
       "    <tr>\n",
       "      <th>NaN</th>\n",
       "      <td>NaN</td>\n",
       "      <td>ANREDE_KZ</td>\n",
       "      <td>gender</td>\n",
       "      <td>NaN</td>\n",
       "    </tr>\n",
       "    <tr>\n",
       "      <th>NaN</th>\n",
       "      <td>NaN</td>\n",
       "      <td>CJT_GESAMTTYP</td>\n",
       "      <td>Customer-Journey-Typology relating to the pref...</td>\n",
       "      <td>relating to the preferred information, marketi...</td>\n",
       "    </tr>\n",
       "    <tr>\n",
       "      <th>NaN</th>\n",
       "      <td>NaN</td>\n",
       "      <td>FINANZ_MINIMALIST</td>\n",
       "      <td>financial typology: low financial interest</td>\n",
       "      <td>Gfk-Typology based on a representative househo...</td>\n",
       "    </tr>\n",
       "    <tr>\n",
       "      <th>NaN</th>\n",
       "      <td>NaN</td>\n",
       "      <td>FINANZ_SPARER</td>\n",
       "      <td>financial typology: money saver</td>\n",
       "      <td>NaN</td>\n",
       "    </tr>\n",
       "    <tr>\n",
       "      <th>NaN</th>\n",
       "      <td>NaN</td>\n",
       "      <td>FINANZ_VORSORGER</td>\n",
       "      <td>financial typology: be prepared</td>\n",
       "      <td>NaN</td>\n",
       "    </tr>\n",
       "    <tr>\n",
       "      <th>NaN</th>\n",
       "      <td>NaN</td>\n",
       "      <td>FINANZ_ANLEGER</td>\n",
       "      <td>financial typology: investor</td>\n",
       "      <td>NaN</td>\n",
       "    </tr>\n",
       "    <tr>\n",
       "      <th>NaN</th>\n",
       "      <td>NaN</td>\n",
       "      <td>FINANZ_UNAUFFAELLIGER</td>\n",
       "      <td>financial typology: unremarkable</td>\n",
       "      <td>NaN</td>\n",
       "    </tr>\n",
       "    <tr>\n",
       "      <th>NaN</th>\n",
       "      <td>NaN</td>\n",
       "      <td>FINANZ_HAUSBAUER</td>\n",
       "      <td>financial typology: main focus is the own house</td>\n",
       "      <td>NaN</td>\n",
       "    </tr>\n",
       "  </tbody>\n",
       "</table>\n",
       "</div>"
      ],
      "text/plain": [
       "    Information level              Attribute  \\\n",
       "NaN               NaN               AGER_TYP   \n",
       "NaN            Person   ALTERSKATEGORIE_GROB   \n",
       "NaN               NaN              ANREDE_KZ   \n",
       "NaN               NaN          CJT_GESAMTTYP   \n",
       "NaN               NaN      FINANZ_MINIMALIST   \n",
       "NaN               NaN          FINANZ_SPARER   \n",
       "NaN               NaN       FINANZ_VORSORGER   \n",
       "NaN               NaN         FINANZ_ANLEGER   \n",
       "NaN               NaN  FINANZ_UNAUFFAELLIGER   \n",
       "NaN               NaN       FINANZ_HAUSBAUER   \n",
       "\n",
       "                                           Description  \\\n",
       "NaN                                 best-ager typology   \n",
       "NaN                      age through prename analysis    \n",
       "NaN                                             gender   \n",
       "NaN  Customer-Journey-Typology relating to the pref...   \n",
       "NaN         financial typology: low financial interest   \n",
       "NaN                    financial typology: money saver   \n",
       "NaN                    financial typology: be prepared   \n",
       "NaN                       financial typology: investor   \n",
       "NaN                   financial typology: unremarkable   \n",
       "NaN    financial typology: main focus is the own house   \n",
       "\n",
       "                                      Additional notes  \n",
       "NaN  in cooperation with Kantar TNS; the informatio...  \n",
       "NaN  modelled on millions of first name-age-referen...  \n",
       "NaN                                                NaN  \n",
       "NaN  relating to the preferred information, marketi...  \n",
       "NaN  Gfk-Typology based on a representative househo...  \n",
       "NaN                                                NaN  \n",
       "NaN                                                NaN  \n",
       "NaN                                                NaN  \n",
       "NaN                                                NaN  \n",
       "NaN                                                NaN  "
      ]
     },
     "execution_count": 11,
     "metadata": {},
     "output_type": "execute_result"
    }
   ],
   "source": [
    "attributes_info.head(10)"
   ]
  },
  {
   "cell_type": "code",
   "execution_count": 12,
   "metadata": {},
   "outputs": [
    {
     "name": "stdout",
     "output_type": "stream",
     "text": [
      "Index(['CAMEO_DEUG_2015', 'CAMEO_INTL_2015'], dtype='object')\n"
     ]
    }
   ],
   "source": [
    "#Checking the warnings we got when loading the data\n",
    "print(azdias.columns[18:20])\n",
    "warning_cols = list(azdias.columns[18:20])"
   ]
  },
  {
   "cell_type": "code",
   "execution_count": 13,
   "metadata": {},
   "outputs": [
    {
     "data": {
      "text/html": [
       "<div>\n",
       "<style scoped>\n",
       "    .dataframe tbody tr th:only-of-type {\n",
       "        vertical-align: middle;\n",
       "    }\n",
       "\n",
       "    .dataframe tbody tr th {\n",
       "        vertical-align: top;\n",
       "    }\n",
       "\n",
       "    .dataframe thead th {\n",
       "        text-align: right;\n",
       "    }\n",
       "</style>\n",
       "<table border=\"1\" class=\"dataframe\">\n",
       "  <thead>\n",
       "    <tr style=\"text-align: right;\">\n",
       "      <th></th>\n",
       "      <th>Attribute</th>\n",
       "      <th>Description</th>\n",
       "      <th>Value</th>\n",
       "      <th>Meaning</th>\n",
       "    </tr>\n",
       "  </thead>\n",
       "  <tbody>\n",
       "    <tr>\n",
       "      <th>NaN</th>\n",
       "      <td>CAMEO_DEUG_2015</td>\n",
       "      <td>CAMEO classification 2015 - Uppergroup</td>\n",
       "      <td>-1</td>\n",
       "      <td>unknown</td>\n",
       "    </tr>\n",
       "    <tr>\n",
       "      <th>NaN</th>\n",
       "      <td>CAMEO_DEUG_2015</td>\n",
       "      <td>NaN</td>\n",
       "      <td>1</td>\n",
       "      <td>upper class</td>\n",
       "    </tr>\n",
       "    <tr>\n",
       "      <th>NaN</th>\n",
       "      <td>CAMEO_DEUG_2015</td>\n",
       "      <td>NaN</td>\n",
       "      <td>2</td>\n",
       "      <td>upper middleclass</td>\n",
       "    </tr>\n",
       "    <tr>\n",
       "      <th>NaN</th>\n",
       "      <td>CAMEO_DEUG_2015</td>\n",
       "      <td>NaN</td>\n",
       "      <td>3</td>\n",
       "      <td>established middleclasse</td>\n",
       "    </tr>\n",
       "    <tr>\n",
       "      <th>NaN</th>\n",
       "      <td>CAMEO_DEUG_2015</td>\n",
       "      <td>NaN</td>\n",
       "      <td>4</td>\n",
       "      <td>consumption-oriented middleclass</td>\n",
       "    </tr>\n",
       "    <tr>\n",
       "      <th>NaN</th>\n",
       "      <td>CAMEO_DEUG_2015</td>\n",
       "      <td>NaN</td>\n",
       "      <td>5</td>\n",
       "      <td>active middleclass</td>\n",
       "    </tr>\n",
       "    <tr>\n",
       "      <th>NaN</th>\n",
       "      <td>CAMEO_DEUG_2015</td>\n",
       "      <td>NaN</td>\n",
       "      <td>6</td>\n",
       "      <td>low-consumption middleclass</td>\n",
       "    </tr>\n",
       "    <tr>\n",
       "      <th>NaN</th>\n",
       "      <td>CAMEO_DEUG_2015</td>\n",
       "      <td>NaN</td>\n",
       "      <td>7</td>\n",
       "      <td>lower middleclass</td>\n",
       "    </tr>\n",
       "    <tr>\n",
       "      <th>NaN</th>\n",
       "      <td>CAMEO_DEUG_2015</td>\n",
       "      <td>NaN</td>\n",
       "      <td>8</td>\n",
       "      <td>working class</td>\n",
       "    </tr>\n",
       "    <tr>\n",
       "      <th>NaN</th>\n",
       "      <td>CAMEO_DEUG_2015</td>\n",
       "      <td>NaN</td>\n",
       "      <td>9</td>\n",
       "      <td>urban working class</td>\n",
       "    </tr>\n",
       "  </tbody>\n",
       "</table>\n",
       "</div>"
      ],
      "text/plain": [
       "           Attribute                             Description Value  \\\n",
       "NaN  CAMEO_DEUG_2015  CAMEO classification 2015 - Uppergroup    -1   \n",
       "NaN  CAMEO_DEUG_2015                                     NaN     1   \n",
       "NaN  CAMEO_DEUG_2015                                     NaN     2   \n",
       "NaN  CAMEO_DEUG_2015                                     NaN     3   \n",
       "NaN  CAMEO_DEUG_2015                                     NaN     4   \n",
       "NaN  CAMEO_DEUG_2015                                     NaN     5   \n",
       "NaN  CAMEO_DEUG_2015                                     NaN     6   \n",
       "NaN  CAMEO_DEUG_2015                                     NaN     7   \n",
       "NaN  CAMEO_DEUG_2015                                     NaN     8   \n",
       "NaN  CAMEO_DEUG_2015                                     NaN     9   \n",
       "\n",
       "                               Meaning  \n",
       "NaN                            unknown  \n",
       "NaN                        upper class  \n",
       "NaN                  upper middleclass  \n",
       "NaN           established middleclasse  \n",
       "NaN  consumption-oriented middleclass   \n",
       "NaN                active middleclass   \n",
       "NaN        low-consumption middleclass  \n",
       "NaN                  lower middleclass  \n",
       "NaN                      working class  \n",
       "NaN                urban working class  "
      ]
     },
     "execution_count": 13,
     "metadata": {},
     "output_type": "execute_result"
    }
   ],
   "source": [
    "attributes_values[attributes_values[\"Attribute\"] == \"CAMEO_DEUG_2015\"]"
   ]
  },
  {
   "cell_type": "code",
   "execution_count": 14,
   "metadata": {},
   "outputs": [
    {
     "data": {
      "text/html": [
       "<div>\n",
       "<style scoped>\n",
       "    .dataframe tbody tr th:only-of-type {\n",
       "        vertical-align: middle;\n",
       "    }\n",
       "\n",
       "    .dataframe tbody tr th {\n",
       "        vertical-align: top;\n",
       "    }\n",
       "\n",
       "    .dataframe thead th {\n",
       "        text-align: right;\n",
       "    }\n",
       "</style>\n",
       "<table border=\"1\" class=\"dataframe\">\n",
       "  <thead>\n",
       "    <tr style=\"text-align: right;\">\n",
       "      <th></th>\n",
       "      <th>Attribute</th>\n",
       "      <th>Description</th>\n",
       "      <th>Value</th>\n",
       "      <th>Meaning</th>\n",
       "    </tr>\n",
       "  </thead>\n",
       "  <tbody>\n",
       "    <tr>\n",
       "      <th>NaN</th>\n",
       "      <td>CAMEO_DEUINTL_2015</td>\n",
       "      <td>CAMEO classification 2015 - international typo...</td>\n",
       "      <td>-1</td>\n",
       "      <td>unknown</td>\n",
       "    </tr>\n",
       "    <tr>\n",
       "      <th>NaN</th>\n",
       "      <td>CAMEO_DEUINTL_2015</td>\n",
       "      <td>(each German CAMEO code belongs to one interna...</td>\n",
       "      <td>11</td>\n",
       "      <td>Wealthy Households-Pre-Family Couples &amp; Singles</td>\n",
       "    </tr>\n",
       "    <tr>\n",
       "      <th>NaN</th>\n",
       "      <td>CAMEO_DEUINTL_2015</td>\n",
       "      <td>NaN</td>\n",
       "      <td>12</td>\n",
       "      <td>Wealthy Households-Young Couples With Children</td>\n",
       "    </tr>\n",
       "    <tr>\n",
       "      <th>NaN</th>\n",
       "      <td>CAMEO_DEUINTL_2015</td>\n",
       "      <td>NaN</td>\n",
       "      <td>13</td>\n",
       "      <td>Wealthy Households-Families With School Age Ch...</td>\n",
       "    </tr>\n",
       "    <tr>\n",
       "      <th>NaN</th>\n",
       "      <td>CAMEO_DEUINTL_2015</td>\n",
       "      <td>NaN</td>\n",
       "      <td>14</td>\n",
       "      <td>Wealthy Households-Older Families &amp;  Mature Co...</td>\n",
       "    </tr>\n",
       "    <tr>\n",
       "      <th>NaN</th>\n",
       "      <td>CAMEO_DEUINTL_2015</td>\n",
       "      <td>NaN</td>\n",
       "      <td>15</td>\n",
       "      <td>Wealthy Households-Elders In Retirement</td>\n",
       "    </tr>\n",
       "    <tr>\n",
       "      <th>NaN</th>\n",
       "      <td>CAMEO_DEUINTL_2015</td>\n",
       "      <td>NaN</td>\n",
       "      <td>21</td>\n",
       "      <td>Prosperous Households-Pre-Family Couples &amp; Sin...</td>\n",
       "    </tr>\n",
       "    <tr>\n",
       "      <th>NaN</th>\n",
       "      <td>CAMEO_DEUINTL_2015</td>\n",
       "      <td>NaN</td>\n",
       "      <td>22</td>\n",
       "      <td>Prosperous Households-Young Couples With Children</td>\n",
       "    </tr>\n",
       "    <tr>\n",
       "      <th>NaN</th>\n",
       "      <td>CAMEO_DEUINTL_2015</td>\n",
       "      <td>NaN</td>\n",
       "      <td>23</td>\n",
       "      <td>Prosperous Households-Families With School Age...</td>\n",
       "    </tr>\n",
       "    <tr>\n",
       "      <th>NaN</th>\n",
       "      <td>CAMEO_DEUINTL_2015</td>\n",
       "      <td>NaN</td>\n",
       "      <td>24</td>\n",
       "      <td>Prosperous Households-Older Families &amp; Mature ...</td>\n",
       "    </tr>\n",
       "    <tr>\n",
       "      <th>NaN</th>\n",
       "      <td>CAMEO_DEUINTL_2015</td>\n",
       "      <td>NaN</td>\n",
       "      <td>25</td>\n",
       "      <td>Prosperous Households-Elders In Retirement</td>\n",
       "    </tr>\n",
       "    <tr>\n",
       "      <th>NaN</th>\n",
       "      <td>CAMEO_DEUINTL_2015</td>\n",
       "      <td>NaN</td>\n",
       "      <td>31</td>\n",
       "      <td>Comfortable Households-Pre-Family Couples &amp; Si...</td>\n",
       "    </tr>\n",
       "    <tr>\n",
       "      <th>NaN</th>\n",
       "      <td>CAMEO_DEUINTL_2015</td>\n",
       "      <td>NaN</td>\n",
       "      <td>32</td>\n",
       "      <td>Comfortable Households-Young Couples With Chil...</td>\n",
       "    </tr>\n",
       "    <tr>\n",
       "      <th>NaN</th>\n",
       "      <td>CAMEO_DEUINTL_2015</td>\n",
       "      <td>NaN</td>\n",
       "      <td>33</td>\n",
       "      <td>Comfortable Households-Families With School Ag...</td>\n",
       "    </tr>\n",
       "    <tr>\n",
       "      <th>NaN</th>\n",
       "      <td>CAMEO_DEUINTL_2015</td>\n",
       "      <td>NaN</td>\n",
       "      <td>34</td>\n",
       "      <td>Comfortable Households-Older Families &amp; Mature...</td>\n",
       "    </tr>\n",
       "    <tr>\n",
       "      <th>NaN</th>\n",
       "      <td>CAMEO_DEUINTL_2015</td>\n",
       "      <td>NaN</td>\n",
       "      <td>35</td>\n",
       "      <td>Comfortable Households-Elders In Retirement</td>\n",
       "    </tr>\n",
       "    <tr>\n",
       "      <th>NaN</th>\n",
       "      <td>CAMEO_DEUINTL_2015</td>\n",
       "      <td>NaN</td>\n",
       "      <td>41</td>\n",
       "      <td>Less Affluent Households-Pre-Family Couples &amp; ...</td>\n",
       "    </tr>\n",
       "    <tr>\n",
       "      <th>NaN</th>\n",
       "      <td>CAMEO_DEUINTL_2015</td>\n",
       "      <td>NaN</td>\n",
       "      <td>42</td>\n",
       "      <td>Less Affluent Households-Young Couples With Ch...</td>\n",
       "    </tr>\n",
       "    <tr>\n",
       "      <th>NaN</th>\n",
       "      <td>CAMEO_DEUINTL_2015</td>\n",
       "      <td>NaN</td>\n",
       "      <td>43</td>\n",
       "      <td>Less Affluent Households-Families With School ...</td>\n",
       "    </tr>\n",
       "    <tr>\n",
       "      <th>NaN</th>\n",
       "      <td>CAMEO_DEUINTL_2015</td>\n",
       "      <td>NaN</td>\n",
       "      <td>44</td>\n",
       "      <td>Less Affluent Households-Older Families &amp; Matu...</td>\n",
       "    </tr>\n",
       "    <tr>\n",
       "      <th>NaN</th>\n",
       "      <td>CAMEO_DEUINTL_2015</td>\n",
       "      <td>NaN</td>\n",
       "      <td>45</td>\n",
       "      <td>Less Affluent Households-Elders In Retirement</td>\n",
       "    </tr>\n",
       "    <tr>\n",
       "      <th>NaN</th>\n",
       "      <td>CAMEO_DEUINTL_2015</td>\n",
       "      <td>NaN</td>\n",
       "      <td>51</td>\n",
       "      <td>Poorer Households-Pre-Family Couples &amp; Singles</td>\n",
       "    </tr>\n",
       "    <tr>\n",
       "      <th>NaN</th>\n",
       "      <td>CAMEO_DEUINTL_2015</td>\n",
       "      <td>NaN</td>\n",
       "      <td>52</td>\n",
       "      <td>Poorer Households-Young Couples With Children</td>\n",
       "    </tr>\n",
       "    <tr>\n",
       "      <th>NaN</th>\n",
       "      <td>CAMEO_DEUINTL_2015</td>\n",
       "      <td>NaN</td>\n",
       "      <td>53</td>\n",
       "      <td>Poorer Households-Families With School Age Chi...</td>\n",
       "    </tr>\n",
       "    <tr>\n",
       "      <th>NaN</th>\n",
       "      <td>CAMEO_DEUINTL_2015</td>\n",
       "      <td>NaN</td>\n",
       "      <td>54</td>\n",
       "      <td>Poorer Households-Older Families &amp; Mature Couples</td>\n",
       "    </tr>\n",
       "    <tr>\n",
       "      <th>NaN</th>\n",
       "      <td>CAMEO_DEUINTL_2015</td>\n",
       "      <td>NaN</td>\n",
       "      <td>55</td>\n",
       "      <td>Poorer Households-Elders In Retirement</td>\n",
       "    </tr>\n",
       "  </tbody>\n",
       "</table>\n",
       "</div>"
      ],
      "text/plain": [
       "              Attribute                                        Description  \\\n",
       "NaN  CAMEO_DEUINTL_2015  CAMEO classification 2015 - international typo...   \n",
       "NaN  CAMEO_DEUINTL_2015  (each German CAMEO code belongs to one interna...   \n",
       "NaN  CAMEO_DEUINTL_2015                                                NaN   \n",
       "NaN  CAMEO_DEUINTL_2015                                                NaN   \n",
       "NaN  CAMEO_DEUINTL_2015                                                NaN   \n",
       "NaN  CAMEO_DEUINTL_2015                                                NaN   \n",
       "NaN  CAMEO_DEUINTL_2015                                                NaN   \n",
       "NaN  CAMEO_DEUINTL_2015                                                NaN   \n",
       "NaN  CAMEO_DEUINTL_2015                                                NaN   \n",
       "NaN  CAMEO_DEUINTL_2015                                                NaN   \n",
       "NaN  CAMEO_DEUINTL_2015                                                NaN   \n",
       "NaN  CAMEO_DEUINTL_2015                                                NaN   \n",
       "NaN  CAMEO_DEUINTL_2015                                                NaN   \n",
       "NaN  CAMEO_DEUINTL_2015                                                NaN   \n",
       "NaN  CAMEO_DEUINTL_2015                                                NaN   \n",
       "NaN  CAMEO_DEUINTL_2015                                                NaN   \n",
       "NaN  CAMEO_DEUINTL_2015                                                NaN   \n",
       "NaN  CAMEO_DEUINTL_2015                                                NaN   \n",
       "NaN  CAMEO_DEUINTL_2015                                                NaN   \n",
       "NaN  CAMEO_DEUINTL_2015                                                NaN   \n",
       "NaN  CAMEO_DEUINTL_2015                                                NaN   \n",
       "NaN  CAMEO_DEUINTL_2015                                                NaN   \n",
       "NaN  CAMEO_DEUINTL_2015                                                NaN   \n",
       "NaN  CAMEO_DEUINTL_2015                                                NaN   \n",
       "NaN  CAMEO_DEUINTL_2015                                                NaN   \n",
       "NaN  CAMEO_DEUINTL_2015                                                NaN   \n",
       "\n",
       "    Value                                            Meaning  \n",
       "NaN    -1                                            unknown  \n",
       "NaN    11    Wealthy Households-Pre-Family Couples & Singles  \n",
       "NaN    12     Wealthy Households-Young Couples With Children  \n",
       "NaN    13  Wealthy Households-Families With School Age Ch...  \n",
       "NaN    14  Wealthy Households-Older Families &  Mature Co...  \n",
       "NaN    15            Wealthy Households-Elders In Retirement  \n",
       "NaN    21  Prosperous Households-Pre-Family Couples & Sin...  \n",
       "NaN    22  Prosperous Households-Young Couples With Children  \n",
       "NaN    23  Prosperous Households-Families With School Age...  \n",
       "NaN    24  Prosperous Households-Older Families & Mature ...  \n",
       "NaN    25         Prosperous Households-Elders In Retirement  \n",
       "NaN    31  Comfortable Households-Pre-Family Couples & Si...  \n",
       "NaN    32  Comfortable Households-Young Couples With Chil...  \n",
       "NaN    33  Comfortable Households-Families With School Ag...  \n",
       "NaN    34  Comfortable Households-Older Families & Mature...  \n",
       "NaN    35        Comfortable Households-Elders In Retirement  \n",
       "NaN    41  Less Affluent Households-Pre-Family Couples & ...  \n",
       "NaN    42  Less Affluent Households-Young Couples With Ch...  \n",
       "NaN    43  Less Affluent Households-Families With School ...  \n",
       "NaN    44  Less Affluent Households-Older Families & Matu...  \n",
       "NaN    45      Less Affluent Households-Elders In Retirement  \n",
       "NaN    51     Poorer Households-Pre-Family Couples & Singles  \n",
       "NaN    52      Poorer Households-Young Couples With Children  \n",
       "NaN    53  Poorer Households-Families With School Age Chi...  \n",
       "NaN    54  Poorer Households-Older Families & Mature Couples  \n",
       "NaN    55             Poorer Households-Elders In Retirement  "
      ]
     },
     "execution_count": 14,
     "metadata": {},
     "output_type": "execute_result"
    }
   ],
   "source": [
    "#Checking the \"CAMEO_INTL_2015\"  attributes which is named as \"CAMEO_DEUINTL_2015\" in the excel sheet\n",
    "attributes_values[attributes_values[\"Attribute\"] == \"CAMEO_DEUINTL_2015\"]"
   ]
  },
  {
   "cell_type": "markdown",
   "metadata": {},
   "source": [
    "Its is possible to conclude that these two columns must have values in the range given in the \"Value\" column: -1 for unknown and positive for corresponding categories."
   ]
  },
  {
   "cell_type": "code",
   "execution_count": 15,
   "metadata": {},
   "outputs": [
    {
     "data": {
      "text/plain": [
       "array([nan, 8.0, 4.0, 2.0, 6.0, 1.0, 9.0, 5.0, 7.0, 3.0, '4', '3', '7',\n",
       "       '2', '8', '9', '6', '5', '1', 'X'], dtype=object)"
      ]
     },
     "execution_count": 15,
     "metadata": {},
     "output_type": "execute_result"
    }
   ],
   "source": [
    "#Checking the unique values in the dataframes\n",
    "azdias[warning_cols[0]].unique()"
   ]
  },
  {
   "cell_type": "code",
   "execution_count": 16,
   "metadata": {},
   "outputs": [
    {
     "data": {
      "text/plain": [
       "array([nan, 51.0, 24.0, 12.0, 43.0, 54.0, 22.0, 14.0, 13.0, 15.0, 33.0,\n",
       "       41.0, 34.0, 55.0, 25.0, 23.0, 31.0, 52.0, 35.0, 45.0, 44.0, 32.0,\n",
       "       '22', '24', '41', '12', '54', '51', '44', '35', '23', '25', '14',\n",
       "       '34', '52', '55', '31', '32', '15', '13', '43', '33', '45', 'XX'], dtype=object)"
      ]
     },
     "execution_count": 16,
     "metadata": {},
     "output_type": "execute_result"
    }
   ],
   "source": [
    "#Checking the unique values in the dataframes\n",
    "azdias[warning_cols[1]].unique()"
   ]
  },
  {
   "cell_type": "code",
   "execution_count": 17,
   "metadata": {},
   "outputs": [
    {
     "data": {
      "text/plain": [
       "array([1.0, nan, 5.0, 4.0, 7.0, 3.0, 9.0, 2.0, 6.0, 8.0, '6', '3', '8',\n",
       "       '9', '2', '4', '1', '7', '5', 'X'], dtype=object)"
      ]
     },
     "execution_count": 17,
     "metadata": {},
     "output_type": "execute_result"
    }
   ],
   "source": [
    "#Checking the unique values in the dataframes\n",
    "customers[warning_cols[0]].unique()"
   ]
  },
  {
   "cell_type": "code",
   "execution_count": 18,
   "metadata": {},
   "outputs": [
    {
     "data": {
      "text/plain": [
       "array([13.0, nan, 34.0, 24.0, 41.0, 23.0, 15.0, 55.0, 14.0, 22.0, 43.0,\n",
       "       51.0, 33.0, 25.0, 44.0, 54.0, 32.0, 12.0, 35.0, 31.0, 45.0, 52.0,\n",
       "       '45', '25', '55', '51', '14', '54', '43', '22', '15', '24', '35',\n",
       "       '23', '12', '44', '41', '52', '31', '13', '34', '32', '33', 'XX'], dtype=object)"
      ]
     },
     "execution_count": 18,
     "metadata": {},
     "output_type": "execute_result"
    }
   ],
   "source": [
    "#Checking the unique values in the dataframes\n",
    "customers[warning_cols[1]].unique()"
   ]
  },
  {
   "cell_type": "markdown",
   "metadata": {},
   "source": [
    "There are null values and some 'X' and 'XX' values that are not given in the description.\n",
    "\n",
    "These values can be replaced with 'np.nan', as in the attributes dataframe it is described that any unknown values can be treated as '-1' but for simpicity we can consider this '-1' as 'np.nan'. Also there is inconsistency in the values i.e. some of them are strings and some of them are floats. We can to convert all of them into integers."
   ]
  },
  {
   "cell_type": "code",
   "execution_count": 19,
   "metadata": {},
   "outputs": [],
   "source": [
    "def fixing_cameo_columns(df):\n",
    "    \"\"\"\n",
    "    Function to replace 'X', 'XX' and 'nan' values with -1 in \n",
    "    columns 18 and 19 i.e. ['CAMEO_DEUG_2015', 'CAMEO_INTL_2015'] \n",
    "    \n",
    "    Also \"CAMEO_DEU_2015\", but it is dropped in later steps.\n",
    "    \"\"\"\n",
    "    cols = [\"CAMEO_DEUG_2015\", \"CAMEO_INTL_2015\"]\n",
    "    \n",
    "    df[cols] = df[cols].replace({\"X\": np.nan, \"XX\": np.nan})\n",
    "    df[cols] = df[cols].astype(float)\n",
    "    \n",
    "    return df\n",
    "\n",
    "customers = fixing_cameo_columns(customers)\n",
    "azdias = fixing_cameo_columns(azdias)"
   ]
  },
  {
   "cell_type": "code",
   "execution_count": 20,
   "metadata": {},
   "outputs": [
    {
     "data": {
      "text/plain": [
       "array([ nan,  51.,  24.,  12.,  43.,  54.,  22.,  14.,  13.,  15.,  33.,\n",
       "        41.,  34.,  55.,  25.,  23.,  31.,  52.,  35.,  45.,  44.,  32.])"
      ]
     },
     "execution_count": 20,
     "metadata": {},
     "output_type": "execute_result"
    }
   ],
   "source": [
    "#Checking the unique values in the dataframes\n",
    "azdias[warning_cols[1]].unique()"
   ]
  },
  {
   "cell_type": "code",
   "execution_count": 21,
   "metadata": {},
   "outputs": [
    {
     "data": {
      "text/plain": [
       "array([ 13.,  nan,  34.,  24.,  41.,  23.,  15.,  55.,  14.,  22.,  43.,\n",
       "        51.,  33.,  25.,  44.,  54.,  32.,  12.,  35.,  31.,  45.,  52.])"
      ]
     },
     "execution_count": 21,
     "metadata": {},
     "output_type": "execute_result"
    }
   ],
   "source": [
    "#Checking the unique values in the dataframes\n",
    "customers[warning_cols[1]].unique()"
   ]
  },
  {
   "cell_type": "code",
   "execution_count": 22,
   "metadata": {},
   "outputs": [
    {
     "name": "stdout",
     "output_type": "stream",
     "text": [
      "(891221, 366) (191652, 369)\n"
     ]
    }
   ],
   "source": [
    "#Checkig again the shape of the dataframes\n",
    "print(azdias.shape, customers.shape)"
   ]
  },
  {
   "cell_type": "markdown",
   "metadata": {},
   "source": [
    "#### Checking the similarity in the dataframes"
   ]
  },
  {
   "cell_type": "code",
   "execution_count": 23,
   "metadata": {},
   "outputs": [],
   "source": [
    "#Converting the columns to lists\n",
    "attributes_list  = attributes_values.Attribute.unique().tolist()\n",
    "azdias_list = list(azdias.columns)\n",
    "customers_list = list(customers.columns)"
   ]
  },
  {
   "cell_type": "code",
   "execution_count": 24,
   "metadata": {},
   "outputs": [
    {
     "name": "stdout",
     "output_type": "stream",
     "text": [
      "No of columns common to all 3 daframes:  272\n",
      "No of columns specific to azdias: 0\n",
      "No of columns specific to customers: 3\n",
      "No of columns specific to attributes: 42\n",
      "No of columns common between azdias and attributes: 272\n",
      "No of columns exclusive to attributes vs azdias: 42\n",
      "No of columns exclusive to azdias vs attributes: 42\n"
     ]
    }
   ],
   "source": [
    "#Calculating the similatiry metrics\n",
    "common_to_all = (set(attributes_list) & set(azdias_list) & set(customers_list))\n",
    "unique_to_azdias = (set(azdias_list) - set(attributes_list) - set(customers_list))\n",
    "unique_to_customers = (set(customers_list) - set(attributes_list) - set(azdias_list))\n",
    "unique_to_attributes = (set(attributes_list) - set(customers_list) - set(azdias_list))\n",
    "unique_to_attributes_vs_azdias = (set(attributes_list) - set(azdias_list))\n",
    "unique_to_azdias_vs_attributes = (set(attributes_list) - set(azdias_list))\n",
    "common_azdias_attributes = (set(azdias_list) & set(attributes_list))\n",
    "\n",
    "print(\"No of columns common to all 3 daframes: \", str(len(common_to_all)))\n",
    "print(\"No of columns specific to azdias: \" + str(len(unique_to_azdias)))\n",
    "print(\"No of columns specific to customers: \" + str(len(unique_to_customers)))\n",
    "print(\"No of columns specific to attributes: \" + str(len(unique_to_attributes)))\n",
    "print(\"No of columns common between azdias and attributes: \" + str(len(common_azdias_attributes)))\n",
    "print(\"No of columns exclusive to attributes vs azdias: \" + str(len(unique_to_attributes_vs_azdias)))\n",
    "print(\"No of columns exclusive to azdias vs attributes: \" + str(len(unique_to_azdias_vs_attributes)))"
   ]
  },
  {
   "cell_type": "markdown",
   "metadata": {},
   "source": [
    "We found 42 columns that are in the attributes files but not in the azdias nor customer. This might be due to recording issues. We are not going further to understand why, instead we are going to ignore it and consider only the 272 columns that are common to all 3 dataframes."
   ]
  },
  {
   "cell_type": "markdown",
   "metadata": {},
   "source": [
    "#### Data Cleaning and Feature Engineering"
   ]
  },
  {
   "cell_type": "markdown",
   "metadata": {},
   "source": [
    "The first cleaning we are going to make is to clean the LP columns (LP_FAMILIE_*, LP_FAMILIE_*, LP_LEBENSPHASE_*) since they have some strange values that have not been specified in the attributes"
   ]
  },
  {
   "cell_type": "code",
   "execution_count": 25,
   "metadata": {},
   "outputs": [
    {
     "name": "stdout",
     "output_type": "stream",
     "text": [
      "[  2.   5.   1.   0.  10.   7.  11.   3.   8.   4.   6.  nan   9.]\n",
      "[  2.   3.   1.   0.   5.   4.  nan]\n",
      "[  1.   2.   4.   5.   3.  nan]\n",
      "[  4.   6.   1.   0.  10.   2.   3.   5.   7.  12.  11.   9.   8.  nan]\n",
      "[ 15.  21.   3.   0.  32.   8.   2.   5.  10.   4.   6.  23.  12.  20.   1.\n",
      "  11.  25.  13.   7.  18.  31.  19.  38.  35.  30.  22.  14.  33.  29.  24.\n",
      "  28.  37.  26.  39.  27.  36.   9.  34.  nan  40.  16.  17.]\n",
      "[  1.   2.   3.   9.   4.  10.   5.   8.   6.   7.  nan]\n"
     ]
    }
   ],
   "source": [
    "print(azdias.LP_FAMILIE_FEIN.unique())\n",
    "\n",
    "print(azdias.LP_FAMILIE_GROB.unique())\n",
    "\n",
    "print(azdias.LP_STATUS_GROB.unique())\n",
    "\n",
    "print(azdias.LP_LEBENSPHASE_GROB.unique())\n",
    "\n",
    "print(azdias.LP_LEBENSPHASE_FEIN.unique())\n",
    "\n",
    "print(azdias.LP_STATUS_FEIN.unique())"
   ]
  },
  {
   "cell_type": "markdown",
   "metadata": {},
   "source": [
    "All of them contains 0 which does not corresponde to any category in the attributes files. for this reason we are going to address this no null. <br>\n",
    "\n",
    "Also, in these columns there is a lot of information that can be removed or changed since it is somehow duplicated, like:\n",
    "\n",
    "LP_FAMILIE_FEIN and LP_STATUS_FEIN give a fine categorization of the family type and family status. The same information in a broader spectrum is given by LP_FAMILIE_GROB and LP_STATUS_GROB.\n",
    "\n",
    "LP_LEBENSPHASE_GROB gives overall description of the life stage the person is in with respect to age and wealth and LP_LEBENSPHASE_FEIN gives a fine categorization of the persons age and financial status. Which means, these two columns are representing same information twice. Therefore, LP_LEBENSPHASE_GROB and LP_LEBENSPHASE_FEIN are restructed so that one of them contains information about age and the other one contains information about wealth."
   ]
  },
  {
   "cell_type": "code",
   "execution_count": 26,
   "metadata": {},
   "outputs": [],
   "source": [
    "#Fixing the LP columns\n",
    "def fixing_LP_columns(df):\n",
    "    \"\"\"\n",
    "    Function to replace 0s with nan values columns,\n",
    "    [\"LP_FAMILIE_FEIN\", \"LP_FAMILIE_GROB\", \"LP_LEBENSPHASE_FEIN\",\n",
    "           \"LP_LEBENSPHASE_GROB\", \"LP_STATUS_FEIN\", \"LP_STATUS_GROB\"]\n",
    "    \"\"\"\n",
    "    \n",
    "    # Replacing '0' with NaNs\n",
    "    cols = [\"LP_FAMILIE_FEIN\", \"LP_FAMILIE_GROB\", \"LP_LEBENSPHASE_FEIN\",\n",
    "           \"LP_LEBENSPHASE_GROB\", \"LP_STATUS_FEIN\", \"LP_STATUS_GROB\"]\n",
    "    \n",
    "    df[cols] = df[cols].replace({0: np.nan})\n",
    "    df[cols] = df[cols].astype(float)\n",
    "    \n",
    "    \n",
    "    \n",
    "    # LP_FAMILIE_GROB\n",
    "    convert_1 = {1: 'single', 2: 'couple', 3: 'singleparent', 4: 'singleparent', 5: 'singleparent', \n",
    "                  6: 'family', 7: 'family', 8: 'family', 9: 'multihousehold', 10: 'multihousehold', 11: 'multihousehold'}\n",
    "    convert_2 = {'single':0, 'couple':1, 'singleparent':2, 'family':3, 'multihousehold':4}\n",
    "    \n",
    "    df[\"LP_FAMILIE_GROB\"] = df[\"LP_FAMILIE_GROB\"].map(convert_1)\n",
    "    df[\"LP_FAMILIE_GROB\"] = df[\"LP_FAMILIE_GROB\"].map(convert_2)\n",
    "    \n",
    "    # LP_STATUS_GROB    \n",
    "    convert_1 = {1: 'lowincome', 2: 'lowincome', 3: 'avgincome', 4: 'avgincome', 5: 'avgincome', \n",
    "                  6: 'independant', 7: 'independant', 8: 'houseowner', 9: 'houseowner', 10: 'topearner'}\n",
    "    convert_2 = {'lowincome':0, 'avgincome':1, 'independant':2, 'houseowner':3, 'topearner':4}\n",
    "    \n",
    "    df[\"LP_STATUS_GROB\"] = df[\"LP_STATUS_GROB\"].map(convert_1)\n",
    "    df[\"LP_STATUS_GROB\"] = df[\"LP_STATUS_GROB\"].map(convert_2)\n",
    "    \n",
    "    \n",
    "    # LP_LEBENSPHASE_FEIN\n",
    "    life_stages = {1: 'younger_age', 2: 'middle_age', 3: 'younger_age',\n",
    "              4: 'middle_age', 5: 'advanced_age', 6: 'retirement_age',\n",
    "              7: 'advanced_age', 8: 'retirement_age', 9: 'middle_age',\n",
    "              10: 'middle_age', 11: 'advanced_age', 12: 'retirement_age',\n",
    "              13: 'advanced_age', 14: 'younger_age', 15: 'advanced_age',\n",
    "              16: 'advanced_age', 17: 'middle_age', 18: 'younger_age',\n",
    "              19: 'advanced_age', 20: 'advanced_age', 21: 'middle_age',\n",
    "              22: 'middle_age', 23: 'middle_age', 24: 'middle_age',\n",
    "              25: 'middle_age', 26: 'middle_age', 27: 'middle_age',\n",
    "              28: 'middle_age', 29: 'younger_age', 30: 'younger_age',\n",
    "              31: 'advanced_age', 32: 'advanced_age', 33: 'younger_age',\n",
    "              34: 'younger_age', 35: 'younger_age', 36: 'advanced_age',\n",
    "              37: 'advanced_age', 38: 'retirement_age', 39: 'middle_age',\n",
    "              40: 'retirement_age'}\n",
    "\n",
    "    wealth_scale = {1: 'low', 2: 'low', 3: 'average', 4: 'average', 5: 'low', 6: 'low',\n",
    "              7: 'average', 8: 'average', 9: 'average', 10: 'wealthy', 11: 'average',\n",
    "              12: 'average', 13: 'top', 14: 'average', 15: 'low', 16: 'average',\n",
    "              17: 'average', 18: 'wealthy', 19: 'wealthy', 20: 'top', 21: 'low',\n",
    "              22: 'average', 23: 'wealthy', 24: 'low', 25: 'average', 26: 'average',\n",
    "              27: 'average', 28: 'top', 29: 'low', 30: 'average', 31: 'low',\n",
    "              32: 'average', 33: 'average', 34: 'average', 35: 'top', 36: 'average',\n",
    "              37: 'average', 38: 'average', 39: 'top', 40: 'top'}\n",
    "    \n",
    "    df[\"Temp\"] = df[\"LP_LEBENSPHASE_FEIN\"]\n",
    "    \n",
    "    df[\"LP_LEBENSPHASE_FEIN\"] = df[\"LP_LEBENSPHASE_FEIN\"].map(life_stages)\n",
    "    df[\"LP_LEBENSPHASE_GROB\"] = df[\"Temp\"].map(wealth_scale)\n",
    "    \n",
    "    life_stages = {'younger_age': 1, 'middle_age': 2, 'advanced_age': 3,\n",
    "            'retirement_age': 4}\n",
    "    wealth_scale = {'low': 1, 'average': 2, 'wealthy': 3, 'top': 4}\n",
    "    \n",
    "    df[\"LP_LEBENSPHASE_FEIN\"] = df[\"LP_LEBENSPHASE_FEIN\"].map(life_stages)\n",
    "    df[\"LP_LEBENSPHASE_GROB\"] = df[\"LP_LEBENSPHASE_GROB\"].map(wealth_scale)\n",
    "        \n",
    "\n",
    "    return df\n",
    "\n",
    "customers = fixing_LP_columns(customers)\n",
    "azdias = fixing_LP_columns(azdias)"
   ]
  },
  {
   "cell_type": "markdown",
   "metadata": {},
   "source": [
    "Column EINGEFUEGT_AM containes the date on which the entry was made. Althoug there is no specific description given about this column, we are goint to convert it into a datetime object to see its distribution."
   ]
  },
  {
   "cell_type": "code",
   "execution_count": 27,
   "metadata": {},
   "outputs": [],
   "source": [
    "def fixing_eigefugt_column(df):\n",
    "    \n",
    "    df[\"EINGEFUEGT_AM\"] = pd.to_datetime(df[\"EINGEFUEGT_AM\"])\n",
    "    df[\"EINGEFUEGT_AM\"] = df['EINGEFUEGT_AM'].map(lambda x: x.year)\n",
    "    \n",
    "    return df\n",
    "\n",
    "customers = fixing_eigefugt_column(customers)\n",
    "azdias = fixing_eigefugt_column(azdias)"
   ]
  },
  {
   "cell_type": "code",
   "execution_count": 28,
   "metadata": {},
   "outputs": [
    {
     "name": "stdout",
     "output_type": "stream",
     "text": [
      "232\n"
     ]
    }
   ],
   "source": [
    "#Fixing the unknown values\n",
    "#Checking the number of unknowns\n",
    "unknown_attributes_values = attributes_values[attributes_values[\"Meaning\"] == \"unknown\"]\n",
    "print(len(unknown_attributes_values))"
   ]
  },
  {
   "cell_type": "markdown",
   "metadata": {},
   "source": [
    "We have 232 columns which have unknown values. These values in the columns need to be replaced with NaN values."
   ]
  },
  {
   "cell_type": "code",
   "execution_count": 29,
   "metadata": {},
   "outputs": [],
   "source": [
    "#Getting the unknow representation\n",
    "def get_unknown_repr(attrib, unknown_attributes_values):\n",
    "    \"\"\"Returns the representation of unknown values\"\"\"\n",
    "    \n",
    "    unknown = unknown_attributes_values[unknown_attributes_values[\"Attribute\"] == attrib][\"Value\"]\n",
    "    unknown = unknown.astype(str).str.cat(sep=\",\")\n",
    "    unknown = [int(x) for x in unknown.split(\",\")]\n",
    "      \n",
    "    return [unknown]"
   ]
  },
  {
   "cell_type": "code",
   "execution_count": 30,
   "metadata": {},
   "outputs": [],
   "source": [
    "#Replacing the unknow with nan whem there is representation\n",
    "def replace_unknown_with_nan(val, unknown):\n",
    "    \"\"\"Replaces unknown values with np.nan values if the value mathes with the unknown representation\"\"\"\n",
    "    if val in unknown:\n",
    "        return np.nan\n",
    "    else:\n",
    "        return val"
   ]
  },
  {
   "cell_type": "code",
   "execution_count": 31,
   "metadata": {},
   "outputs": [
    {
     "name": "stdout",
     "output_type": "stream",
     "text": [
      "Replacing [[-1]] to NaN in Attribute AGER_TYP\n",
      "Replacing [[-1, 0]] to NaN in Attribute ALTERSKATEGORIE_GROB\n",
      "Replacing [[-1, 0]] to NaN in Attribute ANREDE_KZ\n",
      "Replacing [[-1]] to NaN in Attribute BALLRAUM\n",
      "Replacing [[-1]] to NaN in Attribute BIP_FLAG\n",
      "Replacing [[-1]] to NaN in Attribute CAMEO_DEUG_2015\n",
      "Replacing [[-1]] to NaN in Attribute CAMEO_DEUINTL_2015\n",
      "Replacing [[0]] to NaN in Attribute CJT_GESAMTTYP\n",
      "Replacing [[-1]] to NaN in Attribute D19_KK_KUNDENTYP\n",
      "Replacing [[-1]] to NaN in Attribute EWDICHTE\n",
      "Replacing [[-1]] to NaN in Attribute FINANZTYP\n",
      "Replacing [[-1]] to NaN in Attribute FINANZ_ANLEGER\n",
      "Replacing [[-1]] to NaN in Attribute FINANZ_HAUSBAUER\n",
      "Replacing [[-1]] to NaN in Attribute FINANZ_MINIMALIST\n",
      "Replacing [[-1]] to NaN in Attribute FINANZ_SPARER\n",
      "Replacing [[-1]] to NaN in Attribute FINANZ_UNAUFFAELLIGER\n",
      "Replacing [[-1]] to NaN in Attribute FINANZ_VORSORGER\n",
      "Replacing [[-1, 0]] to NaN in Attribute GEBAEUDETYP\n",
      "Replacing [[-1, 0]] to NaN in Attribute GEOSCORE_KLS7\n",
      "Replacing [[-1, 0]] to NaN in Attribute HAUSHALTSSTRUKTUR\n",
      "Replacing [[-1]] to NaN in Attribute HEALTH_TYP\n",
      "Replacing [[-1, 0]] to NaN in Attribute HH_EINKOMMEN_SCORE\n",
      "Replacing [[-1]] to NaN in Attribute INNENSTADT\n",
      "Replacing [[-1, 9]] to NaN in Attribute KBA05_ALTER1\n",
      "Replacing [[-1, 9]] to NaN in Attribute KBA05_ALTER2\n",
      "Replacing [[-1, 9]] to NaN in Attribute KBA05_ALTER3\n",
      "Replacing [[-1, 9]] to NaN in Attribute KBA05_ALTER4\n",
      "Replacing [[-1, 9]] to NaN in Attribute KBA05_ANHANG\n",
      "Replacing [[-1]] to NaN in Attribute KBA05_ANTG1\n",
      "Replacing [[-1]] to NaN in Attribute KBA05_ANTG2\n",
      "Replacing [[-1]] to NaN in Attribute KBA05_ANTG3\n",
      "Replacing [[-1]] to NaN in Attribute KBA05_ANTG4\n",
      "Replacing [[-1, 9]] to NaN in Attribute KBA05_AUTOQUOT\n",
      "Replacing [[-1, 0]] to NaN in Attribute KBA05_BAUMAX\n",
      "Replacing [[-1, 9]] to NaN in Attribute KBA05_CCM1\n",
      "Replacing [[-1, 9]] to NaN in Attribute KBA05_CCM2\n",
      "Replacing [[-1, 9]] to NaN in Attribute KBA05_CCM3\n",
      "Replacing [[-1, 9]] to NaN in Attribute KBA05_CCM4\n",
      "Replacing [[-1, 9]] to NaN in Attribute KBA05_DIESEL\n",
      "Replacing [[-1, 9]] to NaN in Attribute KBA05_FRAU\n",
      "Replacing [[-1, 0]] to NaN in Attribute KBA05_GBZ\n",
      "Replacing [[-1, 9]] to NaN in Attribute KBA05_HERST1\n",
      "Replacing [[-1, 9]] to NaN in Attribute KBA05_HERST2\n",
      "Replacing [[-1, 9]] to NaN in Attribute KBA05_HERST3\n",
      "Replacing [[-1, 9]] to NaN in Attribute KBA05_HERST4\n",
      "Replacing [[-1, 9]] to NaN in Attribute KBA05_HERST5\n",
      "Replacing [[-1, 9]] to NaN in Attribute KBA05_HERSTTEMP\n",
      "Replacing [[-1, 9]] to NaN in Attribute KBA05_KRSAQUOT\n",
      "Replacing [[-1, 9]] to NaN in Attribute KBA05_KRSHERST1\n",
      "Replacing [[-1, 9]] to NaN in Attribute KBA05_KRSHERST2\n",
      "Replacing [[-1, 9]] to NaN in Attribute KBA05_KRSHERST3\n",
      "Replacing [[-1, 9]] to NaN in Attribute KBA05_KRSKLEIN\n",
      "Replacing [[-1, 9]] to NaN in Attribute KBA05_KRSOBER\n",
      "Replacing [[-1, 9]] to NaN in Attribute KBA05_KRSVAN\n",
      "Replacing [[-1, 9]] to NaN in Attribute KBA05_KRSZUL\n",
      "Replacing [[-1, 9]] to NaN in Attribute KBA05_KW1\n",
      "Replacing [[-1, 9]] to NaN in Attribute KBA05_KW2\n",
      "Replacing [[-1, 9]] to NaN in Attribute KBA05_KW3\n",
      "Replacing [[-1, 9]] to NaN in Attribute KBA05_MAXAH\n",
      "Replacing [[-1, 9]] to NaN in Attribute KBA05_MAXBJ\n",
      "Replacing [[-1, 9]] to NaN in Attribute KBA05_MAXHERST\n",
      "Replacing [[-1, 9]] to NaN in Attribute KBA05_MAXSEG\n",
      "Replacing [[-1, 9]] to NaN in Attribute KBA05_MAXVORB\n",
      "Replacing [[-1, 9]] to NaN in Attribute KBA05_MOD1\n",
      "Replacing [[-1, 9]] to NaN in Attribute KBA05_MOD2\n",
      "Replacing [[-1, 9]] to NaN in Attribute KBA05_MOD3\n",
      "Replacing [[-1, 9]] to NaN in Attribute KBA05_MOD4\n",
      "Replacing [[-1, 9]] to NaN in Attribute KBA05_MOD8\n",
      "Replacing [[-1, 9]] to NaN in Attribute KBA05_MODTEMP\n",
      "Replacing [[-1, 9]] to NaN in Attribute KBA05_MOTOR\n",
      "Replacing [[-1, 9]] to NaN in Attribute KBA05_MOTRAD\n",
      "Replacing [[-1, 9]] to NaN in Attribute KBA05_SEG1\n",
      "Replacing [[-1, 9]] to NaN in Attribute KBA05_SEG10\n",
      "Replacing [[-1, 9]] to NaN in Attribute KBA05_SEG2\n",
      "Replacing [[-1, 9]] to NaN in Attribute KBA05_SEG3\n",
      "Replacing [[-1, 9]] to NaN in Attribute KBA05_SEG4\n",
      "Replacing [[-1, 9]] to NaN in Attribute KBA05_SEG5\n",
      "Replacing [[-1, 9]] to NaN in Attribute KBA05_SEG6\n",
      "Replacing [[-1, 9]] to NaN in Attribute KBA05_SEG7\n",
      "Replacing [[-1, 9]] to NaN in Attribute KBA05_SEG8\n",
      "Replacing [[-1, 9]] to NaN in Attribute KBA05_SEG9\n",
      "Replacing [[-1, 9]] to NaN in Attribute KBA05_VORB0\n",
      "Replacing [[-1, 9]] to NaN in Attribute KBA05_VORB1\n",
      "Replacing [[-1, 9]] to NaN in Attribute KBA05_VORB2\n",
      "Replacing [[-1, 9]] to NaN in Attribute KBA05_ZUL1\n",
      "Replacing [[-1, 9]] to NaN in Attribute KBA05_ZUL2\n",
      "Replacing [[-1, 9]] to NaN in Attribute KBA05_ZUL3\n",
      "Replacing [[-1, 9]] to NaN in Attribute KBA05_ZUL4\n",
      "Replacing [[-1]] to NaN in Attribute KBA13_ALTERHALTER_30\n",
      "Replacing [[-1]] to NaN in Attribute KBA13_ALTERHALTER_45\n",
      "Replacing [[-1]] to NaN in Attribute KBA13_ALTERHALTER_60\n",
      "Replacing [[-1]] to NaN in Attribute KBA13_ALTERHALTER_61\n",
      "Replacing [[-1]] to NaN in Attribute KBA13_AUDI\n",
      "Replacing [[-1]] to NaN in Attribute KBA13_AUTOQUOTE\n",
      "Replacing [[-1]] to NaN in Attribute KBA13_BJ_1999\n",
      "Replacing [[-1]] to NaN in Attribute KBA13_BJ_2000\n",
      "Replacing [[-1]] to NaN in Attribute KBA13_BJ_2004\n",
      "Replacing [[-1]] to NaN in Attribute KBA13_BJ_2006\n",
      "Replacing [[-1]] to NaN in Attribute KBA13_BJ_2008\n",
      "Replacing [[-1]] to NaN in Attribute KBA13_BJ_2009\n",
      "Replacing [[-1]] to NaN in Attribute KBA13_BMW\n",
      "Replacing [[-1]] to NaN in Attribute KBA13_CCM_1000\n",
      "Replacing [[-1]] to NaN in Attribute KBA13_CCM_1200\n",
      "Replacing [[-1]] to NaN in Attribute KBA13_CCM_1400\n",
      "Replacing [[-1]] to NaN in Attribute KBA13_CCM_0_1400\n",
      "Replacing [[-1]] to NaN in Attribute KBA13_CCM_1500\n",
      "Replacing [[-1]] to NaN in Attribute KBA13_CCM_1400_2500\n",
      "Replacing [[-1]] to NaN in Attribute KBA13_CCM_1600\n",
      "Replacing [[-1]] to NaN in Attribute KBA13_CCM_1800\n",
      "Replacing [[-1]] to NaN in Attribute KBA13_CCM_2000\n",
      "Replacing [[-1]] to NaN in Attribute KBA13_CCM_2500\n",
      "Replacing [[-1]] to NaN in Attribute KBA13_CCM_2501\n",
      "Replacing [[-1]] to NaN in Attribute KBA13_CCM_3000\n",
      "Replacing [[-1]] to NaN in Attribute KBA13_CCM_3001\n",
      "Replacing [[-1]] to NaN in Attribute KBA13_FAB_ASIEN\n",
      "Replacing [[-1]] to NaN in Attribute KBA13_FAB_SONSTIGE\n",
      "Replacing [[-1]] to NaN in Attribute KBA13_FIAT\n",
      "Replacing [[-1]] to NaN in Attribute KBA13_FORD\n",
      "Replacing [[-1]] to NaN in Attribute KBA13_HALTER_20\n",
      "Replacing [[-1]] to NaN in Attribute KBA13_HALTER_25\n",
      "Replacing [[-1]] to NaN in Attribute KBA13_HALTER_30\n",
      "Replacing [[-1]] to NaN in Attribute KBA13_HALTER_35\n",
      "Replacing [[-1]] to NaN in Attribute KBA13_HALTER_40\n",
      "Replacing [[-1]] to NaN in Attribute KBA13_HALTER_45\n",
      "Replacing [[-1]] to NaN in Attribute KBA13_HALTER_50\n",
      "Replacing [[-1]] to NaN in Attribute KBA13_HALTER_55\n",
      "Replacing [[-1]] to NaN in Attribute KBA13_HALTER_60\n",
      "Replacing [[-1]] to NaN in Attribute KBA13_HALTER_65\n",
      "Replacing [[-1]] to NaN in Attribute KBA13_HALTER_66\n",
      "Replacing [[-1]] to NaN in Attribute KBA13_HERST_ASIEN\n",
      "Replacing [[-1]] to NaN in Attribute KBA13_HERST_AUDI_VW\n",
      "Replacing [[-1]] to NaN in Attribute KBA13_HERST_BMW_BENZ\n",
      "Replacing [[-1]] to NaN in Attribute KBA13_HERST_EUROPA\n",
      "Replacing [[-1]] to NaN in Attribute KBA13_HERST_FORD_OPEL\n",
      "Replacing [[-1]] to NaN in Attribute KBA13_HERST_SONST\n",
      "Replacing [[-1]] to NaN in Attribute KBA13_KMH_110\n",
      "Replacing [[-1]] to NaN in Attribute KBA13_KMH_140\n",
      "Replacing [[-1]] to NaN in Attribute KBA13_KMH_180\n",
      "Replacing [[-1]] to NaN in Attribute KBA13_KMH_0_140\n",
      "Replacing [[-1]] to NaN in Attribute KBA13_KMH_140_210\n",
      "Replacing [[-1]] to NaN in Attribute KBA13_KMH_211\n",
      "Replacing [[-1]] to NaN in Attribute KBA13_KMH_250\n",
      "Replacing [[-1]] to NaN in Attribute KBA13_KMH_251\n",
      "Replacing [[-1]] to NaN in Attribute KBA13_KRSAQUOT\n",
      "Replacing [[-1]] to NaN in Attribute KBA13_KRSHERST_AUDI_VW\n",
      "Replacing [[-1]] to NaN in Attribute KBA13_KRSHERST_BMW_BENZ\n",
      "Replacing [[-1]] to NaN in Attribute KBA13_KRSHERST_FORD_OPEL\n",
      "Replacing [[-1]] to NaN in Attribute KBA13_KRSSEG_KLEIN\n",
      "Replacing [[-1]] to NaN in Attribute KBA13_KRSSEG_OBER\n",
      "Replacing [[-1]] to NaN in Attribute KBA13_KRSSEG_VAN\n",
      "Replacing [[-1]] to NaN in Attribute KBA13_KRSZUL_NEU\n",
      "Replacing [[-1]] to NaN in Attribute KBA13_KW_30\n",
      "Replacing [[-1]] to NaN in Attribute KBA13_KW_40\n",
      "Replacing [[-1]] to NaN in Attribute KBA13_KW_50\n",
      "Replacing [[-1]] to NaN in Attribute KBA13_KW_60\n",
      "Replacing [[-1]] to NaN in Attribute KBA13_KW_0_60\n",
      "Replacing [[-1]] to NaN in Attribute KBA13_KW_70\n",
      "Replacing [[-1]] to NaN in Attribute KBA13_KW_61_120\n",
      "Replacing [[-1]] to NaN in Attribute KBA13_KW_80\n",
      "Replacing [[-1]] to NaN in Attribute KBA13_KW_90\n",
      "Replacing [[-1]] to NaN in Attribute KBA13_KW_110\n",
      "Replacing [[-1]] to NaN in Attribute KBA13_KW_120\n",
      "Replacing [[-1]] to NaN in Attribute KBA13_KW_121\n",
      "Replacing [[-1]] to NaN in Attribute KBA13_MAZDA\n",
      "Replacing [[-1]] to NaN in Attribute KBA13_MERCEDES\n",
      "Replacing [[-1]] to NaN in Attribute KBA13_MOTOR\n",
      "Replacing [[-1]] to NaN in Attribute KBA13_NISSAN\n",
      "Replacing [[-1]] to NaN in Attribute KBA13_OPEL\n",
      "Replacing [[-1]] to NaN in Attribute KBA13_PEUGEOT\n",
      "Replacing [[-1]] to NaN in Attribute KBA13_RENAULT\n",
      "Replacing [[-1]] to NaN in Attribute KBA13_SEG_GELAENDEWAGEN\n",
      "Replacing [[-1]] to NaN in Attribute KBA13_SEG_GROSSRAUMVANS\n",
      "Replacing [[-1]] to NaN in Attribute KBA13_SEG_KLEINST\n",
      "Replacing [[-1]] to NaN in Attribute KBA13_SEG_KLEINWAGEN\n",
      "Replacing [[-1]] to NaN in Attribute KBA13_SEG_KOMPAKTKLASSE\n",
      "Replacing [[-1]] to NaN in Attribute KBA13_SEG_MINIVANS\n",
      "Replacing [[-1]] to NaN in Attribute KBA13_SEG_MINIWAGEN\n",
      "Replacing [[-1]] to NaN in Attribute KBA13_SEG_MITTELKLASSE\n",
      "Replacing [[-1]] to NaN in Attribute KBA13_SEG_OBEREMITTELKLASSE\n",
      "Replacing [[-1]] to NaN in Attribute KBA13_SEG_OBERKLASSE\n",
      "Replacing [[-1]] to NaN in Attribute KBA13_SEG_SONSTIGE\n",
      "Replacing [[-1]] to NaN in Attribute KBA13_SEG_SPORTWAGEN\n",
      "Replacing [[-1]] to NaN in Attribute KBA13_SEG_UTILITIES\n",
      "Replacing [[-1]] to NaN in Attribute KBA13_SEG_VAN\n",
      "Replacing [[-1]] to NaN in Attribute KBA13_SEG_WOHNMOBILE\n",
      "Replacing [[-1]] to NaN in Attribute KBA13_SITZE_4\n",
      "Replacing [[-1]] to NaN in Attribute KBA13_SITZE_5\n",
      "Replacing [[-1]] to NaN in Attribute KBA13_SITZE_6\n",
      "Replacing [[-1]] to NaN in Attribute KBA13_TOYOTA\n",
      "Replacing [[-1]] to NaN in Attribute KBA13_VORB_0\n",
      "Replacing [[-1]] to NaN in Attribute KBA13_VORB_1\n",
      "Replacing [[-1]] to NaN in Attribute KBA13_VORB_1_2\n",
      "Replacing [[-1]] to NaN in Attribute KBA13_VORB_2\n",
      "Replacing [[-1]] to NaN in Attribute KBA13_VORB_3\n",
      "Replacing [[-1]] to NaN in Attribute KBA13_VW\n",
      "Replacing [[-1, 0]] to NaN in Attribute KKK\n",
      "Replacing [[-1, 0]] to NaN in Attribute NATIONALITAET_KZ\n",
      "Replacing [[-1]] to NaN in Attribute ORTSGR_KLS9\n",
      "Replacing [[-1]] to NaN in Attribute OST_WEST_KZ\n",
      "Replacing [[-1]] to NaN in Attribute PLZ8_ANTG1\n",
      "Replacing [[-1]] to NaN in Attribute PLZ8_ANTG2\n",
      "Replacing [[-1]] to NaN in Attribute PLZ8_ANTG3\n",
      "Replacing [[-1]] to NaN in Attribute PLZ8_ANTG4\n",
      "Replacing [[-1]] to NaN in Attribute PLZ8_GBZ\n",
      "Replacing [[-1]] to NaN in Attribute PLZ8_HHZ\n",
      "Replacing [[-1, 0]] to NaN in Attribute PRAEGENDE_JUGENDJAHRE\n",
      "Replacing [[-1, 0]] to NaN in Attribute REGIOTYP\n",
      "Replacing [[-1, 9]] to NaN in Attribute RELAT_AB\n",
      "Replacing [[0]] to NaN in Attribute RETOURTYP_BK_S\n",
      "Replacing [[-1, 9]] to NaN in Attribute SEMIO_DOM\n",
      "Replacing [[-1, 9]] to NaN in Attribute SEMIO_ERL\n",
      "Replacing [[-1, 9]] to NaN in Attribute SEMIO_FAM\n",
      "Replacing [[-1, 9]] to NaN in Attribute SEMIO_KAEM\n",
      "Replacing [[-1, 9]] to NaN in Attribute SEMIO_KRIT\n",
      "Replacing [[-1, 9]] to NaN in Attribute SEMIO_KULT\n",
      "Replacing [[-1, 9]] to NaN in Attribute SEMIO_LUST\n",
      "Replacing [[-1, 9]] to NaN in Attribute SEMIO_MAT\n",
      "Replacing [[-1, 9]] to NaN in Attribute SEMIO_PFLICHT\n",
      "Replacing [[-1, 9]] to NaN in Attribute SEMIO_RAT\n",
      "Replacing [[-1, 9]] to NaN in Attribute SEMIO_REL\n",
      "Replacing [[-1, 9]] to NaN in Attribute SEMIO_SOZ\n",
      "Replacing [[-1, 9]] to NaN in Attribute SEMIO_TRADV\n",
      "Replacing [[-1, 9]] to NaN in Attribute SEMIO_VERT\n",
      "Replacing [[-1]] to NaN in Attribute SHOPPER_TYP\n",
      "Replacing [[-1]] to NaN in Attribute SOHO_FLAG\n",
      "Replacing [[-1, 0]] to NaN in Attribute TITEL_KZ\n",
      "Replacing [[-1]] to NaN in Attribute VERS_TYP\n",
      "Replacing [[-1, 0]] to NaN in Attribute WOHNDAUER_2008\n",
      "Replacing [[-1]] to NaN in Attribute WOHNLAGE\n",
      "Replacing [[-1, 0]] to NaN in Attribute WACHSTUMSGEBIET_NB\n",
      "Replacing [[-1, 0]] to NaN in Attribute W_KEIT_KIND_HH\n",
      "Replacing [[-1, 9]] to NaN in Attribute ZABEOTYP\n",
      "Replacing [[-1]] to NaN in Attribute AGER_TYP\n",
      "Replacing [[-1, 0]] to NaN in Attribute ALTERSKATEGORIE_GROB\n",
      "Replacing [[-1, 0]] to NaN in Attribute ANREDE_KZ\n",
      "Replacing [[-1]] to NaN in Attribute BALLRAUM\n",
      "Replacing [[-1]] to NaN in Attribute BIP_FLAG\n",
      "Replacing [[-1]] to NaN in Attribute CAMEO_DEUG_2015\n",
      "Replacing [[-1]] to NaN in Attribute CAMEO_DEUINTL_2015\n",
      "Replacing [[0]] to NaN in Attribute CJT_GESAMTTYP\n",
      "Replacing [[-1]] to NaN in Attribute D19_KK_KUNDENTYP\n",
      "Replacing [[-1]] to NaN in Attribute EWDICHTE\n",
      "Replacing [[-1]] to NaN in Attribute FINANZTYP\n",
      "Replacing [[-1]] to NaN in Attribute FINANZ_ANLEGER\n",
      "Replacing [[-1]] to NaN in Attribute FINANZ_HAUSBAUER\n",
      "Replacing [[-1]] to NaN in Attribute FINANZ_MINIMALIST\n",
      "Replacing [[-1]] to NaN in Attribute FINANZ_SPARER\n",
      "Replacing [[-1]] to NaN in Attribute FINANZ_UNAUFFAELLIGER\n",
      "Replacing [[-1]] to NaN in Attribute FINANZ_VORSORGER\n",
      "Replacing [[-1, 0]] to NaN in Attribute GEBAEUDETYP\n",
      "Replacing [[-1, 0]] to NaN in Attribute GEOSCORE_KLS7\n",
      "Replacing [[-1, 0]] to NaN in Attribute HAUSHALTSSTRUKTUR\n",
      "Replacing [[-1]] to NaN in Attribute HEALTH_TYP\n",
      "Replacing [[-1, 0]] to NaN in Attribute HH_EINKOMMEN_SCORE\n",
      "Replacing [[-1]] to NaN in Attribute INNENSTADT\n",
      "Replacing [[-1, 9]] to NaN in Attribute KBA05_ALTER1\n",
      "Replacing [[-1, 9]] to NaN in Attribute KBA05_ALTER2\n",
      "Replacing [[-1, 9]] to NaN in Attribute KBA05_ALTER3\n",
      "Replacing [[-1, 9]] to NaN in Attribute KBA05_ALTER4\n",
      "Replacing [[-1, 9]] to NaN in Attribute KBA05_ANHANG\n",
      "Replacing [[-1]] to NaN in Attribute KBA05_ANTG1\n",
      "Replacing [[-1]] to NaN in Attribute KBA05_ANTG2\n",
      "Replacing [[-1]] to NaN in Attribute KBA05_ANTG3\n",
      "Replacing [[-1]] to NaN in Attribute KBA05_ANTG4\n",
      "Replacing [[-1, 9]] to NaN in Attribute KBA05_AUTOQUOT\n",
      "Replacing [[-1, 0]] to NaN in Attribute KBA05_BAUMAX\n",
      "Replacing [[-1, 9]] to NaN in Attribute KBA05_CCM1\n",
      "Replacing [[-1, 9]] to NaN in Attribute KBA05_CCM2\n",
      "Replacing [[-1, 9]] to NaN in Attribute KBA05_CCM3\n",
      "Replacing [[-1, 9]] to NaN in Attribute KBA05_CCM4\n",
      "Replacing [[-1, 9]] to NaN in Attribute KBA05_DIESEL\n",
      "Replacing [[-1, 9]] to NaN in Attribute KBA05_FRAU\n",
      "Replacing [[-1, 0]] to NaN in Attribute KBA05_GBZ\n",
      "Replacing [[-1, 9]] to NaN in Attribute KBA05_HERST1\n",
      "Replacing [[-1, 9]] to NaN in Attribute KBA05_HERST2\n",
      "Replacing [[-1, 9]] to NaN in Attribute KBA05_HERST3\n",
      "Replacing [[-1, 9]] to NaN in Attribute KBA05_HERST4\n",
      "Replacing [[-1, 9]] to NaN in Attribute KBA05_HERST5\n",
      "Replacing [[-1, 9]] to NaN in Attribute KBA05_HERSTTEMP\n",
      "Replacing [[-1, 9]] to NaN in Attribute KBA05_KRSAQUOT\n",
      "Replacing [[-1, 9]] to NaN in Attribute KBA05_KRSHERST1\n",
      "Replacing [[-1, 9]] to NaN in Attribute KBA05_KRSHERST2\n",
      "Replacing [[-1, 9]] to NaN in Attribute KBA05_KRSHERST3\n",
      "Replacing [[-1, 9]] to NaN in Attribute KBA05_KRSKLEIN\n",
      "Replacing [[-1, 9]] to NaN in Attribute KBA05_KRSOBER\n",
      "Replacing [[-1, 9]] to NaN in Attribute KBA05_KRSVAN\n",
      "Replacing [[-1, 9]] to NaN in Attribute KBA05_KRSZUL\n",
      "Replacing [[-1, 9]] to NaN in Attribute KBA05_KW1\n",
      "Replacing [[-1, 9]] to NaN in Attribute KBA05_KW2\n",
      "Replacing [[-1, 9]] to NaN in Attribute KBA05_KW3\n",
      "Replacing [[-1, 9]] to NaN in Attribute KBA05_MAXAH\n",
      "Replacing [[-1, 9]] to NaN in Attribute KBA05_MAXBJ\n",
      "Replacing [[-1, 9]] to NaN in Attribute KBA05_MAXHERST\n",
      "Replacing [[-1, 9]] to NaN in Attribute KBA05_MAXSEG\n",
      "Replacing [[-1, 9]] to NaN in Attribute KBA05_MAXVORB\n",
      "Replacing [[-1, 9]] to NaN in Attribute KBA05_MOD1\n",
      "Replacing [[-1, 9]] to NaN in Attribute KBA05_MOD2\n",
      "Replacing [[-1, 9]] to NaN in Attribute KBA05_MOD3\n",
      "Replacing [[-1, 9]] to NaN in Attribute KBA05_MOD4\n",
      "Replacing [[-1, 9]] to NaN in Attribute KBA05_MOD8\n",
      "Replacing [[-1, 9]] to NaN in Attribute KBA05_MODTEMP\n",
      "Replacing [[-1, 9]] to NaN in Attribute KBA05_MOTOR\n",
      "Replacing [[-1, 9]] to NaN in Attribute KBA05_MOTRAD\n",
      "Replacing [[-1, 9]] to NaN in Attribute KBA05_SEG1\n",
      "Replacing [[-1, 9]] to NaN in Attribute KBA05_SEG10\n",
      "Replacing [[-1, 9]] to NaN in Attribute KBA05_SEG2\n",
      "Replacing [[-1, 9]] to NaN in Attribute KBA05_SEG3\n",
      "Replacing [[-1, 9]] to NaN in Attribute KBA05_SEG4\n",
      "Replacing [[-1, 9]] to NaN in Attribute KBA05_SEG5\n",
      "Replacing [[-1, 9]] to NaN in Attribute KBA05_SEG6\n",
      "Replacing [[-1, 9]] to NaN in Attribute KBA05_SEG7\n",
      "Replacing [[-1, 9]] to NaN in Attribute KBA05_SEG8\n",
      "Replacing [[-1, 9]] to NaN in Attribute KBA05_SEG9\n",
      "Replacing [[-1, 9]] to NaN in Attribute KBA05_VORB0\n",
      "Replacing [[-1, 9]] to NaN in Attribute KBA05_VORB1\n",
      "Replacing [[-1, 9]] to NaN in Attribute KBA05_VORB2\n",
      "Replacing [[-1, 9]] to NaN in Attribute KBA05_ZUL1\n",
      "Replacing [[-1, 9]] to NaN in Attribute KBA05_ZUL2\n",
      "Replacing [[-1, 9]] to NaN in Attribute KBA05_ZUL3\n",
      "Replacing [[-1, 9]] to NaN in Attribute KBA05_ZUL4\n",
      "Replacing [[-1]] to NaN in Attribute KBA13_ALTERHALTER_30\n",
      "Replacing [[-1]] to NaN in Attribute KBA13_ALTERHALTER_45\n",
      "Replacing [[-1]] to NaN in Attribute KBA13_ALTERHALTER_60\n",
      "Replacing [[-1]] to NaN in Attribute KBA13_ALTERHALTER_61\n",
      "Replacing [[-1]] to NaN in Attribute KBA13_AUDI\n",
      "Replacing [[-1]] to NaN in Attribute KBA13_AUTOQUOTE\n",
      "Replacing [[-1]] to NaN in Attribute KBA13_BJ_1999\n",
      "Replacing [[-1]] to NaN in Attribute KBA13_BJ_2000\n",
      "Replacing [[-1]] to NaN in Attribute KBA13_BJ_2004\n",
      "Replacing [[-1]] to NaN in Attribute KBA13_BJ_2006\n",
      "Replacing [[-1]] to NaN in Attribute KBA13_BJ_2008\n",
      "Replacing [[-1]] to NaN in Attribute KBA13_BJ_2009\n",
      "Replacing [[-1]] to NaN in Attribute KBA13_BMW\n",
      "Replacing [[-1]] to NaN in Attribute KBA13_CCM_1000\n",
      "Replacing [[-1]] to NaN in Attribute KBA13_CCM_1200\n",
      "Replacing [[-1]] to NaN in Attribute KBA13_CCM_1400\n",
      "Replacing [[-1]] to NaN in Attribute KBA13_CCM_0_1400\n",
      "Replacing [[-1]] to NaN in Attribute KBA13_CCM_1500\n",
      "Replacing [[-1]] to NaN in Attribute KBA13_CCM_1400_2500\n",
      "Replacing [[-1]] to NaN in Attribute KBA13_CCM_1600\n",
      "Replacing [[-1]] to NaN in Attribute KBA13_CCM_1800\n",
      "Replacing [[-1]] to NaN in Attribute KBA13_CCM_2000\n",
      "Replacing [[-1]] to NaN in Attribute KBA13_CCM_2500\n",
      "Replacing [[-1]] to NaN in Attribute KBA13_CCM_2501\n",
      "Replacing [[-1]] to NaN in Attribute KBA13_CCM_3000\n",
      "Replacing [[-1]] to NaN in Attribute KBA13_CCM_3001\n",
      "Replacing [[-1]] to NaN in Attribute KBA13_FAB_ASIEN\n",
      "Replacing [[-1]] to NaN in Attribute KBA13_FAB_SONSTIGE\n",
      "Replacing [[-1]] to NaN in Attribute KBA13_FIAT\n",
      "Replacing [[-1]] to NaN in Attribute KBA13_FORD\n",
      "Replacing [[-1]] to NaN in Attribute KBA13_HALTER_20\n",
      "Replacing [[-1]] to NaN in Attribute KBA13_HALTER_25\n",
      "Replacing [[-1]] to NaN in Attribute KBA13_HALTER_30\n",
      "Replacing [[-1]] to NaN in Attribute KBA13_HALTER_35\n",
      "Replacing [[-1]] to NaN in Attribute KBA13_HALTER_40\n",
      "Replacing [[-1]] to NaN in Attribute KBA13_HALTER_45\n",
      "Replacing [[-1]] to NaN in Attribute KBA13_HALTER_50\n",
      "Replacing [[-1]] to NaN in Attribute KBA13_HALTER_55\n",
      "Replacing [[-1]] to NaN in Attribute KBA13_HALTER_60\n",
      "Replacing [[-1]] to NaN in Attribute KBA13_HALTER_65\n",
      "Replacing [[-1]] to NaN in Attribute KBA13_HALTER_66\n",
      "Replacing [[-1]] to NaN in Attribute KBA13_HERST_ASIEN\n",
      "Replacing [[-1]] to NaN in Attribute KBA13_HERST_AUDI_VW\n",
      "Replacing [[-1]] to NaN in Attribute KBA13_HERST_BMW_BENZ\n",
      "Replacing [[-1]] to NaN in Attribute KBA13_HERST_EUROPA\n",
      "Replacing [[-1]] to NaN in Attribute KBA13_HERST_FORD_OPEL\n",
      "Replacing [[-1]] to NaN in Attribute KBA13_HERST_SONST\n",
      "Replacing [[-1]] to NaN in Attribute KBA13_KMH_110\n",
      "Replacing [[-1]] to NaN in Attribute KBA13_KMH_140\n",
      "Replacing [[-1]] to NaN in Attribute KBA13_KMH_180\n",
      "Replacing [[-1]] to NaN in Attribute KBA13_KMH_0_140\n",
      "Replacing [[-1]] to NaN in Attribute KBA13_KMH_140_210\n",
      "Replacing [[-1]] to NaN in Attribute KBA13_KMH_211\n",
      "Replacing [[-1]] to NaN in Attribute KBA13_KMH_250\n",
      "Replacing [[-1]] to NaN in Attribute KBA13_KMH_251\n",
      "Replacing [[-1]] to NaN in Attribute KBA13_KRSAQUOT\n",
      "Replacing [[-1]] to NaN in Attribute KBA13_KRSHERST_AUDI_VW\n",
      "Replacing [[-1]] to NaN in Attribute KBA13_KRSHERST_BMW_BENZ\n",
      "Replacing [[-1]] to NaN in Attribute KBA13_KRSHERST_FORD_OPEL\n",
      "Replacing [[-1]] to NaN in Attribute KBA13_KRSSEG_KLEIN\n",
      "Replacing [[-1]] to NaN in Attribute KBA13_KRSSEG_OBER\n",
      "Replacing [[-1]] to NaN in Attribute KBA13_KRSSEG_VAN\n",
      "Replacing [[-1]] to NaN in Attribute KBA13_KRSZUL_NEU\n",
      "Replacing [[-1]] to NaN in Attribute KBA13_KW_30\n",
      "Replacing [[-1]] to NaN in Attribute KBA13_KW_40\n",
      "Replacing [[-1]] to NaN in Attribute KBA13_KW_50\n",
      "Replacing [[-1]] to NaN in Attribute KBA13_KW_60\n",
      "Replacing [[-1]] to NaN in Attribute KBA13_KW_0_60\n",
      "Replacing [[-1]] to NaN in Attribute KBA13_KW_70\n",
      "Replacing [[-1]] to NaN in Attribute KBA13_KW_61_120\n",
      "Replacing [[-1]] to NaN in Attribute KBA13_KW_80\n",
      "Replacing [[-1]] to NaN in Attribute KBA13_KW_90\n",
      "Replacing [[-1]] to NaN in Attribute KBA13_KW_110\n",
      "Replacing [[-1]] to NaN in Attribute KBA13_KW_120\n",
      "Replacing [[-1]] to NaN in Attribute KBA13_KW_121\n",
      "Replacing [[-1]] to NaN in Attribute KBA13_MAZDA\n",
      "Replacing [[-1]] to NaN in Attribute KBA13_MERCEDES\n",
      "Replacing [[-1]] to NaN in Attribute KBA13_MOTOR\n",
      "Replacing [[-1]] to NaN in Attribute KBA13_NISSAN\n",
      "Replacing [[-1]] to NaN in Attribute KBA13_OPEL\n",
      "Replacing [[-1]] to NaN in Attribute KBA13_PEUGEOT\n",
      "Replacing [[-1]] to NaN in Attribute KBA13_RENAULT\n",
      "Replacing [[-1]] to NaN in Attribute KBA13_SEG_GELAENDEWAGEN\n",
      "Replacing [[-1]] to NaN in Attribute KBA13_SEG_GROSSRAUMVANS\n",
      "Replacing [[-1]] to NaN in Attribute KBA13_SEG_KLEINST\n",
      "Replacing [[-1]] to NaN in Attribute KBA13_SEG_KLEINWAGEN\n",
      "Replacing [[-1]] to NaN in Attribute KBA13_SEG_KOMPAKTKLASSE\n",
      "Replacing [[-1]] to NaN in Attribute KBA13_SEG_MINIVANS\n",
      "Replacing [[-1]] to NaN in Attribute KBA13_SEG_MINIWAGEN\n",
      "Replacing [[-1]] to NaN in Attribute KBA13_SEG_MITTELKLASSE\n",
      "Replacing [[-1]] to NaN in Attribute KBA13_SEG_OBEREMITTELKLASSE\n",
      "Replacing [[-1]] to NaN in Attribute KBA13_SEG_OBERKLASSE\n",
      "Replacing [[-1]] to NaN in Attribute KBA13_SEG_SONSTIGE\n",
      "Replacing [[-1]] to NaN in Attribute KBA13_SEG_SPORTWAGEN\n",
      "Replacing [[-1]] to NaN in Attribute KBA13_SEG_UTILITIES\n",
      "Replacing [[-1]] to NaN in Attribute KBA13_SEG_VAN\n",
      "Replacing [[-1]] to NaN in Attribute KBA13_SEG_WOHNMOBILE\n",
      "Replacing [[-1]] to NaN in Attribute KBA13_SITZE_4\n",
      "Replacing [[-1]] to NaN in Attribute KBA13_SITZE_5\n",
      "Replacing [[-1]] to NaN in Attribute KBA13_SITZE_6\n",
      "Replacing [[-1]] to NaN in Attribute KBA13_TOYOTA\n",
      "Replacing [[-1]] to NaN in Attribute KBA13_VORB_0\n",
      "Replacing [[-1]] to NaN in Attribute KBA13_VORB_1\n",
      "Replacing [[-1]] to NaN in Attribute KBA13_VORB_1_2\n",
      "Replacing [[-1]] to NaN in Attribute KBA13_VORB_2\n",
      "Replacing [[-1]] to NaN in Attribute KBA13_VORB_3\n",
      "Replacing [[-1]] to NaN in Attribute KBA13_VW\n",
      "Replacing [[-1, 0]] to NaN in Attribute KKK\n",
      "Replacing [[-1, 0]] to NaN in Attribute NATIONALITAET_KZ\n",
      "Replacing [[-1]] to NaN in Attribute ORTSGR_KLS9\n",
      "Replacing [[-1]] to NaN in Attribute OST_WEST_KZ\n",
      "Replacing [[-1]] to NaN in Attribute PLZ8_ANTG1\n",
      "Replacing [[-1]] to NaN in Attribute PLZ8_ANTG2\n",
      "Replacing [[-1]] to NaN in Attribute PLZ8_ANTG3\n",
      "Replacing [[-1]] to NaN in Attribute PLZ8_ANTG4\n",
      "Replacing [[-1]] to NaN in Attribute PLZ8_GBZ\n",
      "Replacing [[-1]] to NaN in Attribute PLZ8_HHZ\n",
      "Replacing [[-1, 0]] to NaN in Attribute PRAEGENDE_JUGENDJAHRE\n",
      "Replacing [[-1, 0]] to NaN in Attribute REGIOTYP\n",
      "Replacing [[-1, 9]] to NaN in Attribute RELAT_AB\n",
      "Replacing [[0]] to NaN in Attribute RETOURTYP_BK_S\n",
      "Replacing [[-1, 9]] to NaN in Attribute SEMIO_DOM\n",
      "Replacing [[-1, 9]] to NaN in Attribute SEMIO_ERL\n",
      "Replacing [[-1, 9]] to NaN in Attribute SEMIO_FAM\n",
      "Replacing [[-1, 9]] to NaN in Attribute SEMIO_KAEM\n",
      "Replacing [[-1, 9]] to NaN in Attribute SEMIO_KRIT\n",
      "Replacing [[-1, 9]] to NaN in Attribute SEMIO_KULT\n",
      "Replacing [[-1, 9]] to NaN in Attribute SEMIO_LUST\n",
      "Replacing [[-1, 9]] to NaN in Attribute SEMIO_MAT\n",
      "Replacing [[-1, 9]] to NaN in Attribute SEMIO_PFLICHT\n",
      "Replacing [[-1, 9]] to NaN in Attribute SEMIO_RAT\n",
      "Replacing [[-1, 9]] to NaN in Attribute SEMIO_REL\n",
      "Replacing [[-1, 9]] to NaN in Attribute SEMIO_SOZ\n",
      "Replacing [[-1, 9]] to NaN in Attribute SEMIO_TRADV\n",
      "Replacing [[-1, 9]] to NaN in Attribute SEMIO_VERT\n",
      "Replacing [[-1]] to NaN in Attribute SHOPPER_TYP\n",
      "Replacing [[-1]] to NaN in Attribute SOHO_FLAG\n",
      "Replacing [[-1, 0]] to NaN in Attribute TITEL_KZ\n",
      "Replacing [[-1]] to NaN in Attribute VERS_TYP\n",
      "Replacing [[-1, 0]] to NaN in Attribute WOHNDAUER_2008\n",
      "Replacing [[-1]] to NaN in Attribute WOHNLAGE\n",
      "Replacing [[-1, 0]] to NaN in Attribute WACHSTUMSGEBIET_NB\n",
      "Replacing [[-1, 0]] to NaN in Attribute W_KEIT_KIND_HH\n",
      "Replacing [[-1, 9]] to NaN in Attribute ZABEOTYP\n"
     ]
    }
   ],
   "source": [
    "#Replacing all unkown values to null\n",
    "def replacing_unknown(df, unknown_attributes_values, verbose=False):\n",
    "    \"\"\"\n",
    "    Replaces unknown values to 'np.nan' in all the columns provided in unknown_attributes_values list.\n",
    "    \"\"\"\n",
    "    for attrib in unknown_attributes_values.Attribute:\n",
    "        unknown = get_unknown_repr(attrib, unknown_attributes_values)\n",
    "        if verbose:\n",
    "            print(\"Replacing {} to NaN in Attribute {}\".format(unknown, attrib))\n",
    "        if attrib in df.columns:\n",
    "            df[attrib] = df[attrib].apply(replace_unknown_with_nan, args=(unknown))\n",
    "    return df\n",
    "\n",
    "azdias = replacing_unknown(azdias, unknown_attributes_values, verbose=True)\n",
    "customers = replacing_unknown(customers, unknown_attributes_values, verbose=True)"
   ]
  },
  {
   "cell_type": "code",
   "execution_count": 32,
   "metadata": {},
   "outputs": [
    {
     "name": "stdout",
     "output_type": "stream",
     "text": [
      "Total No of columns in Customers -  370\n",
      "No of columns with missing values in customers -  280\n",
      "Total No of columns in Azdias -  367\n",
      "No of columns with missing values in azdias -  280\n"
     ]
    }
   ],
   "source": [
    "#Getting the total of missing numbers in the dataframes\n",
    "def get_missing_report(df):\n",
    "    \"\"\"\n",
    "    Takes in a dataframe and returns a dataframe with information about column-wise missing values percentages.\n",
    "    \"\"\"\n",
    "    missing_percen = df.isna().sum() * 100/ len(df)\n",
    "    \n",
    "    missing_percen_df = pd.DataFrame({\"Attribute\": df.columns,\n",
    "                                     \"Missing_Percentage\": missing_percen}).reset_index(drop=True)\n",
    "    return missing_percen_df\n",
    "\n",
    "customer_missing_report = get_missing_report(customers)\n",
    "azdias_missing_report = get_missing_report(azdias)\n",
    "\n",
    "print(\"Total No of columns in Customers - \", len(customers.columns))\n",
    "print(\"No of columns with missing values in customers - \",\n",
    "      len(customer_missing_report[customer_missing_report.Missing_Percentage > 0]))\n",
    "\n",
    "print(\"Total No of columns in Azdias - \", len(azdias.columns))\n",
    "print(\"No of columns with missing values in azdias - \",\n",
    "      len(azdias_missing_report[azdias_missing_report.Missing_Percentage > 0]))"
   ]
  },
  {
   "cell_type": "code",
   "execution_count": 33,
   "metadata": {},
   "outputs": [
    {
     "data": {
      "image/png": "[encoded data removed]",
      "text/plain": [
       "<matplotlib.figure.Figure at 0x7f581d1ea898>"
      ]
     },
     "metadata": {
      "needs_background": "light"
     },
     "output_type": "display_data"
    }
   ],
   "source": [
    "#Plotting the percentage of missiing poins in each column\n",
    "def plot_percentage_missing(df1, df2, percentage=0, figsize=(10,70)):\n",
    "    \"\"\"\n",
    "    Takes in two dataframes and plots a barchart comparing two dataframes\n",
    "    features and percentage of missing values based on a threshold percentage given\n",
    "    \"\"\"\n",
    "    fig = plt.figure(figsize=figsize)\n",
    "\n",
    "    fig.suptitle(\"Missing Data percentages\")\n",
    "\n",
    "    ax = fig.add_subplot(121)\n",
    "    ax.set_title(\"Azdias\")\n",
    "    sns.barplot(y=\"Attribute\", x=\"Missing_Percentage\", \n",
    "                data=df1[df1.Missing_Percentage>percentage], ax= ax)\n",
    "\n",
    "    ax = fig.add_subplot(122)\n",
    "    ax.set_title(\"Customer\")\n",
    "    sns.barplot(y=\"Attribute\", x=\"Missing_Percentage\", \n",
    "                data=df2[df2.Missing_Percentage>percentage], ax= ax)\n",
    "\n",
    "    fig.tight_layout(rect=[0, 0.03, 1, 0.975])\n",
    "    # fig.tight_layout()\n",
    "    plt.show()\n",
    "    \n",
    "plot_percentage_missing(azdias_missing_report, customer_missing_report, percentage=0)"
   ]
  },
  {
   "cell_type": "markdown",
   "metadata": {},
   "source": [
    "As we can see there are many columns where data is missing. There is also a overlap in both Azdias and Customers dataframes, actually the values coincide a lot in both dataframes, which we can infere that customers data is a subset of azdias data. So, in order to remove missing data we wil establish a threshold of 30%, where columns with more than 30% of missing data will be removed from our analysis."
   ]
  },
  {
   "cell_type": "code",
   "execution_count": 34,
   "metadata": {},
   "outputs": [
    {
     "data": {
      "image/png": "[encoded data removed]",
      "text/plain": [
       "<matplotlib.figure.Figure at 0x7f581cae1a20>"
      ]
     },
     "metadata": {
      "needs_background": "light"
     },
     "output_type": "display_data"
    }
   ],
   "source": [
    "#Checking the Columns where the missing data amount is higher than 30%\n",
    "plot_percentage_missing(azdias_missing_report, customer_missing_report, percentage=30, figsize=(10, 10))"
   ]
  },
  {
   "cell_type": "markdown",
   "metadata": {},
   "source": [
    "In AZDIAS we have 9 columns with more than 30% missing data, in Customer there is 11 columns with the same amount. When comparing with the total of columns that have missing data, there is a small amount and we can drop them."
   ]
  },
  {
   "cell_type": "code",
   "execution_count": 35,
   "metadata": {},
   "outputs": [],
   "source": [
    "def remove_columns(df, remove_cols):\n",
    "    \"\"\"\n",
    "    Drops given list of columns from df.\n",
    "    \"\"\"\n",
    "    df = df.drop(remove_cols, axis = 1)\n",
    "    return df\n",
    "\n",
    "def remove_missing_columns(df1, df2, df1_missing, df2_missing, threshold=30):\n",
    "    \"\"\"\n",
    "    Drops columns from df1 and df2 with given threshold.\n",
    "    \n",
    "    Uses df1_missing and df2_missing to determing which columns to remove.\n",
    "    If df1_missing has more missing columns (missing_percentage > threshold),\n",
    "    then df1_missing is taken as reference and vice versa.\n",
    "    \"\"\"\n",
    "    \n",
    "    removable_cols1 = df1_missing[df1_missing.Missing_Percentage > threshold]\n",
    "    removable_cols2 = df2_missing[df2_missing.Missing_Percentage > threshold]\n",
    "    \n",
    "    if len(removable_cols1) > len(removable_cols2):\n",
    "        remove_cols = removable_cols1.Attribute.tolist()\n",
    "    else:\n",
    "        remove_cols = removable_cols2.Attribute.tolist()\n",
    "         \n",
    "    df1 = remove_columns(df1, remove_cols)\n",
    "    df2 = remove_columns(df2, remove_cols)\n",
    "    print(f\"\\t\\tRemoved {len(remove_cols)} columns from given dataframes\")\n",
    "    \n",
    "    return (df1, df2, remove_cols)"
   ]
  },
  {
   "cell_type": "code",
   "execution_count": 36,
   "metadata": {},
   "outputs": [
    {
     "name": "stdout",
     "output_type": "stream",
     "text": [
      "Number of columns After dropping\n",
      "Azdias - 367\n",
      "Customers - 370\n"
     ]
    }
   ],
   "source": [
    "print(\"Number of columns After dropping\")\n",
    "print(f\"Azdias - {len(azdias.columns)}\")\n",
    "print(f\"Customers - {len(customers.columns)}\")"
   ]
  },
  {
   "cell_type": "code",
   "execution_count": 37,
   "metadata": {},
   "outputs": [
    {
     "data": {
      "image/png": "[encoded data removed]",
      "text/plain": [
       "<matplotlib.figure.Figure at 0x7f58196768d0>"
      ]
     },
     "metadata": {
      "needs_background": "light"
     },
     "output_type": "display_data"
    }
   ],
   "source": [
    "#After removing the columns which have more than 30% missing values, now we can look at the dataframes with remaining features for any missing values in rows.\n",
    "def plot_missing_rowwise_histogram(df1, df2, bins=30, figsize=(10,6)):\n",
    "    \"\"\"\n",
    "    Takes in two dataframes and plots a barchart comparing two dataframes\n",
    "    rows and percentage of missing values based on a threshold percentage given\n",
    "    \"\"\"\n",
    "    bins = 30\n",
    "    fig = plt.figure(figsize=figsize)\n",
    "\n",
    "    ax = fig.add_subplot(111)\n",
    "    ax.set_title(\"No. of Rows vs No. of Missing features\")\n",
    "    ax.set_xlabel(\"No. of Missing Features\")\n",
    "    ax.set_ylabel(\"No. of Rows\")\n",
    "    sns.distplot(df1.isnull().sum(axis=1), bins, kde=False, ax=ax, label=\"Azdias\")\n",
    "    sns.distplot(df2.isnull().sum(axis=1), bins, kde=False, ax=ax, label=\"Customers\")\n",
    "    ax.legend()\n",
    "    \n",
    "    plt.show()\n",
    "    \n",
    "plot_missing_rowwise_histogram(azdias, customers)"
   ]
  },
  {
   "cell_type": "markdown",
   "metadata": {},
   "source": [
    "We have more than 700000 rows with missing data, Azdias has more missing rows than customers, most features have less than 50 missing values in both dataframes. SO we will drop all the rows which have more than 50 missing values."
   ]
  },
  {
   "cell_type": "code",
   "execution_count": 38,
   "metadata": {},
   "outputs": [],
   "source": [
    "#Dropping any missing row above the threshold\n",
    "def remove_missing_rows(df, threshold, name=\"\"):\n",
    "    \"\"\"\n",
    "    Takes in a dataframe and drops rows with number of missing features \n",
    "    as per given threshold.\n",
    "    \"\"\"\n",
    "    total_rows = df.shape[0]\n",
    "    \n",
    "    df = df.dropna(thresh=df.shape[1]-threshold)\n",
    "    \n",
    "    removed_rows = total_rows - df.shape[0]\n",
    "    \n",
    "    print(f\"\\t\\tRemoved {removed_rows} rows from {name} dataframe\")\n",
    "    \n",
    "    # Reset index\n",
    "    df = df.reset_index()\n",
    "    del df['index']\n",
    "    \n",
    "    return df"
   ]
  },
  {
   "cell_type": "code",
   "execution_count": 39,
   "metadata": {},
   "outputs": [
    {
     "name": "stdout",
     "output_type": "stream",
     "text": [
      "Number of rows Before dropping\n",
      "Azdias - 891221\n",
      "Customers - 191652\n",
      "\t\tRemoved 57406 rows from  dataframe\n",
      "\t\tRemoved 153933 rows from  dataframe\n",
      "Number of rows After dropping\n",
      "Azdias - 737288\n",
      "Customers - 134246\n"
     ]
    }
   ],
   "source": [
    "print(\"Number of rows Before dropping\")\n",
    "print(f\"Azdias - {len(azdias)}\")\n",
    "print(f\"Customers - {len(customers)}\")\n",
    "\n",
    "customers = remove_missing_rows(customers, threshold=50)\n",
    "azdias = remove_missing_rows(azdias, threshold=50)\n",
    "\n",
    "print(\"Number of rows After dropping\")\n",
    "print(f\"Azdias - {len(azdias)}\")\n",
    "print(f\"Customers - {len(customers)}\")"
   ]
  },
  {
   "cell_type": "code",
   "execution_count": 40,
   "metadata": {},
   "outputs": [
    {
     "data": {
      "image/png": "[encoded data removed]",
      "text/plain": [
       "<matplotlib.figure.Figure at 0x7f58173378d0>"
      ]
     },
     "metadata": {
      "needs_background": "light"
     },
     "output_type": "display_data"
    }
   ],
   "source": [
    "#Plotting again the chart to see if the rows were sucessfully dropped\n",
    "plot_missing_rowwise_histogram(azdias, customers)"
   ]
  },
  {
   "cell_type": "code",
   "execution_count": 41,
   "metadata": {},
   "outputs": [
    {
     "name": "stdout",
     "output_type": "stream",
     "text": [
      "<class 'pandas.core.frame.DataFrame'>\n",
      "RangeIndex: 737288 entries, 0 to 737287\n",
      "Columns: 367 entries, LNR to Temp\n",
      "dtypes: float64(277), int64(87), object(3)\n",
      "memory usage: 2.0+ GB\n"
     ]
    }
   ],
   "source": [
    "#Checking the categorical columns in both dataframes\n",
    "azdias.info()"
   ]
  },
  {
   "cell_type": "code",
   "execution_count": 42,
   "metadata": {},
   "outputs": [
    {
     "name": "stdout",
     "output_type": "stream",
     "text": [
      "<class 'pandas.core.frame.DataFrame'>\n",
      "RangeIndex: 134246 entries, 0 to 134245\n",
      "Columns: 370 entries, LNR to Temp\n",
      "dtypes: float64(277), int64(88), object(5)\n",
      "memory usage: 379.0+ MB\n"
     ]
    }
   ],
   "source": [
    "#Checking the categorical columns in both dataframes\n",
    "customers.info()"
   ]
  },
  {
   "cell_type": "code",
   "execution_count": 43,
   "metadata": {},
   "outputs": [
    {
     "name": "stdout",
     "output_type": "stream",
     "text": [
      "Azdias columns with dtype Object \n",
      " ['CAMEO_DEU_2015' 'D19_LETZTER_KAUF_BRANCHE' 'OST_WEST_KZ']\n",
      "Azdias columns with dtype Object \n",
      " ['CAMEO_DEU_2015' 'D19_LETZTER_KAUF_BRANCHE' 'OST_WEST_KZ' 'PRODUCT_GROUP'\n",
      " 'CUSTOMER_GROUP']\n"
     ]
    }
   ],
   "source": [
    "#Isolating the categorical columns in each dataframe\n",
    "azdias_object_cols = azdias.columns[azdias.dtypes == \"object\"]\n",
    "customer_object_cols = customers.columns[customers.dtypes == \"object\"]\n",
    "\n",
    "print(\"Azdias columns with dtype Object \\n\",azdias_object_cols.values)\n",
    "print(\"Azdias columns with dtype Object \\n\",customer_object_cols.values)"
   ]
  },
  {
   "cell_type": "code",
   "execution_count": 44,
   "metadata": {},
   "outputs": [
    {
     "name": "stdout",
     "output_type": "stream",
     "text": [
      "\n",
      "Column  CAMEO_DEU_2015\n",
      "6B    54006\n",
      "8A    50776\n",
      "4C    43988\n",
      "2D    32906\n",
      "7A    32630\n",
      "3C    32565\n",
      "3D    32176\n",
      "8B    31262\n",
      "4A    30254\n",
      "8C    30147\n",
      "9D    26746\n",
      "9B    25888\n",
      "7B    22921\n",
      "9C    22919\n",
      "9A    20057\n",
      "2C    17742\n",
      "8D    16675\n",
      "6E    15598\n",
      "5D    14071\n",
      "2B    14042\n",
      "6C    13868\n",
      "2A    11921\n",
      "1D    11457\n",
      "1A    10167\n",
      "5A     9721\n",
      "5B     9691\n",
      "5C     9050\n",
      "4B     8284\n",
      "7C     8127\n",
      "4D     8051\n",
      "6A     6416\n",
      "3A     5871\n",
      "6D     5756\n",
      "3B     5709\n",
      "6F     5048\n",
      "4E     5005\n",
      "1E     4783\n",
      "7D     4431\n",
      "7E     4375\n",
      "1C     4012\n",
      "5F     3939\n",
      "9E     3841\n",
      "1B     3815\n",
      "5E     3241\n",
      "XX      284\n",
      "Name: CAMEO_DEU_2015, dtype: int64\n",
      "\n",
      "Column  D19_LETZTER_KAUF_BRANCHE\n",
      "D19_UNBEKANNT             179081\n",
      "D19_VERSICHERUNGEN         52220\n",
      "D19_SONSTIGE               40546\n",
      "D19_VOLLSORTIMENT          31292\n",
      "D19_SCHUHE                 28486\n",
      "D19_BUCH_CD                25643\n",
      "D19_VERSAND_REST           23398\n",
      "D19_DROGERIEARTIKEL        21371\n",
      "D19_BANKEN_DIREKT          20993\n",
      "D19_BEKLEIDUNG_REST        19147\n",
      "D19_HAUS_DEKO              18823\n",
      "D19_TELKO_MOBILE           13194\n",
      "D19_ENERGIE                11146\n",
      "D19_TELKO_REST             10478\n",
      "D19_BANKEN_GROSS            9558\n",
      "D19_BEKLEIDUNG_GEH          9173\n",
      "D19_KINDERARTIKEL           6416\n",
      "D19_FREIZEIT                6404\n",
      "D19_TECHNIK                 6282\n",
      "D19_LEBENSMITTEL            5814\n",
      "D19_BANKEN_REST             4709\n",
      "D19_RATGEBER                4483\n",
      "D19_NAHRUNGSERGAENZUNG      3731\n",
      "D19_DIGIT_SERV              3273\n",
      "D19_REISEN                  2808\n",
      "D19_TIERARTIKEL             2294\n",
      "D19_SAMMELARTIKEL           2243\n",
      "D19_HANDWERK                2033\n",
      "D19_WEIN_FEINKOST           1965\n",
      "D19_GARTEN                  1486\n",
      "D19_BANKEN_LOKAL            1306\n",
      "D19_BIO_OEKO                1090\n",
      "D19_BILDUNG                  876\n",
      "D19_LOTTO                    743\n",
      "D19_KOSMETIK                 711\n",
      "Name: D19_LETZTER_KAUF_BRANCHE, dtype: int64\n",
      "\n",
      "Column  OST_WEST_KZ\n",
      "W    582290\n",
      "O    154998\n",
      "Name: OST_WEST_KZ, dtype: int64\n"
     ]
    }
   ],
   "source": [
    "#Checking the unique values in the categorical columns\n",
    "for col in azdias_object_cols:\n",
    "    print(\"\\nColumn \",col)\n",
    "    print(azdias[col].value_counts())"
   ]
  },
  {
   "cell_type": "markdown",
   "metadata": {},
   "source": [
    "So, `OST_WEST_KZ` contains information about the history of the person i.e. which part of Germany they belonged to before unification. We can encode values in this column with pd_dummies or a label encoder. `D19_LETZTER_KAUF_BRANCHE` and `CAMEO_DEU_2015` can be removed since wont be relevant in our analysis"
   ]
  },
  {
   "cell_type": "code",
   "execution_count": 45,
   "metadata": {},
   "outputs": [],
   "source": [
    "remove_extra_cols = [\"D19_LETZTER_KAUF_BRANCHE\", \"CAMEO_DEU_2015\", \"LP_FAMILIE_FEIN\", \"LP_STATUS_FEIN\"]\n",
    "\n",
    "azdias = remove_columns(azdias, remove_extra_cols)\n",
    "customers = remove_columns(customers, remove_extra_cols)"
   ]
  },
  {
   "cell_type": "code",
   "execution_count": 46,
   "metadata": {},
   "outputs": [],
   "source": [
    "#Enconding the OST_WEST_KZ colum:\n",
    "def fix_ost_west_col(df):\n",
    "    \"\"\"\n",
    "    Function to label encode the feature \"OST_WEST_KZ\"\n",
    "    \"\"\"\n",
    "    df[\"OST_WEST_KZ\"] = df[\"OST_WEST_KZ\"].replace({\"W\": 0, \"O\": 1})\n",
    "    \n",
    "    return df\n",
    "\n",
    "azdias = fix_ost_west_col(azdias)\n",
    "customers = fix_ost_west_col(customers)"
   ]
  },
  {
   "cell_type": "code",
   "execution_count": 47,
   "metadata": {},
   "outputs": [],
   "source": [
    "#Enconding the ANREDE_KZ  colum:\n",
    "def fix_anrede_col(df):\n",
    "    \"\"\"\n",
    "    Function to label encode the feature \"ANREDE_KZ\"\n",
    "    \"\"\"\n",
    "    df[\"ANREDE_KZ\"] = df[\"ANREDE_KZ\"].replace({1: 0, 2: 1})\n",
    "    \n",
    "    return df\n",
    "\n",
    "azdias = fix_anrede_col(azdias)\n",
    "customers = fix_anrede_col(customers)"
   ]
  },
  {
   "cell_type": "code",
   "execution_count": 48,
   "metadata": {},
   "outputs": [],
   "source": [
    "#Splitting the CAMEO_INTL_2015 into two new columns:\n",
    "def fix_cameo_intl_col(df):\n",
    "    \n",
    "    df['CAMEO_INTL_2015_WEALTH'] = df['CAMEO_INTL_2015'].apply(lambda x: np.floor_divide(float(x), 10) if float(x) else np.nan)\n",
    "    df['CAMEO_INTL_2015_FAMILY'] = df['CAMEO_INTL_2015'].apply(lambda x: np.mod(float(x), 10) if float(x) else np.nan)\n",
    "    \n",
    "    df.drop(\"CAMEO_INTL_2015\", axis=1, inplace=True)\n",
    "    return df\n",
    "\n",
    "azdias = fix_cameo_intl_col(azdias)\n",
    "customers = fix_cameo_intl_col(customers)\n"
   ]
  },
  {
   "cell_type": "code",
   "execution_count": 49,
   "metadata": {},
   "outputs": [],
   "source": [
    "#Fixing WOHNLAGE column that have 0 values score.\n",
    "def fix_wohnlage_col(df):\n",
    "    \"\"\"\n",
    "    Function to remove '0' from \"WOHNLAGE\" \n",
    "    \"\"\"\n",
    "    df[\"WOHNLAGE\"] = df[\"WOHNLAGE\"].replace({0: np.nan})\n",
    "    \n",
    "    return df\n",
    "\n",
    "azdias = fix_wohnlage_col(azdias)\n",
    "customers = fix_wohnlage_col(customers)"
   ]
  },
  {
   "cell_type": "code",
   "execution_count": 50,
   "metadata": {},
   "outputs": [],
   "source": [
    "#Splitting the customers dataframe into two, separating the extra columns from the common ones\n",
    "customer_extra_cols = customers[extra_cols_in_customers]\n",
    "customers = customers.drop(extra_cols_in_customers, axis = 1)"
   ]
  },
  {
   "cell_type": "code",
   "execution_count": 51,
   "metadata": {},
   "outputs": [],
   "source": [
    "#Imputing values on the remaing rows. Since it is demographic data we will imput the most common values using Imputer\n",
    "imputer = Imputer(strategy=\"most_frequent\")\n",
    "\n",
    "azdias = pd.DataFrame(imputer.fit_transform(azdias), columns = azdias.columns)\n",
    "customers = pd.DataFrame(imputer.transform(customers), columns = customers.columns)"
   ]
  },
  {
   "cell_type": "code",
   "execution_count": 52,
   "metadata": {},
   "outputs": [],
   "source": [
    "#Feature Scaling the cleanead data to make sure all columns have the same range\n",
    "scaler = StandardScaler()\n",
    "\n",
    "scaler.fit(azdias)\n",
    "\n",
    "azdias = pd.DataFrame(scaler.transform(azdias), columns = azdias.columns)\n",
    "customers = pd.DataFrame(scaler.transform(customers), columns = customers.columns)"
   ]
  },
  {
   "cell_type": "code",
   "execution_count": 53,
   "metadata": {},
   "outputs": [
    {
     "data": {
      "text/plain": [
       "((737288, 364), (134246, 364), (134246, 3))"
      ]
     },
     "execution_count": 53,
     "metadata": {},
     "output_type": "execute_result"
    }
   ],
   "source": [
    "#Checking the final shape of the dataframes\n",
    "azdias.shape, customers.shape, customer_extra_cols.shape"
   ]
  },
  {
   "cell_type": "markdown",
   "metadata": {},
   "source": [
    "## Part 1: Customer Segmentation Report\n",
    "\n",
    "The main bulk of your analysis will come in this part of the project. Here, you should use unsupervised learning techniques to describe the relationship between the demographics of the company's existing customers and the general population of Germany. By the end of this part, you should be able to describe parts of the general population that are more likely to be part of the mail-order company's main customer base, and which parts of the general population are less so."
   ]
  },
  {
   "cell_type": "markdown",
   "metadata": {},
   "source": [
    "### Dimensionality Reduction\n",
    "\n",
    "> We will use Principal Component Analysis (PCA) in order to find out how much each feature is varying. Since, the number of features in the data is relatively high it is faster using this statistical approach than checkin one by one.\n"
   ]
  },
  {
   "cell_type": "code",
   "execution_count": 54,
   "metadata": {},
   "outputs": [],
   "source": [
    "pd.set_option(\"display.max_colwidth\", 200)\n",
    "\n",
    "def perform_pca(data, n_components=None):\n",
    "    pca = PCA(n_components, random_state=SEED)\n",
    "    pca.fit(data)\n",
    "    data_transformed = pca.transform(data)\n",
    "    return pca, data_transformed"
   ]
  },
  {
   "cell_type": "code",
   "execution_count": 55,
   "metadata": {},
   "outputs": [],
   "source": [
    "pca_azdias, _ = perform_pca(azdias, None)"
   ]
  },
  {
   "cell_type": "code",
   "execution_count": 56,
   "metadata": {},
   "outputs": [
    {
     "data": {
      "image/png": "[encoded data removed]",
      "text/plain": [
       "<matplotlib.figure.Figure at 0x7fe7710f81d0>"
      ]
     },
     "metadata": {
      "needs_background": "light"
     },
     "output_type": "display_data"
    }
   ],
   "source": [
    "#Creating a function to plot the PCA variance\n",
    "def plot_pca_exp_variance(pca_azdias, cumulative=True, figsize=(8,10)):\n",
    "    \"\"\"\n",
    "    Takes in two PCA models (which are fit on corresponding data) and plots \n",
    "    their Explained Variance vs Number of components\n",
    "    \n",
    "    \"\"\"   \n",
    "    \n",
    "    if cumulative:\n",
    "        azdias_variance = np.cumsum(pca_azdias.explained_variance_ratio_)\n",
    "        y_label = \"Percentage Explained Variance\"\n",
    "    else:\n",
    "        azdias_variance = pca_azdias.explained_variance_ratio_\n",
    "        y_label = \"Explained Variance Ratio\"\n",
    "        \n",
    "    fig = plt.figure(figsize=figsize)\n",
    "\n",
    "    ax = fig.add_subplot(211)\n",
    "    ax.plot(azdias_variance)\n",
    "    ax.set_xlabel(\"No. of components\")\n",
    "    ax.set_ylabel(y_label)\n",
    "    ax.set_title(\"Azdias - PCA Explained Variance Ratio vs Number of Components\")\n",
    "    ax.grid()\n",
    "    plt.show()\n",
    "    \n",
    "plot_pca_exp_variance(pca_azdias)"
   ]
  },
  {
   "cell_type": "markdown",
   "metadata": {},
   "source": [
    "We can see by the plot that around 150 features explain around 90% of total variance. So, we are going to set the number of components to 150 and perform PCA again, then we can see the feature importances for each component in the analysis."
   ]
  },
  {
   "cell_type": "markdown",
   "metadata": {},
   "source": [
    "### PCA Components Interpretation"
   ]
  },
  {
   "cell_type": "code",
   "execution_count": 57,
   "metadata": {},
   "outputs": [],
   "source": [
    "#Creating a function to check features importance for a given component\n",
    "def plot_feature_weights(df, pca, attributes_info, dimension, n_weights = 5, plot=True,figsize=(7,8)):\n",
    "    \"\"\"\n",
    "    This function displays interesting features of the selected dimension\n",
    "    \"\"\"\n",
    "    \n",
    "    features = df.columns.values\n",
    "    components = pca.components_\n",
    "    feature_weights = dict(zip(features, components[dimension]))\n",
    "    sorted_weights = sorted(feature_weights.items(), key = lambda kv: kv[1])\n",
    "    \n",
    "    feat_names = []\n",
    "    feat_weights = []\n",
    "    feat_descs = []\n",
    "\n",
    "    for feature, weight in sorted_weights[-n_weights:]:\n",
    "        feat_names.append(feature)\n",
    "        feat_weights.append(weight)\n",
    "        \n",
    "    for feature, weight, in sorted_weights[:n_weights]:\n",
    "        feat_names.append(feature)\n",
    "        feat_weights.append(weight)\n",
    "        \n",
    "    for feature in feat_names:\n",
    "        if feature in attributes_info.Attribute.values:\n",
    "            feat_descs.append(attributes_info[attributes_info.Attribute == feature].Description.values[0])\n",
    "        else:\n",
    "            feat_descs.append(\"No description given\")\n",
    "    \n",
    "    component_info = {\"Feature\":feat_names, \"Description\":feat_descs, \"FeatureWeight\":feat_weights}\n",
    "    component_info = pd.DataFrame(component_info)\n",
    "    component_info.sort_values(\"FeatureWeight\", inplace=True, ascending=False)\n",
    "           \n",
    "    if plot:\n",
    "        fig = plt.figure(figsize=figsize)\n",
    "\n",
    "        ax = fig.add_subplot(211)\n",
    "        ax.bar(feat_names, feat_weights)\n",
    "        ax.set_ylabel(\"Feature Weight\")\n",
    "        ax.set_xlabel(\"Feature Name\")\n",
    "        ax.set_title(\"PCA Feature weights - Component {}\".format(dimension))\n",
    "        for tick in ax.get_xticklabels():\n",
    "            tick.set_rotation(45)\n",
    "        ax.grid()\n",
    "\n",
    "        fig.tight_layout()\n",
    "        plt.show()\n",
    "    \n",
    "    return component_info"
   ]
  },
  {
   "cell_type": "code",
   "execution_count": 58,
   "metadata": {},
   "outputs": [
    {
     "data": {
      "image/png": "[encoded data removed]",
      "text/plain": [
       "<matplotlib.figure.Figure at 0x7fe7710f8908>"
      ]
     },
     "metadata": {
      "needs_background": "light"
     },
     "output_type": "display_data"
    },
    {
     "data": {
      "text/html": [
       "<div>\n",
       "<style scoped>\n",
       "    .dataframe tbody tr th:only-of-type {\n",
       "        vertical-align: middle;\n",
       "    }\n",
       "\n",
       "    .dataframe tbody tr th {\n",
       "        vertical-align: top;\n",
       "    }\n",
       "\n",
       "    .dataframe thead th {\n",
       "        text-align: right;\n",
       "    }\n",
       "</style>\n",
       "<table border=\"1\" class=\"dataframe\">\n",
       "  <thead>\n",
       "    <tr style=\"text-align: right;\">\n",
       "      <th></th>\n",
       "      <th>Feature</th>\n",
       "      <th>Description</th>\n",
       "      <th>FeatureWeight</th>\n",
       "    </tr>\n",
       "  </thead>\n",
       "  <tbody>\n",
       "    <tr>\n",
       "      <th>2</th>\n",
       "      <td>MOBI_REGIO</td>\n",
       "      <td>moving patterns</td>\n",
       "      <td>0.136591</td>\n",
       "    </tr>\n",
       "    <tr>\n",
       "      <th>1</th>\n",
       "      <td>PLZ8_ANTG1</td>\n",
       "      <td>number of 1-2 family houses in the PLZ8</td>\n",
       "      <td>0.129638</td>\n",
       "    </tr>\n",
       "    <tr>\n",
       "      <th>0</th>\n",
       "      <td>KBA13_ANTG1</td>\n",
       "      <td>No description given</td>\n",
       "      <td>0.128969</td>\n",
       "    </tr>\n",
       "    <tr>\n",
       "      <th>5</th>\n",
       "      <td>KBA13_ANTG4</td>\n",
       "      <td>No description given</td>\n",
       "      <td>-0.124159</td>\n",
       "    </tr>\n",
       "    <tr>\n",
       "      <th>4</th>\n",
       "      <td>KBA13_ANTG3</td>\n",
       "      <td>No description given</td>\n",
       "      <td>-0.127560</td>\n",
       "    </tr>\n",
       "    <tr>\n",
       "      <th>3</th>\n",
       "      <td>PLZ8_ANTG3</td>\n",
       "      <td>number of 6-10 family houses in the PLZ8</td>\n",
       "      <td>-0.128308</td>\n",
       "    </tr>\n",
       "  </tbody>\n",
       "</table>\n",
       "</div>"
      ],
      "text/plain": [
       "       Feature                               Description  FeatureWeight\n",
       "2   MOBI_REGIO                           moving patterns       0.136591\n",
       "1   PLZ8_ANTG1   number of 1-2 family houses in the PLZ8       0.129638\n",
       "0  KBA13_ANTG1                      No description given       0.128969\n",
       "5  KBA13_ANTG4                      No description given      -0.124159\n",
       "4  KBA13_ANTG3                      No description given      -0.127560\n",
       "3   PLZ8_ANTG3  number of 6-10 family houses in the PLZ8      -0.128308"
      ]
     },
     "execution_count": 58,
     "metadata": {},
     "output_type": "execute_result"
    }
   ],
   "source": [
    "#Checking component 0\n",
    "component_0_info = plot_feature_weights(azdias, pca_azdias, attributes_info, 0, 3)\n",
    "component_0_info.head(10)"
   ]
  },
  {
   "cell_type": "markdown",
   "metadata": {},
   "source": [
    "The results for component 0 were that it has a high positive weight to moving patterns and 1-2 family houses in the PLZ8 and negative weight on 6-10 family houses in the PLZ8. Interesting KBA13 features with no description given had positive and negative weights."
   ]
  },
  {
   "cell_type": "code",
   "execution_count": 59,
   "metadata": {},
   "outputs": [
    {
     "data": {
      "image/png": "[encoded data removed]",
      "text/plain": [
       "<matplotlib.figure.Figure at 0x7fe7710f8fd0>"
      ]
     },
     "metadata": {
      "needs_background": "light"
     },
     "output_type": "display_data"
    },
    {
     "data": {
      "text/html": [
       "<div>\n",
       "<style scoped>\n",
       "    .dataframe tbody tr th:only-of-type {\n",
       "        vertical-align: middle;\n",
       "    }\n",
       "\n",
       "    .dataframe tbody tr th {\n",
       "        vertical-align: top;\n",
       "    }\n",
       "\n",
       "    .dataframe thead th {\n",
       "        text-align: right;\n",
       "    }\n",
       "</style>\n",
       "<table border=\"1\" class=\"dataframe\">\n",
       "  <thead>\n",
       "    <tr style=\"text-align: right;\">\n",
       "      <th></th>\n",
       "      <th>Feature</th>\n",
       "      <th>Description</th>\n",
       "      <th>FeatureWeight</th>\n",
       "    </tr>\n",
       "  </thead>\n",
       "  <tbody>\n",
       "    <tr>\n",
       "      <th>2</th>\n",
       "      <td>ONLINE_AFFINITAET</td>\n",
       "      <td>online affinity</td>\n",
       "      <td>0.154768</td>\n",
       "    </tr>\n",
       "    <tr>\n",
       "      <th>1</th>\n",
       "      <td>PRAEGENDE_JUGENDJAHRE</td>\n",
       "      <td>dominating movement in the person's youth (avantgarde or mainstream)</td>\n",
       "      <td>0.143306</td>\n",
       "    </tr>\n",
       "    <tr>\n",
       "      <th>0</th>\n",
       "      <td>D19_GESAMT_ANZ_24</td>\n",
       "      <td>No description given</td>\n",
       "      <td>0.140687</td>\n",
       "    </tr>\n",
       "    <tr>\n",
       "      <th>5</th>\n",
       "      <td>CJT_TYP_5</td>\n",
       "      <td>No description given</td>\n",
       "      <td>-0.134127</td>\n",
       "    </tr>\n",
       "    <tr>\n",
       "      <th>4</th>\n",
       "      <td>D19_GESAMT_ONLINE_DATUM</td>\n",
       "      <td>actuality of the last transaction with the complete file ONLINE</td>\n",
       "      <td>-0.136540</td>\n",
       "    </tr>\n",
       "    <tr>\n",
       "      <th>3</th>\n",
       "      <td>LP_LEBENSPHASE_FEIN</td>\n",
       "      <td>lifestage fine</td>\n",
       "      <td>-0.141184</td>\n",
       "    </tr>\n",
       "  </tbody>\n",
       "</table>\n",
       "</div>"
      ],
      "text/plain": [
       "                   Feature  \\\n",
       "2        ONLINE_AFFINITAET   \n",
       "1    PRAEGENDE_JUGENDJAHRE   \n",
       "0        D19_GESAMT_ANZ_24   \n",
       "5                CJT_TYP_5   \n",
       "4  D19_GESAMT_ONLINE_DATUM   \n",
       "3      LP_LEBENSPHASE_FEIN   \n",
       "\n",
       "                                                            Description  \\\n",
       "2                                                       online affinity   \n",
       "1  dominating movement in the person's youth (avantgarde or mainstream)   \n",
       "0                                                  No description given   \n",
       "5                                                  No description given   \n",
       "4       actuality of the last transaction with the complete file ONLINE   \n",
       "3                                                        lifestage fine   \n",
       "\n",
       "   FeatureWeight  \n",
       "2       0.154768  \n",
       "1       0.143306  \n",
       "0       0.140687  \n",
       "5      -0.134127  \n",
       "4      -0.136540  \n",
       "3      -0.141184  "
      ]
     },
     "execution_count": 59,
     "metadata": {},
     "output_type": "execute_result"
    }
   ],
   "source": [
    "#Checking component 1\n",
    "component_1_info = plot_feature_weights(azdias, pca_azdias, attributes_info, 1, 3)\n",
    "component_1_info.head(10)"
   ]
  },
  {
   "cell_type": "markdown",
   "metadata": {},
   "source": [
    "The results for component 1 were that it has a  positive weight online affinity and dominating movement in the person's youth and negative weight to features containing information about when was the last transaction made."
   ]
  },
  {
   "cell_type": "code",
   "execution_count": 60,
   "metadata": {},
   "outputs": [
    {
     "data": {
      "image/png": "[encoded data removed]",
      "text/plain": [
       "<matplotlib.figure.Figure at 0x7fe7721e0860>"
      ]
     },
     "metadata": {
      "needs_background": "light"
     },
     "output_type": "display_data"
    },
    {
     "data": {
      "text/html": [
       "<div>\n",
       "<style scoped>\n",
       "    .dataframe tbody tr th:only-of-type {\n",
       "        vertical-align: middle;\n",
       "    }\n",
       "\n",
       "    .dataframe tbody tr th {\n",
       "        vertical-align: top;\n",
       "    }\n",
       "\n",
       "    .dataframe thead th {\n",
       "        text-align: right;\n",
       "    }\n",
       "</style>\n",
       "<table border=\"1\" class=\"dataframe\">\n",
       "  <thead>\n",
       "    <tr style=\"text-align: right;\">\n",
       "      <th></th>\n",
       "      <th>Feature</th>\n",
       "      <th>Description</th>\n",
       "      <th>FeatureWeight</th>\n",
       "    </tr>\n",
       "  </thead>\n",
       "  <tbody>\n",
       "    <tr>\n",
       "      <th>2</th>\n",
       "      <td>KBA13_HERST_BMW_BENZ</td>\n",
       "      <td>share of BMW &amp; Mercedes Benz within the PLZ8</td>\n",
       "      <td>0.179700</td>\n",
       "    </tr>\n",
       "    <tr>\n",
       "      <th>1</th>\n",
       "      <td>KBA13_SEG_OBEREMITTELKLASSE</td>\n",
       "      <td>share of upper middle class cars and upper class cars (BMW5er, BMW7er etc.)</td>\n",
       "      <td>0.155522</td>\n",
       "    </tr>\n",
       "    <tr>\n",
       "      <th>0</th>\n",
       "      <td>KBA13_MERCEDES</td>\n",
       "      <td>share of MERCEDES within the PLZ8</td>\n",
       "      <td>0.153594</td>\n",
       "    </tr>\n",
       "    <tr>\n",
       "      <th>5</th>\n",
       "      <td>KBA13_KMH_140_210</td>\n",
       "      <td>share of cars with max speed between 140 and 210 km/h within the PLZ8</td>\n",
       "      <td>-0.126278</td>\n",
       "    </tr>\n",
       "    <tr>\n",
       "      <th>4</th>\n",
       "      <td>KBA13_SEG_KLEINWAGEN</td>\n",
       "      <td>share of small and very small cars (Ford Fiesta, Ford Ka etc.) in the PLZ8</td>\n",
       "      <td>-0.128313</td>\n",
       "    </tr>\n",
       "    <tr>\n",
       "      <th>3</th>\n",
       "      <td>KBA13_SITZE_5</td>\n",
       "      <td>number of cars with 5 seats in the PLZ8</td>\n",
       "      <td>-0.149327</td>\n",
       "    </tr>\n",
       "  </tbody>\n",
       "</table>\n",
       "</div>"
      ],
      "text/plain": [
       "                       Feature  \\\n",
       "2         KBA13_HERST_BMW_BENZ   \n",
       "1  KBA13_SEG_OBEREMITTELKLASSE   \n",
       "0               KBA13_MERCEDES   \n",
       "5            KBA13_KMH_140_210   \n",
       "4         KBA13_SEG_KLEINWAGEN   \n",
       "3                KBA13_SITZE_5   \n",
       "\n",
       "                                                                   Description  \\\n",
       "2                                 share of BMW & Mercedes Benz within the PLZ8   \n",
       "1  share of upper middle class cars and upper class cars (BMW5er, BMW7er etc.)   \n",
       "0                                            share of MERCEDES within the PLZ8   \n",
       "5        share of cars with max speed between 140 and 210 km/h within the PLZ8   \n",
       "4   share of small and very small cars (Ford Fiesta, Ford Ka etc.) in the PLZ8   \n",
       "3                                      number of cars with 5 seats in the PLZ8   \n",
       "\n",
       "   FeatureWeight  \n",
       "2       0.179700  \n",
       "1       0.155522  \n",
       "0       0.153594  \n",
       "5      -0.126278  \n",
       "4      -0.128313  \n",
       "3      -0.149327  "
      ]
     },
     "execution_count": 60,
     "metadata": {},
     "output_type": "execute_result"
    }
   ],
   "source": [
    "#Checking component 2\n",
    "component_2_info = plot_feature_weights(azdias, pca_azdias, attributes_info, 2, 3)\n",
    "component_2_info.head(10)"
   ]
  },
  {
   "cell_type": "markdown",
   "metadata": {},
   "source": [
    "The results for component 2 were that it has a positive on BMW and Mercedes owners and negative weight on small and lower class car owners."
   ]
  },
  {
   "cell_type": "code",
   "execution_count": 61,
   "metadata": {},
   "outputs": [
    {
     "data": {
      "image/png": "[encoded data removed]",
      "text/plain": [
       "<matplotlib.figure.Figure at 0x7fe7729ac828>"
      ]
     },
     "metadata": {
      "needs_background": "light"
     },
     "output_type": "display_data"
    },
    {
     "data": {
      "text/html": [
       "<div>\n",
       "<style scoped>\n",
       "    .dataframe tbody tr th:only-of-type {\n",
       "        vertical-align: middle;\n",
       "    }\n",
       "\n",
       "    .dataframe tbody tr th {\n",
       "        vertical-align: top;\n",
       "    }\n",
       "\n",
       "    .dataframe thead th {\n",
       "        text-align: right;\n",
       "    }\n",
       "</style>\n",
       "<table border=\"1\" class=\"dataframe\">\n",
       "  <thead>\n",
       "    <tr style=\"text-align: right;\">\n",
       "      <th></th>\n",
       "      <th>Feature</th>\n",
       "      <th>Description</th>\n",
       "      <th>FeatureWeight</th>\n",
       "    </tr>\n",
       "  </thead>\n",
       "  <tbody>\n",
       "    <tr>\n",
       "      <th>2</th>\n",
       "      <td>FINANZ_VORSORGER</td>\n",
       "      <td>financial typology: be prepared</td>\n",
       "      <td>0.130964</td>\n",
       "    </tr>\n",
       "    <tr>\n",
       "      <th>1</th>\n",
       "      <td>ALTERSKATEGORIE_GROB</td>\n",
       "      <td>age through prename analysis</td>\n",
       "      <td>0.125424</td>\n",
       "    </tr>\n",
       "    <tr>\n",
       "      <th>0</th>\n",
       "      <td>CJT_TYP_5</td>\n",
       "      <td>No description given</td>\n",
       "      <td>0.120087</td>\n",
       "    </tr>\n",
       "    <tr>\n",
       "      <th>5</th>\n",
       "      <td>FINANZ_UNAUFFAELLIGER</td>\n",
       "      <td>financial typology: unremarkable</td>\n",
       "      <td>-0.139192</td>\n",
       "    </tr>\n",
       "    <tr>\n",
       "      <th>4</th>\n",
       "      <td>FINANZ_SPARER</td>\n",
       "      <td>financial typology: money saver</td>\n",
       "      <td>-0.142185</td>\n",
       "    </tr>\n",
       "    <tr>\n",
       "      <th>3</th>\n",
       "      <td>FINANZ_ANLEGER</td>\n",
       "      <td>financial typology: investor</td>\n",
       "      <td>-0.143135</td>\n",
       "    </tr>\n",
       "  </tbody>\n",
       "</table>\n",
       "</div>"
      ],
      "text/plain": [
       "                 Feature                       Description  FeatureWeight\n",
       "2       FINANZ_VORSORGER   financial typology: be prepared       0.130964\n",
       "1   ALTERSKATEGORIE_GROB     age through prename analysis        0.125424\n",
       "0              CJT_TYP_5              No description given       0.120087\n",
       "5  FINANZ_UNAUFFAELLIGER  financial typology: unremarkable      -0.139192\n",
       "4          FINANZ_SPARER   financial typology: money saver      -0.142185\n",
       "3         FINANZ_ANLEGER      financial typology: investor      -0.143135"
      ]
     },
     "execution_count": 61,
     "metadata": {},
     "output_type": "execute_result"
    }
   ],
   "source": [
    "#Checking component 3\n",
    "component_3_info = plot_feature_weights(azdias, pca_azdias, attributes_info, 3, 3)\n",
    "component_3_info.head(10)"
   ]
  },
  {
   "cell_type": "markdown",
   "metadata": {},
   "source": [
    "The results for component 3 were that it has a positive finance prepared people and also on age through prename and negative weight on investors and money savers."
   ]
  },
  {
   "cell_type": "code",
   "execution_count": 62,
   "metadata": {},
   "outputs": [
    {
     "data": {
      "image/png": "[encoded data removed]",
      "text/plain": [
       "<matplotlib.figure.Figure at 0x7fe77112deb8>"
      ]
     },
     "metadata": {
      "needs_background": "light"
     },
     "output_type": "display_data"
    },
    {
     "data": {
      "text/html": [
       "<div>\n",
       "<style scoped>\n",
       "    .dataframe tbody tr th:only-of-type {\n",
       "        vertical-align: middle;\n",
       "    }\n",
       "\n",
       "    .dataframe tbody tr th {\n",
       "        vertical-align: top;\n",
       "    }\n",
       "\n",
       "    .dataframe thead th {\n",
       "        text-align: right;\n",
       "    }\n",
       "</style>\n",
       "<table border=\"1\" class=\"dataframe\">\n",
       "  <thead>\n",
       "    <tr style=\"text-align: right;\">\n",
       "      <th></th>\n",
       "      <th>Feature</th>\n",
       "      <th>Description</th>\n",
       "      <th>FeatureWeight</th>\n",
       "    </tr>\n",
       "  </thead>\n",
       "  <tbody>\n",
       "    <tr>\n",
       "      <th>2</th>\n",
       "      <td>KBA13_KW_61_120</td>\n",
       "      <td>share of cars with an engine power between 61 and 120 KW - PLZ8</td>\n",
       "      <td>0.182506</td>\n",
       "    </tr>\n",
       "    <tr>\n",
       "      <th>1</th>\n",
       "      <td>KBA13_KMH_210</td>\n",
       "      <td>No description given</td>\n",
       "      <td>0.171558</td>\n",
       "    </tr>\n",
       "    <tr>\n",
       "      <th>0</th>\n",
       "      <td>OST_WEST_KZ</td>\n",
       "      <td>flag indicating the former GDR/FRG</td>\n",
       "      <td>0.170688</td>\n",
       "    </tr>\n",
       "    <tr>\n",
       "      <th>5</th>\n",
       "      <td>KBA13_CCM_0_1400</td>\n",
       "      <td>share of cars with less than 1401ccm within the PLZ8</td>\n",
       "      <td>-0.149944</td>\n",
       "    </tr>\n",
       "    <tr>\n",
       "      <th>4</th>\n",
       "      <td>KBA13_BJ_2000</td>\n",
       "      <td>share of cars built between 2000 and 2003 within the PLZ8</td>\n",
       "      <td>-0.172656</td>\n",
       "    </tr>\n",
       "    <tr>\n",
       "      <th>3</th>\n",
       "      <td>KBA13_KW_0_60</td>\n",
       "      <td>share of cars with less than 61 KW engine power - PLZ8</td>\n",
       "      <td>-0.187615</td>\n",
       "    </tr>\n",
       "  </tbody>\n",
       "</table>\n",
       "</div>"
      ],
      "text/plain": [
       "            Feature  \\\n",
       "2   KBA13_KW_61_120   \n",
       "1     KBA13_KMH_210   \n",
       "0       OST_WEST_KZ   \n",
       "5  KBA13_CCM_0_1400   \n",
       "4     KBA13_BJ_2000   \n",
       "3     KBA13_KW_0_60   \n",
       "\n",
       "                                                       Description  \\\n",
       "2  share of cars with an engine power between 61 and 120 KW - PLZ8   \n",
       "1                                             No description given   \n",
       "0                               flag indicating the former GDR/FRG   \n",
       "5             share of cars with less than 1401ccm within the PLZ8   \n",
       "4        share of cars built between 2000 and 2003 within the PLZ8   \n",
       "3           share of cars with less than 61 KW engine power - PLZ8   \n",
       "\n",
       "   FeatureWeight  \n",
       "2       0.182506  \n",
       "1       0.171558  \n",
       "0       0.170688  \n",
       "5      -0.149944  \n",
       "4      -0.172656  \n",
       "3      -0.187615  "
      ]
     },
     "execution_count": 62,
     "metadata": {},
     "output_type": "execute_result"
    }
   ],
   "source": [
    "#Checking component 4\n",
    "component_4_info = plot_feature_weights(azdias, pca_azdias, attributes_info, 4, 3)\n",
    "component_4_info.head(10)"
   ]
  },
  {
   "cell_type": "markdown",
   "metadata": {},
   "source": [
    "Component 4 shows that people with share of cars with less than 61KW engine has highest negative weight and cars with engine power between 61 and 120KW has highest positive weight.The origins of the person i.e. where they belonged before German unification is also having a positive weight.Some other car specifications are playing an impact on this component."
   ]
  },
  {
   "cell_type": "markdown",
   "metadata": {},
   "source": [
    "### K-Means Clustering\n",
    "After reducing the number of dimensions, we will now use the K-Means Clustering algorithm to cluster the general population into different segments."
   ]
  },
  {
   "cell_type": "code",
   "execution_count": 63,
   "metadata": {},
   "outputs": [],
   "source": [
    "pca_150, azdias_pca_150 = perform_pca(azdias, n_components=150)"
   ]
  },
  {
   "cell_type": "code",
   "execution_count": 64,
   "metadata": {},
   "outputs": [],
   "source": [
    "def get_Kmeans_scores(data, K_start, K_end, step=1):\n",
    "    \n",
    "    scores = []\n",
    "    \n",
    "    print(\"Performing K-Means clustering\")\n",
    "    print(\"Given range min:{}, max:{}, step:{}\".format(K_start, K_end, step))\n",
    "\n",
    "    for n in range(K_start, K_end+1, step):\n",
    "        \n",
    "        print(\"\\nTraining for n_clusters: \", n)\n",
    "        start = time.time()\n",
    "        \n",
    "        kmeans = KMeans(n, random_state=SEED)\n",
    "        model = kmeans.fit(data)\n",
    "        scores.append(abs(model.score(data)))\n",
    "        \n",
    "        print(\"Done! Score: \", scores[-1])\n",
    "        print(\"Time elapsed: {:.2f} sec.\".format(time.time()-start))\n",
    "        \n",
    "    return scores, range(K_start, K_end+1, step)"
   ]
  },
  {
   "cell_type": "code",
   "execution_count": 65,
   "metadata": {},
   "outputs": [
    {
     "name": "stdout",
     "output_type": "stream",
     "text": [
      "Performing K-Means clustering\n",
      "Given range min:2, max:20, step:1\n",
      "\n",
      "Training for n_clusters:  2\n",
      "Done! Score:  210996809.575\n",
      "Time elapsed: 78.52 sec.\n",
      "\n",
      "Training for n_clusters:  3\n",
      "Done! Score:  203213880.16\n",
      "Time elapsed: 109.29 sec.\n",
      "\n",
      "Training for n_clusters:  4\n",
      "Done! Score:  198675964.62\n",
      "Time elapsed: 158.96 sec.\n",
      "\n",
      "Training for n_clusters:  5\n",
      "Done! Score:  194870567.553\n",
      "Time elapsed: 200.29 sec.\n",
      "\n",
      "Training for n_clusters:  6\n",
      "Done! Score:  191997717.945\n",
      "Time elapsed: 251.52 sec.\n",
      "\n",
      "Training for n_clusters:  7\n",
      "Done! Score:  189458986.323\n",
      "Time elapsed: 294.26 sec.\n",
      "\n",
      "Training for n_clusters:  8\n",
      "Done! Score:  187395673.024\n",
      "Time elapsed: 326.04 sec.\n",
      "\n",
      "Training for n_clusters:  9\n",
      "Done! Score:  185558833.418\n",
      "Time elapsed: 300.75 sec.\n",
      "\n",
      "Training for n_clusters:  10\n",
      "Done! Score:  184174992.163\n",
      "Time elapsed: 413.71 sec.\n",
      "\n",
      "Training for n_clusters:  11\n",
      "Done! Score:  182930010.312\n",
      "Time elapsed: 536.65 sec.\n",
      "\n",
      "Training for n_clusters:  12\n",
      "Done! Score:  181784145.128\n",
      "Time elapsed: 587.77 sec.\n",
      "\n",
      "Training for n_clusters:  13\n",
      "Done! Score:  180867030.696\n",
      "Time elapsed: 613.69 sec.\n",
      "\n",
      "Training for n_clusters:  14\n",
      "Done! Score:  179957606.553\n",
      "Time elapsed: 642.12 sec.\n",
      "\n",
      "Training for n_clusters:  15\n",
      "Done! Score:  178979885.817\n",
      "Time elapsed: 647.94 sec.\n",
      "\n",
      "Training for n_clusters:  16\n",
      "Done! Score:  178131005.448\n",
      "Time elapsed: 630.70 sec.\n",
      "\n",
      "Training for n_clusters:  17\n",
      "Done! Score:  177698477.799\n",
      "Time elapsed: 618.58 sec.\n",
      "\n",
      "Training for n_clusters:  18\n",
      "Done! Score:  176925257.106\n",
      "Time elapsed: 717.72 sec.\n",
      "\n",
      "Training for n_clusters:  19\n",
      "Done! Score:  176102311.207\n",
      "Time elapsed: 762.38 sec.\n",
      "\n",
      "Training for n_clusters:  20\n",
      "Done! Score:  175368281.712\n",
      "Time elapsed: 753.95 sec.\n",
      "CPU times: user 2h 16min 38s, sys: 4min 13s, total: 2h 20min 52s\n",
      "Wall time: 2h 24min 5s\n"
     ]
    }
   ],
   "source": [
    "%%time\n",
    "scores, range_ = get_Kmeans_scores(azdias_pca_150, 2, 20, 1)"
   ]
  },
  {
   "cell_type": "code",
   "execution_count": 66,
   "metadata": {},
   "outputs": [
    {
     "data": {
      "image/png": "[encoded data removed]",
      "text/plain": [
       "<matplotlib.figure.Figure at 0x7fe77205d198>"
      ]
     },
     "metadata": {
      "needs_background": "light"
     },
     "output_type": "display_data"
    }
   ],
   "source": [
    "def plot_elbow(scores, range_):\n",
    "    \n",
    "    fig = plt.figure(figsize=(12,6))\n",
    "    ax = fig.add_subplot(111)\n",
    "    \n",
    "    ax.plot(range_, scores, linestyle= \"--\",marker = \"o\", color=\"orange\")\n",
    "    ax.set_xlabel(\"No. of Clusters\")\n",
    "    ax.set_ylabel(\"Sum of squared distances\")\n",
    "    ax.set_title(\"Kmeans - Cluster distances vs No. of Clusters\")\n",
    "    \n",
    "    plt.show()\n",
    "    \n",
    "plot_elbow(scores, range_)"
   ]
  },
  {
   "cell_type": "markdown",
   "metadata": {},
   "source": [
    "### Defining the number of clusters\n",
    "From the elbow plot above, it is possible to define 10 as the optimal number of clusters since the sum of squared error decreasing a way less rate after that point, so adding one more cluster will not reduce the sum of square distances between the clusters."
   ]
  },
  {
   "cell_type": "code",
   "execution_count": 73,
   "metadata": {},
   "outputs": [
    {
     "data": {
      "text/plain": [
       "KMeans(algorithm='auto', copy_x=True, init='k-means++', max_iter=300,\n",
       "    n_clusters=10, n_init=10, n_jobs=1, precompute_distances='auto',\n",
       "    random_state=2, tol=0.0001, verbose=0)"
      ]
     },
     "execution_count": 73,
     "metadata": {},
     "output_type": "execute_result"
    }
   ],
   "source": [
    "#Fitting KMeans to 10 clusters\n",
    "kmeans = KMeans(10, random_state=SEED)\n",
    "kmeans.fit(azdias_pca_150)"
   ]
  },
  {
   "cell_type": "code",
   "execution_count": 74,
   "metadata": {},
   "outputs": [],
   "source": [
    "#Predicting the cluster to the AZDIAS dataframe\n",
    "azdias_clusters = kmeans.predict(azdias_pca_150)"
   ]
  },
  {
   "cell_type": "code",
   "execution_count": 75,
   "metadata": {},
   "outputs": [],
   "source": [
    "#Transforming the customers_pca_150 dataframe using the customers dataframe\n",
    "customers_pca_150 = pca_150.transform(customers)"
   ]
  },
  {
   "cell_type": "code",
   "execution_count": 76,
   "metadata": {},
   "outputs": [],
   "source": [
    "#Predicting the cluster to the CUSTOMERS dataframe\n",
    "customers_clusters = kmeans.predict(customers_pca_150)"
   ]
  },
  {
   "cell_type": "code",
   "execution_count": 77,
   "metadata": {},
   "outputs": [
    {
     "name": "stdout",
     "output_type": "stream",
     "text": [
      "[8 8 3 1 3 8 8 4 4 9 8 8 4 6 8] \n",
      " [3 9 3 1 5 5 5 4 5 5 0 9 5 5 0]\n"
     ]
    }
   ],
   "source": [
    "#Checking the results\n",
    "print(azdias_clusters[:15], \"\\n\",customers_clusters[:15])"
   ]
  },
  {
   "cell_type": "code",
   "execution_count": 79,
   "metadata": {},
   "outputs": [],
   "source": [
    "#Creatind a panda series from clusters\n",
    "customers_clusters = pd.Series(customers_clusters)\n",
    "azdias_clusters = pd.Series(azdias_clusters)"
   ]
  },
  {
   "cell_type": "code",
   "execution_count": 80,
   "metadata": {},
   "outputs": [
    {
     "data": {
      "text/html": [
       "<div>\n",
       "<style scoped>\n",
       "    .dataframe tbody tr th:only-of-type {\n",
       "        vertical-align: middle;\n",
       "    }\n",
       "\n",
       "    .dataframe tbody tr th {\n",
       "        vertical-align: top;\n",
       "    }\n",
       "\n",
       "    .dataframe thead th {\n",
       "        text-align: right;\n",
       "    }\n",
       "</style>\n",
       "<table border=\"1\" class=\"dataframe\">\n",
       "  <thead>\n",
       "    <tr style=\"text-align: right;\">\n",
       "      <th></th>\n",
       "      <th>Cluster</th>\n",
       "      <th>Population</th>\n",
       "      <th>Customers</th>\n",
       "    </tr>\n",
       "  </thead>\n",
       "  <tbody>\n",
       "    <tr>\n",
       "      <th>0</th>\n",
       "      <td>0</td>\n",
       "      <td>79284</td>\n",
       "      <td>15837</td>\n",
       "    </tr>\n",
       "    <tr>\n",
       "      <th>1</th>\n",
       "      <td>1</td>\n",
       "      <td>59886</td>\n",
       "      <td>3811</td>\n",
       "    </tr>\n",
       "    <tr>\n",
       "      <th>2</th>\n",
       "      <td>2</td>\n",
       "      <td>45203</td>\n",
       "      <td>3353</td>\n",
       "    </tr>\n",
       "    <tr>\n",
       "      <th>3</th>\n",
       "      <td>3</td>\n",
       "      <td>99442</td>\n",
       "      <td>25816</td>\n",
       "    </tr>\n",
       "    <tr>\n",
       "      <th>4</th>\n",
       "      <td>4</td>\n",
       "      <td>53587</td>\n",
       "      <td>11024</td>\n",
       "    </tr>\n",
       "    <tr>\n",
       "      <th>5</th>\n",
       "      <td>5</td>\n",
       "      <td>72241</td>\n",
       "      <td>54140</td>\n",
       "    </tr>\n",
       "    <tr>\n",
       "      <th>6</th>\n",
       "      <td>6</td>\n",
       "      <td>80120</td>\n",
       "      <td>1848</td>\n",
       "    </tr>\n",
       "    <tr>\n",
       "      <th>7</th>\n",
       "      <td>7</td>\n",
       "      <td>51851</td>\n",
       "      <td>2608</td>\n",
       "    </tr>\n",
       "    <tr>\n",
       "      <th>8</th>\n",
       "      <td>8</td>\n",
       "      <td>104430</td>\n",
       "      <td>1165</td>\n",
       "    </tr>\n",
       "    <tr>\n",
       "      <th>9</th>\n",
       "      <td>9</td>\n",
       "      <td>91244</td>\n",
       "      <td>14644</td>\n",
       "    </tr>\n",
       "  </tbody>\n",
       "</table>\n",
       "</div>"
      ],
      "text/plain": [
       "   Cluster  Population  Customers\n",
       "0        0       79284      15837\n",
       "1        1       59886       3811\n",
       "2        2       45203       3353\n",
       "3        3       99442      25816\n",
       "4        4       53587      11024\n",
       "5        5       72241      54140\n",
       "6        6       80120       1848\n",
       "7        7       51851       2608\n",
       "8        8      104430       1165\n",
       "9        9       91244      14644"
      ]
     },
     "execution_count": 80,
     "metadata": {},
     "output_type": "execute_result"
    }
   ],
   "source": [
    "#Checking the number of customers per cluster\n",
    "cluster_info = pd.DataFrame([])\n",
    "\n",
    "cluster_info[\"Population\"] = azdias_clusters.value_counts().sort_index()\n",
    "cluster_info[\"Customers\"] = customers_clusters.value_counts().sort_index()\n",
    "cluster_info.reset_index(inplace=True)\n",
    "cluster_info.rename(columns={\"index\":\"Cluster\"}, inplace=True)\n",
    "\n",
    "cluster_info"
   ]
  },
  {
   "cell_type": "code",
   "execution_count": 81,
   "metadata": {},
   "outputs": [
    {
     "data": {
      "image/png": "[encoded data removed]",
      "text/plain": [
       "<matplotlib.figure.Figure at 0x7fe7711c49e8>"
      ]
     },
     "metadata": {
      "needs_background": "light"
     },
     "output_type": "display_data"
    }
   ],
   "source": [
    "#Plotting the number number of customers per cluster\n",
    "fig, (ax1, ax2) = plt.subplots(1,2, figsize=(10, 4))\n",
    "\n",
    "ax1.bar(cluster_info[\"Cluster\"], cluster_info[\"Population\"])\n",
    "ax1.set_xlabel(\"Cluster\")\n",
    "ax1.set_ylabel(\"No. of People\")\n",
    "ax1.set_title(\"General Population\")\n",
    "\n",
    "ax2.bar(cluster_info[\"Cluster\"], cluster_info[\"Customers\"])\n",
    "ax2.set_xlabel(\"Cluster\")\n",
    "ax2.set_ylabel(\"No. of People\")\n",
    "ax2.set_title(\"Customers\")\n",
    "\n",
    "fig.suptitle(\"Cluster Distributions\")\n",
    "fig.tight_layout(rect=[0, 0.03, 1, 0.95])\n",
    "plt.show()"
   ]
  },
  {
   "cell_type": "code",
   "execution_count": 82,
   "metadata": {},
   "outputs": [],
   "source": [
    "#Checking the percentage of customers is present in each cluster\n",
    "cluster_info[\"Pop_proportion\"] = (cluster_info[\"Population\"]/cluster_info[\"Population\"].sum()*100).round(2)\n",
    "cluster_info[\"Cust_proportion\"] = (cluster_info[\"Customers\"]/cluster_info[\"Customers\"].sum()*100).round(2)"
   ]
  },
  {
   "cell_type": "code",
   "execution_count": 83,
   "metadata": {},
   "outputs": [
    {
     "data": {
      "image/png": "[encoded data removed]",
      "text/plain": [
       "<matplotlib.figure.Figure at 0x7fe771856518>"
      ]
     },
     "metadata": {
      "needs_background": "light"
     },
     "output_type": "display_data"
    }
   ],
   "source": [
    "#Plotting the results\n",
    "fig, (ax1, ax2) = plt.subplots(1,2, figsize=(10, 4))\n",
    "\n",
    "ax1.bar(cluster_info[\"Cluster\"], cluster_info[\"Pop_proportion\"])\n",
    "ax1.set_xlabel(\"Cluster\")\n",
    "ax1.set_ylabel(\"Proportion of Total (%)\")\n",
    "ax1.set_title(\"General Population\")\n",
    "\n",
    "ax2.bar(cluster_info[\"Cluster\"], cluster_info[\"Cust_proportion\"])\n",
    "ax2.set_xlabel(\"Cluster\")\n",
    "ax2.set_ylabel(\"Proportion of Total (%)\")\n",
    "ax2.set_title(\"Customers\")\n",
    "\n",
    "fig.suptitle(\"Percentage of people under each cluster\")\n",
    "fig.tight_layout(rect=[0, 0.03, 1, 0.95])\n",
    "plt.show()"
   ]
  },
  {
   "cell_type": "markdown",
   "metadata": {},
   "source": [
    "The  distribution of the customers in the AZDias dataframe is close to smooth, but when we check the results on the Customers dataframe it is possible to see that most customers are place in the clusters XXX"
   ]
  },
  {
   "cell_type": "code",
   "execution_count": 84,
   "metadata": {},
   "outputs": [
    {
     "data": {
      "image/png": "[encoded data removed]",
      "text/plain": [
       "<matplotlib.figure.Figure at 0x7fe772a3b198>"
      ]
     },
     "metadata": {
      "needs_background": "light"
     },
     "output_type": "display_data"
    }
   ],
   "source": [
    "#Checking the ratio of customers considering the AZDias dataframe in each cluster\n",
    "##This ratio helps us to identify what custer has the most potential for users to become customers.\n",
    "cluster_info[\"Cust_over_Pop\"] = cluster_info[\"Cust_proportion\"] / cluster_info[\"Pop_proportion\"]\n",
    "\n",
    "fig, ax = plt.subplots(1,1, figsize=(5, 4))\n",
    "\n",
    "ax.bar(cluster_info[\"Cluster\"], cluster_info[\"Cust_over_Pop\"])\n",
    "ax.set_xlabel(\"Cluster\")\n",
    "ax.set_ylabel(\"Proportion Ratio\")\n",
    "ax.set_title(\"Customer Population over General Population\")\n",
    "ax.axhline(y=1, linestyle = \"--\", linewidth = 0.8)\n",
    "\n",
    "fig.tight_layout(rect=[0, 0.03, 1, 0.95])\n",
    "plt.show()"
   ]
  },
  {
   "cell_type": "markdown",
   "metadata": {},
   "source": [
    "When The ratio is higher than 1, it indicates that the cluster contains more actual customers than users from AZDIAS dataframe, and there is more probability of the prople belonging to these clusters being future customers.\n",
    "\n",
    "The ratio between proportions of customers and population gave an idea about what proportion of customers are there in each cluster.\n",
    "This also gives an idea about which cluster can be targetted for future customers."
   ]
  },
  {
   "cell_type": "markdown",
   "metadata": {},
   "source": [
    "### Clusters Characteristics \n",
    "If there is any need to understand better what are the characteristics that define each cluster we can run a simple check on the PCA weights and extract valuable information. Let's exercise that on the first cluster."
   ]
  },
  {
   "cell_type": "code",
   "execution_count": 89,
   "metadata": {},
   "outputs": [],
   "source": [
    "#Creating a function to extract the PCA weights for the clusters\n",
    "def explain_cluster(kmeans_model, cluster_no, data, pca_model, attributes_info, num_components=2, num_feat_per_comp=3):\n",
    "    \n",
    "    weights = kmeans_model.cluster_centers_[cluster_no]\n",
    "    components = list(range(len(weights)))\n",
    "    \n",
    "    cluster_expl = pd.DataFrame({\"Weights\":weights, \"Component\":components})\n",
    "    cluster_expl.sort_values(\"Weights\", ascending=False, inplace=True)\n",
    "\n",
    "    comps = []\n",
    "    weights = []\n",
    "    comp_infos = []\n",
    "    for index, row in cluster_expl.head(n=num_components).iterrows():\n",
    "        \n",
    "        component_info = plot_feature_weights(data, pca_model, attributes_info, \n",
    "                                                int(row[\"Component\"]), num_feat_per_comp, False)\n",
    "        comp_infos.append(component_info)\n",
    "        comps += [int(row[\"Component\"])] * len(component_info)\n",
    "        weights +=  [row[\"Weights\"]] * len(component_info)\n",
    "        \n",
    "    component_info = pd.concat(comp_infos)\n",
    "    component_info.insert(0, \"ComponentWeight\", pd.Series(weights))\n",
    "    component_info.insert(0, \"Component\", pd.Series(comps))\n",
    "        \n",
    "    return component_info"
   ]
  },
  {
   "cell_type": "code",
   "execution_count": 91,
   "metadata": {},
   "outputs": [
    {
     "data": {
      "text/html": [
       "<div>\n",
       "<style scoped>\n",
       "    .dataframe tbody tr th:only-of-type {\n",
       "        vertical-align: middle;\n",
       "    }\n",
       "\n",
       "    .dataframe tbody tr th {\n",
       "        vertical-align: top;\n",
       "    }\n",
       "\n",
       "    .dataframe thead th {\n",
       "        text-align: right;\n",
       "    }\n",
       "</style>\n",
       "<table border=\"1\" class=\"dataframe\">\n",
       "  <thead>\n",
       "    <tr style=\"text-align: right;\">\n",
       "      <th></th>\n",
       "      <th>Component</th>\n",
       "      <th>ComponentWeight</th>\n",
       "      <th>Feature</th>\n",
       "      <th>Description</th>\n",
       "      <th>FeatureWeight</th>\n",
       "    </tr>\n",
       "  </thead>\n",
       "  <tbody>\n",
       "    <tr>\n",
       "      <th>2</th>\n",
       "      <td>0</td>\n",
       "      <td>7.856286</td>\n",
       "      <td>MOBI_REGIO</td>\n",
       "      <td>moving patterns</td>\n",
       "      <td>0.136591</td>\n",
       "    </tr>\n",
       "    <tr>\n",
       "      <th>1</th>\n",
       "      <td>0</td>\n",
       "      <td>7.856286</td>\n",
       "      <td>PLZ8_ANTG1</td>\n",
       "      <td>number of 1-2 family houses in the PLZ8</td>\n",
       "      <td>0.129638</td>\n",
       "    </tr>\n",
       "    <tr>\n",
       "      <th>0</th>\n",
       "      <td>0</td>\n",
       "      <td>7.856286</td>\n",
       "      <td>KBA13_ANTG1</td>\n",
       "      <td>No description given</td>\n",
       "      <td>0.128969</td>\n",
       "    </tr>\n",
       "    <tr>\n",
       "      <th>5</th>\n",
       "      <td>0</td>\n",
       "      <td>7.856286</td>\n",
       "      <td>KBA13_ANTG4</td>\n",
       "      <td>No description given</td>\n",
       "      <td>-0.124159</td>\n",
       "    </tr>\n",
       "    <tr>\n",
       "      <th>4</th>\n",
       "      <td>0</td>\n",
       "      <td>7.856286</td>\n",
       "      <td>KBA13_ANTG3</td>\n",
       "      <td>No description given</td>\n",
       "      <td>-0.127560</td>\n",
       "    </tr>\n",
       "    <tr>\n",
       "      <th>3</th>\n",
       "      <td>0</td>\n",
       "      <td>7.856286</td>\n",
       "      <td>PLZ8_ANTG3</td>\n",
       "      <td>number of 6-10 family houses in the PLZ8</td>\n",
       "      <td>-0.128308</td>\n",
       "    </tr>\n",
       "    <tr>\n",
       "      <th>2</th>\n",
       "      <td>0</td>\n",
       "      <td>7.856286</td>\n",
       "      <td>ONLINE_AFFINITAET</td>\n",
       "      <td>online affinity</td>\n",
       "      <td>0.154768</td>\n",
       "    </tr>\n",
       "    <tr>\n",
       "      <th>1</th>\n",
       "      <td>0</td>\n",
       "      <td>7.856286</td>\n",
       "      <td>PRAEGENDE_JUGENDJAHRE</td>\n",
       "      <td>dominating movement in the person's youth (avantgarde or mainstream)</td>\n",
       "      <td>0.143306</td>\n",
       "    </tr>\n",
       "    <tr>\n",
       "      <th>0</th>\n",
       "      <td>0</td>\n",
       "      <td>7.856286</td>\n",
       "      <td>D19_GESAMT_ANZ_24</td>\n",
       "      <td>No description given</td>\n",
       "      <td>0.140687</td>\n",
       "    </tr>\n",
       "    <tr>\n",
       "      <th>5</th>\n",
       "      <td>0</td>\n",
       "      <td>7.856286</td>\n",
       "      <td>CJT_TYP_5</td>\n",
       "      <td>No description given</td>\n",
       "      <td>-0.134127</td>\n",
       "    </tr>\n",
       "    <tr>\n",
       "      <th>4</th>\n",
       "      <td>0</td>\n",
       "      <td>7.856286</td>\n",
       "      <td>D19_GESAMT_ONLINE_DATUM</td>\n",
       "      <td>actuality of the last transaction with the complete file ONLINE</td>\n",
       "      <td>-0.136540</td>\n",
       "    </tr>\n",
       "    <tr>\n",
       "      <th>3</th>\n",
       "      <td>0</td>\n",
       "      <td>7.856286</td>\n",
       "      <td>LP_LEBENSPHASE_FEIN</td>\n",
       "      <td>lifestage fine</td>\n",
       "      <td>-0.141184</td>\n",
       "    </tr>\n",
       "  </tbody>\n",
       "</table>\n",
       "</div>"
      ],
      "text/plain": [
       "   Component  ComponentWeight                  Feature  \\\n",
       "2          0         7.856286               MOBI_REGIO   \n",
       "1          0         7.856286               PLZ8_ANTG1   \n",
       "0          0         7.856286              KBA13_ANTG1   \n",
       "5          0         7.856286              KBA13_ANTG4   \n",
       "4          0         7.856286              KBA13_ANTG3   \n",
       "3          0         7.856286               PLZ8_ANTG3   \n",
       "2          0         7.856286        ONLINE_AFFINITAET   \n",
       "1          0         7.856286    PRAEGENDE_JUGENDJAHRE   \n",
       "0          0         7.856286        D19_GESAMT_ANZ_24   \n",
       "5          0         7.856286                CJT_TYP_5   \n",
       "4          0         7.856286  D19_GESAMT_ONLINE_DATUM   \n",
       "3          0         7.856286      LP_LEBENSPHASE_FEIN   \n",
       "\n",
       "                                                            Description  \\\n",
       "2                                                       moving patterns   \n",
       "1                               number of 1-2 family houses in the PLZ8   \n",
       "0                                                  No description given   \n",
       "5                                                  No description given   \n",
       "4                                                  No description given   \n",
       "3                              number of 6-10 family houses in the PLZ8   \n",
       "2                                                       online affinity   \n",
       "1  dominating movement in the person's youth (avantgarde or mainstream)   \n",
       "0                                                  No description given   \n",
       "5                                                  No description given   \n",
       "4       actuality of the last transaction with the complete file ONLINE   \n",
       "3                                                        lifestage fine   \n",
       "\n",
       "   FeatureWeight  \n",
       "2       0.136591  \n",
       "1       0.129638  \n",
       "0       0.128969  \n",
       "5      -0.124159  \n",
       "4      -0.127560  \n",
       "3      -0.128308  \n",
       "2       0.154768  \n",
       "1       0.143306  \n",
       "0       0.140687  \n",
       "5      -0.134127  \n",
       "4      -0.136540  \n",
       "3      -0.141184  "
      ]
     },
     "execution_count": 91,
     "metadata": {},
     "output_type": "execute_result"
    }
   ],
   "source": [
    "#Checking the results on the cluster 0\n",
    "cluster_0 = explain_cluster(kmeans, 0, azdias, pca_150, attributes_info)\n",
    "cluster_0"
   ]
  },
  {
   "cell_type": "markdown",
   "metadata": {},
   "source": [
    "From that exercise it is possible to extract information on what are the Characteristics of people in each cluster. This can help better understand the existing customers and their behaviour according to demographics and any other data collected."
   ]
  },
  {
   "cell_type": "markdown",
   "metadata": {},
   "source": [
    "## Part 2: Supervised Learning Model\n",
    "\n",
    "Now that you've found which parts of the population are more likely to be customers of the mail-order company, it's time to build a prediction model. Each of the rows in the \"MAILOUT\" data files represents an individual that was targeted for a mailout campaign. Ideally, we should be able to use the demographic information from each individual to decide whether or not it will be worth it to include that person in the campaign.\n",
    "\n",
    "The \"MAILOUT\" data has been split into two approximately equal parts, each with almost 43 000 data rows. In this part, you can verify your model with the \"TRAIN\" partition, which includes a column, \"RESPONSE\", that states whether or not a person became a customer of the company following the campaign. In the next part, you'll need to create predictions on the \"TEST\" partition, where the \"RESPONSE\" column has been withheld."
   ]
  },
  {
   "cell_type": "code",
   "execution_count": 54,
   "metadata": {},
   "outputs": [
    {
     "name": "stderr",
     "output_type": "stream",
     "text": [
      "/opt/conda/lib/python3.6/site-packages/IPython/core/interactiveshell.py:2785: DtypeWarning: Columns (18,19) have mixed types. Specify dtype option on import or set low_memory=False.\n",
      "  interactivity=interactivity, compiler=compiler, result=result)\n"
     ]
    }
   ],
   "source": [
    "#Getting the train data\n",
    "mailout_train = pd.read_csv('../../data/Term2/capstone/arvato_data/Udacity_MAILOUT_052018_TRAIN.csv', sep=';')"
   ]
  },
  {
   "cell_type": "code",
   "execution_count": 55,
   "metadata": {},
   "outputs": [
    {
     "data": {
      "text/plain": [
       "(42962, 367)"
      ]
     },
     "execution_count": 55,
     "metadata": {},
     "output_type": "execute_result"
    }
   ],
   "source": [
    "#Checking the data shape\n",
    "mailout_train.shape"
   ]
  },
  {
   "cell_type": "code",
   "execution_count": 56,
   "metadata": {},
   "outputs": [
    {
     "data": {
      "text/html": [
       "<div>\n",
       "<style scoped>\n",
       "    .dataframe tbody tr th:only-of-type {\n",
       "        vertical-align: middle;\n",
       "    }\n",
       "\n",
       "    .dataframe tbody tr th {\n",
       "        vertical-align: top;\n",
       "    }\n",
       "\n",
       "    .dataframe thead th {\n",
       "        text-align: right;\n",
       "    }\n",
       "</style>\n",
       "<table border=\"1\" class=\"dataframe\">\n",
       "  <thead>\n",
       "    <tr style=\"text-align: right;\">\n",
       "      <th></th>\n",
       "      <th>LNR</th>\n",
       "      <th>AGER_TYP</th>\n",
       "      <th>AKT_DAT_KL</th>\n",
       "      <th>ALTER_HH</th>\n",
       "      <th>ALTER_KIND1</th>\n",
       "      <th>ALTER_KIND2</th>\n",
       "      <th>ALTER_KIND3</th>\n",
       "      <th>ALTER_KIND4</th>\n",
       "      <th>ALTERSKATEGORIE_FEIN</th>\n",
       "      <th>ANZ_HAUSHALTE_AKTIV</th>\n",
       "      <th>...</th>\n",
       "      <th>VK_DHT4A</th>\n",
       "      <th>VK_DISTANZ</th>\n",
       "      <th>VK_ZG11</th>\n",
       "      <th>W_KEIT_KIND_HH</th>\n",
       "      <th>WOHNDAUER_2008</th>\n",
       "      <th>WOHNLAGE</th>\n",
       "      <th>ZABEOTYP</th>\n",
       "      <th>RESPONSE</th>\n",
       "      <th>ANREDE_KZ</th>\n",
       "      <th>ALTERSKATEGORIE_GROB</th>\n",
       "    </tr>\n",
       "  </thead>\n",
       "  <tbody>\n",
       "    <tr>\n",
       "      <th>0</th>\n",
       "      <td>1763</td>\n",
       "      <td>2</td>\n",
       "      <td>1.0</td>\n",
       "      <td>8.0</td>\n",
       "      <td>NaN</td>\n",
       "      <td>NaN</td>\n",
       "      <td>NaN</td>\n",
       "      <td>NaN</td>\n",
       "      <td>8.0</td>\n",
       "      <td>15.0</td>\n",
       "      <td>...</td>\n",
       "      <td>5.0</td>\n",
       "      <td>2.0</td>\n",
       "      <td>1.0</td>\n",
       "      <td>6.0</td>\n",
       "      <td>9.0</td>\n",
       "      <td>3.0</td>\n",
       "      <td>3</td>\n",
       "      <td>0</td>\n",
       "      <td>2</td>\n",
       "      <td>4</td>\n",
       "    </tr>\n",
       "    <tr>\n",
       "      <th>1</th>\n",
       "      <td>1771</td>\n",
       "      <td>1</td>\n",
       "      <td>4.0</td>\n",
       "      <td>13.0</td>\n",
       "      <td>NaN</td>\n",
       "      <td>NaN</td>\n",
       "      <td>NaN</td>\n",
       "      <td>NaN</td>\n",
       "      <td>13.0</td>\n",
       "      <td>1.0</td>\n",
       "      <td>...</td>\n",
       "      <td>1.0</td>\n",
       "      <td>2.0</td>\n",
       "      <td>1.0</td>\n",
       "      <td>4.0</td>\n",
       "      <td>9.0</td>\n",
       "      <td>7.0</td>\n",
       "      <td>1</td>\n",
       "      <td>0</td>\n",
       "      <td>2</td>\n",
       "      <td>3</td>\n",
       "    </tr>\n",
       "    <tr>\n",
       "      <th>2</th>\n",
       "      <td>1776</td>\n",
       "      <td>1</td>\n",
       "      <td>1.0</td>\n",
       "      <td>9.0</td>\n",
       "      <td>NaN</td>\n",
       "      <td>NaN</td>\n",
       "      <td>NaN</td>\n",
       "      <td>NaN</td>\n",
       "      <td>7.0</td>\n",
       "      <td>0.0</td>\n",
       "      <td>...</td>\n",
       "      <td>6.0</td>\n",
       "      <td>4.0</td>\n",
       "      <td>2.0</td>\n",
       "      <td>NaN</td>\n",
       "      <td>9.0</td>\n",
       "      <td>2.0</td>\n",
       "      <td>3</td>\n",
       "      <td>0</td>\n",
       "      <td>1</td>\n",
       "      <td>4</td>\n",
       "    </tr>\n",
       "    <tr>\n",
       "      <th>3</th>\n",
       "      <td>1460</td>\n",
       "      <td>2</td>\n",
       "      <td>1.0</td>\n",
       "      <td>6.0</td>\n",
       "      <td>NaN</td>\n",
       "      <td>NaN</td>\n",
       "      <td>NaN</td>\n",
       "      <td>NaN</td>\n",
       "      <td>6.0</td>\n",
       "      <td>4.0</td>\n",
       "      <td>...</td>\n",
       "      <td>8.0</td>\n",
       "      <td>11.0</td>\n",
       "      <td>11.0</td>\n",
       "      <td>6.0</td>\n",
       "      <td>9.0</td>\n",
       "      <td>1.0</td>\n",
       "      <td>3</td>\n",
       "      <td>0</td>\n",
       "      <td>2</td>\n",
       "      <td>4</td>\n",
       "    </tr>\n",
       "    <tr>\n",
       "      <th>4</th>\n",
       "      <td>1783</td>\n",
       "      <td>2</td>\n",
       "      <td>1.0</td>\n",
       "      <td>9.0</td>\n",
       "      <td>NaN</td>\n",
       "      <td>NaN</td>\n",
       "      <td>NaN</td>\n",
       "      <td>NaN</td>\n",
       "      <td>9.0</td>\n",
       "      <td>53.0</td>\n",
       "      <td>...</td>\n",
       "      <td>2.0</td>\n",
       "      <td>2.0</td>\n",
       "      <td>1.0</td>\n",
       "      <td>6.0</td>\n",
       "      <td>9.0</td>\n",
       "      <td>3.0</td>\n",
       "      <td>3</td>\n",
       "      <td>0</td>\n",
       "      <td>1</td>\n",
       "      <td>3</td>\n",
       "    </tr>\n",
       "  </tbody>\n",
       "</table>\n",
       "<p>5 rows × 367 columns</p>\n",
       "</div>"
      ],
      "text/plain": [
       "    LNR  AGER_TYP  AKT_DAT_KL  ALTER_HH  ALTER_KIND1  ALTER_KIND2  \\\n",
       "0  1763         2         1.0       8.0          NaN          NaN   \n",
       "1  1771         1         4.0      13.0          NaN          NaN   \n",
       "2  1776         1         1.0       9.0          NaN          NaN   \n",
       "3  1460         2         1.0       6.0          NaN          NaN   \n",
       "4  1783         2         1.0       9.0          NaN          NaN   \n",
       "\n",
       "   ALTER_KIND3  ALTER_KIND4  ALTERSKATEGORIE_FEIN  ANZ_HAUSHALTE_AKTIV  \\\n",
       "0          NaN          NaN                   8.0                 15.0   \n",
       "1          NaN          NaN                  13.0                  1.0   \n",
       "2          NaN          NaN                   7.0                  0.0   \n",
       "3          NaN          NaN                   6.0                  4.0   \n",
       "4          NaN          NaN                   9.0                 53.0   \n",
       "\n",
       "          ...           VK_DHT4A  VK_DISTANZ  VK_ZG11  W_KEIT_KIND_HH  \\\n",
       "0         ...                5.0         2.0      1.0             6.0   \n",
       "1         ...                1.0         2.0      1.0             4.0   \n",
       "2         ...                6.0         4.0      2.0             NaN   \n",
       "3         ...                8.0        11.0     11.0             6.0   \n",
       "4         ...                2.0         2.0      1.0             6.0   \n",
       "\n",
       "   WOHNDAUER_2008  WOHNLAGE  ZABEOTYP RESPONSE ANREDE_KZ ALTERSKATEGORIE_GROB  \n",
       "0             9.0       3.0         3        0         2                    4  \n",
       "1             9.0       7.0         1        0         2                    3  \n",
       "2             9.0       2.0         3        0         1                    4  \n",
       "3             9.0       1.0         3        0         2                    4  \n",
       "4             9.0       3.0         3        0         1                    3  \n",
       "\n",
       "[5 rows x 367 columns]"
      ]
     },
     "execution_count": 56,
     "metadata": {},
     "output_type": "execute_result"
    }
   ],
   "source": [
    "#Checking the first rows\n",
    "mailout_train.head()"
   ]
  },
  {
   "cell_type": "code",
   "execution_count": 57,
   "metadata": {},
   "outputs": [
    {
     "name": "stdout",
     "output_type": "stream",
     "text": [
      "0    42430\n",
      "1      532\n",
      "Name: RESPONSE, dtype: int64\n"
     ]
    },
    {
     "data": {
      "text/plain": [
       "<matplotlib.axes._subplots.AxesSubplot at 0x7f581a4ee6d8>"
      ]
     },
     "execution_count": 57,
     "metadata": {},
     "output_type": "execute_result"
    },
    {
     "data": {
      "image/png": "[encoded data removed]",
      "text/plain": [
       "<matplotlib.figure.Figure at 0x7f581a4ee390>"
      ]
     },
     "metadata": {
      "needs_background": "light"
     },
     "output_type": "display_data"
    }
   ],
   "source": [
    "#Checking the target feature\n",
    "print(mailout_train.RESPONSE.value_counts())\n",
    "sns.countplot(\"RESPONSE\", data=mailout_train)"
   ]
  },
  {
   "cell_type": "markdown",
   "metadata": {},
   "source": [
    "It is possible to see that our hada is highly imbalanced. There are more than 40,000 records with negative response and only 532 with positive response. Considering this disprecancy, accuracy wil be a bad metric to choose because even if the model predicts all data as zeros it will give a 98% accuracy. So, in order to fix this issue, we had to choose a metric that will consider this imbalance, so for this project we used Precision, Recall or Area under Receiver Operating Curve (AUROC). <br>\n",
    "\n",
    "Where: <br>\n",
    "Precision = True Positives / (True Positives + False Positives) <br>\n",
    "Recall = True Positives / (True Positives + False Negatives) <br>\n",
    "True Positive Rate = True Positives / (True Positives + False Negatives) <br>\n",
    "False Positive Rate = False Positives / (False Positives + True Negatives)\n",
    "\n",
    "Since we were aiming to tell whether a user will be a customer or not. AUROC metric which take into consideration both true positive rate and false positive rate were a good choice, because we were able to predict both cases."
   ]
  },
  {
   "cell_type": "markdown",
   "metadata": {},
   "source": [
    "### Cleaning the train data\n",
    "Before moving further we needed to perform the same cleaning steps now on the train data, so in order to achieve that we consolidated all steps into a function"
   ]
  },
  {
   "cell_type": "code",
   "execution_count": 58,
   "metadata": {},
   "outputs": [],
   "source": [
    "def clean_data_for_supervised(cleaned_azdias, df, attributes_values):\n",
    "    \n",
    "    print(\"Cleaning Given Dataframe\")\n",
    "    \n",
    "    start = time.time()\n",
    "    \n",
    "    # Forward fill attribute_values dataframe, to access required columns and corresponding info\n",
    "    attributes_values[\"Attribute\"] = attributes_values[\"Attribute\"].ffill()\n",
    "    \n",
    "    # Fixing columns 18 and 19\n",
    "    print(\"\\tFixing 18, 19 columns\")\n",
    "    warning_cols = list(df.columns[18:20])\n",
    "        \n",
    "    # Ignore if these cols are already cleaned \n",
    "    if not (df[warning_cols[0]].dtype == 'float64') & (df[warning_cols[1]].dtype == 'float64'):\n",
    "        df = fixing_cameo_columns(df)\n",
    "        \n",
    "        \n",
    "    print(\"\\tFixing LP_* columns\")\n",
    "    df = fixing_LP_columns(df)\n",
    "    \n",
    "    print(\"\\tFixing EINGEFUGT column\")\n",
    "    df = fixing_eigefugt_column(df)\n",
    "    \n",
    "    # Replacing \"Unkown\" values with \"np.nan\"\n",
    "    print(\"\\tReplacing 'unkown' values with 'NaN'\")\n",
    "    unkown_attributes_values = attributes_values[attributes_values[\"Meaning\"] == \"unknown\"]\n",
    "    \n",
    "    df = replacing_unknown(df, unkown_attributes_values, verbose=False)\n",
    "    \n",
    "    # Encoding OST_WEST_KZ col\n",
    "    print(\"\\tEncoding OST_WEST_KZ column\")\n",
    "    df = fix_ost_west_col(df)\n",
    "\n",
    "    print(\"\\tEncoding ANREDE Column\")\n",
    "    df = fix_anrede_col(df)\n",
    "    \n",
    "    print(\"\\tEncoding CAMEO_INT column\")\n",
    "    df = fix_cameo_intl_col(df)\n",
    "    \n",
    "    print(\"\\tEncoding WOHNLAGE column\")\n",
    "    df = fix_wohnlage_col(df)\n",
    "    \n",
    "    \n",
    "    # Dropping columns which are not in azdias\n",
    "    print(\"\\tDropping extra columns\")\n",
    "    cols_to_drop = [col for col in df.columns if col not in azdias.columns]\n",
    "#     cols_to_drop += [\"EINGEFUEGT_AM\", \"D19_LETZTER_KAUF_BRANCHE\", \"CAMEO_DEU_2015\"]\n",
    "    \n",
    "    df = remove_columns(df, cols_to_drop)\n",
    "    \n",
    "    \n",
    "    # Imputing Missing data\n",
    "    print(\"\\tImputing missing values with most frequent ones\")\n",
    "    imputer = Imputer(strategy=\"most_frequent\")\n",
    "    \n",
    "    imputer.fit(azdias)\n",
    "    df = pd.DataFrame(imputer.transform(df), columns = df.columns)\n",
    "    \n",
    "    end = time.time()\n",
    "    \n",
    "    print(f\"Completed Cleaning in {end-start} seconds\")\n",
    "    \n",
    "    return df"
   ]
  },
  {
   "cell_type": "code",
   "execution_count": 59,
   "metadata": {},
   "outputs": [],
   "source": [
    "labels = mailout_train[\"RESPONSE\"]\n",
    "mailout_train_LNR = mailout_train[\"LNR\"]"
   ]
  },
  {
   "cell_type": "code",
   "execution_count": 60,
   "metadata": {},
   "outputs": [
    {
     "name": "stdout",
     "output_type": "stream",
     "text": [
      "Cleaning Given Dataframe\n",
      "\tFixing 18, 19 columns\n",
      "\tFixing LP_* columns\n",
      "\tFixing EINGEFUGT column\n",
      "\tReplacing 'unkown' values with 'NaN'\n",
      "\tEncoding OST_WEST_KZ column\n",
      "\tEncoding ANREDE Column\n",
      "\tEncoding CAMEO_INT column\n",
      "\tEncoding WOHNLAGE column\n",
      "\tDropping extra columns\n",
      "\tImputing missing values with most frequent ones\n",
      "Completed Cleaning in 74.59043860435486 seconds\n"
     ]
    }
   ],
   "source": [
    "mailout_train = clean_data_for_supervised(azdias, mailout_train, attributes_values)"
   ]
  },
  {
   "cell_type": "code",
   "execution_count": 61,
   "metadata": {},
   "outputs": [
    {
     "data": {
      "text/plain": [
       "(42962, 364)"
      ]
     },
     "execution_count": 61,
     "metadata": {},
     "output_type": "execute_result"
    }
   ],
   "source": [
    "#checking the new shape of the train data\n",
    "mailout_train.shape"
   ]
  },
  {
   "cell_type": "markdown",
   "metadata": {},
   "source": [
    "### Defining a benchmark\n",
    "We trained a Logistic Regression on unscaled data to set a benchmark result that we used as baseline"
   ]
  },
  {
   "cell_type": "code",
   "execution_count": 62,
   "metadata": {},
   "outputs": [],
   "source": [
    "#Definig the parameters\n",
    "X_train, X_val, y_train, y_val = train_test_split(mailout_train, labels, stratify=labels, test_size=0.2, random_state=SEED)"
   ]
  },
  {
   "cell_type": "code",
   "execution_count": 63,
   "metadata": {},
   "outputs": [],
   "source": [
    "#Calling the model\n",
    "lr = LogisticRegression(random_state=SEED)"
   ]
  },
  {
   "cell_type": "code",
   "execution_count": 64,
   "metadata": {},
   "outputs": [
    {
     "data": {
      "text/plain": [
       "LogisticRegression(C=1.0, class_weight=None, dual=False, fit_intercept=True,\n",
       "          intercept_scaling=1, max_iter=100, multi_class='ovr', n_jobs=1,\n",
       "          penalty='l2', random_state=2, solver='liblinear', tol=0.0001,\n",
       "          verbose=0, warm_start=False)"
      ]
     },
     "execution_count": 64,
     "metadata": {},
     "output_type": "execute_result"
    }
   ],
   "source": [
    "#Fitting the model\n",
    "lr.fit(X_train, y_train)"
   ]
  },
  {
   "cell_type": "code",
   "execution_count": 65,
   "metadata": {},
   "outputs": [
    {
     "data": {
      "text/plain": [
       "array([ 0.04043099,  0.01037424,  0.00531453, ...,  0.00856049,\n",
       "        0.01167807,  0.0098127 ])"
      ]
     },
     "execution_count": 65,
     "metadata": {},
     "output_type": "execute_result"
    }
   ],
   "source": [
    "#Predicting the results\n",
    "pred = lr.predict_proba(X_val)[:,1]\n",
    "pred"
   ]
  },
  {
   "cell_type": "code",
   "execution_count": 66,
   "metadata": {},
   "outputs": [
    {
     "name": "stdout",
     "output_type": "stream",
     "text": [
      "Baseline AUROC -  0.672752556074\n"
     ]
    }
   ],
   "source": [
    "#Getting the baseline AUROC\n",
    "print(\"Baseline AUROC - \", roc_auc_score(y_val, pred))"
   ]
  },
  {
   "cell_type": "markdown",
   "metadata": {},
   "source": [
    "### Training different models"
   ]
  },
  {
   "cell_type": "code",
   "execution_count": 67,
   "metadata": {},
   "outputs": [],
   "source": [
    "#Standardzing the train data\n",
    "scaler = StandardScaler()\n",
    "\n",
    "mailout_train = pd.DataFrame(scaler.fit_transform(mailout_train), columns = mailout_train.columns)"
   ]
  },
  {
   "cell_type": "code",
   "execution_count": 68,
   "metadata": {},
   "outputs": [],
   "source": [
    "#Definig the parameters\n",
    "X_train, X_val, y_train, y_val = train_test_split(mailout_train, labels, stratify=labels, test_size=0.2, random_state=SEED)"
   ]
  },
  {
   "cell_type": "code",
   "execution_count": 69,
   "metadata": {},
   "outputs": [],
   "source": [
    "#Creating a function to train and predict using different models\n",
    "def train_and_predict(model, X_train, y_train, X_test, y_test):\n",
    "    \"\"\"\n",
    "    Fit a model on X_train, y_train\n",
    "    predicts on X_text, y_test \n",
    "    Calculate AUROC on predictions made on test data\n",
    "    \n",
    "    Outputs - AUROC score, time elapse for training and prediction    \n",
    "    \"\"\"\n",
    "    start = time.time()\n",
    "    model = model.fit(X_train, y_train)\n",
    "    \n",
    "    roc_score = roc_auc_score(y_test, model.predict_proba(X_test)[:,1])\n",
    "    \n",
    "    end = time.time()\n",
    "    time_elapsed = end - start\n",
    "    \n",
    "    return roc_score, time_elapsed    "
   ]
  },
  {
   "cell_type": "code",
   "execution_count": 70,
   "metadata": {},
   "outputs": [],
   "source": [
    "models = [(\"LogisticRegression\", LogisticRegression(random_state=SEED)),\n",
    "         (\"DecisionTreeClassifier\", DecisionTreeClassifier(random_state=SEED)),\n",
    "         (\"RandomForestClassifier\", RandomForestClassifier(random_state=SEED)),\n",
    "         (\"GradientBoostingClassifier\", GradientBoostingClassifier(random_state=SEED)),\n",
    "         (\"AdaBoostClassifier\", AdaBoostClassifier(random_state=SEED))]"
   ]
  },
  {
   "cell_type": "code",
   "execution_count": 95,
   "metadata": {},
   "outputs": [],
   "source": [
    "#Getting the results\n",
    "results = {\"Model\":[],\n",
    "          \"AUROC_score\":[],\n",
    "          \"Time_in_sec\":[]}\n",
    "\n",
    "for name, model in models:\n",
    "    roc, time_ = train_and_predict(model, X_train, y_train, X_val, y_val)\n",
    "    results[\"Model\"].append(name)\n",
    "    results[\"AUROC_score\"].append(roc)\n",
    "    results[\"Time_in_sec\"].append(time_)"
   ]
  },
  {
   "cell_type": "code",
   "execution_count": 96,
   "metadata": {},
   "outputs": [
    {
     "data": {
      "text/html": [
       "<div>\n",
       "<style scoped>\n",
       "    .dataframe tbody tr th:only-of-type {\n",
       "        vertical-align: middle;\n",
       "    }\n",
       "\n",
       "    .dataframe tbody tr th {\n",
       "        vertical-align: top;\n",
       "    }\n",
       "\n",
       "    .dataframe thead th {\n",
       "        text-align: right;\n",
       "    }\n",
       "</style>\n",
       "<table border=\"1\" class=\"dataframe\">\n",
       "  <thead>\n",
       "    <tr style=\"text-align: right;\">\n",
       "      <th></th>\n",
       "      <th>Model</th>\n",
       "      <th>AUROC_score</th>\n",
       "      <th>Time_in_sec</th>\n",
       "    </tr>\n",
       "  </thead>\n",
       "  <tbody>\n",
       "    <tr>\n",
       "      <th>0</th>\n",
       "      <td>LogisticRegression</td>\n",
       "      <td>0.631793</td>\n",
       "      <td>18.2736</td>\n",
       "    </tr>\n",
       "    <tr>\n",
       "      <th>1</th>\n",
       "      <td>DecisionTreeClassifier</td>\n",
       "      <td>0.510325</td>\n",
       "      <td>3.72911</td>\n",
       "    </tr>\n",
       "    <tr>\n",
       "      <th>2</th>\n",
       "      <td>RandomForestClassifier</td>\n",
       "      <td>0.530196</td>\n",
       "      <td>1.66718</td>\n",
       "    </tr>\n",
       "    <tr>\n",
       "      <th>3</th>\n",
       "      <td>GradientBoostingClassifier</td>\n",
       "      <td>0.749229</td>\n",
       "      <td>48.2555</td>\n",
       "    </tr>\n",
       "    <tr>\n",
       "      <th>4</th>\n",
       "      <td>AdaBoostClassifier</td>\n",
       "      <td>0.709368</td>\n",
       "      <td>17.2039</td>\n",
       "    </tr>\n",
       "  </tbody>\n",
       "</table>\n",
       "</div>"
      ],
      "text/plain": [
       "                        Model AUROC_score Time_in_sec\n",
       "0          LogisticRegression    0.631793     18.2736\n",
       "1      DecisionTreeClassifier    0.510325     3.72911\n",
       "2      RandomForestClassifier    0.530196     1.66718\n",
       "3  GradientBoostingClassifier    0.749229     48.2555\n",
       "4          AdaBoostClassifier    0.709368     17.2039"
      ]
     },
     "execution_count": 96,
     "metadata": {},
     "output_type": "execute_result"
    }
   ],
   "source": [
    "#Checking the results\n",
    "results = pd.DataFrame.from_dict(results, orient='index').transpose()\n",
    "results"
   ]
  },
  {
   "cell_type": "markdown",
   "metadata": {},
   "source": [
    "Looking the results, GradientBoostingClassifier\thas the highest score, but it is the slowest to train. Also AdaBoostClassifier have the next highest score (not that far from GradientBoostingClassifier) and also take less time to train. So we are going to select that algorithm for hyper parameter tuning."
   ]
  },
  {
   "cell_type": "markdown",
   "metadata": {},
   "source": [
    "### Hyper Parameter Tunning"
   ]
  },
  {
   "cell_type": "code",
   "execution_count": 73,
   "metadata": {},
   "outputs": [],
   "source": [
    "#Using GridSearch to tune our best model: AdaBoostClassifier\n",
    "param_grid = {\"n_estimators\": [50,100,150,200],\n",
    "              \"learning_rate\": [0.01,0.1,0.5,0.9,1.],\n",
    "              \"algorithm\":[\"SAMME.R\"]\n",
    "              }\n",
    "\n",
    "adaboost_grid = GridSearchCV(estimator = AdaBoostClassifier(random_state=SEED), \n",
    "                           param_grid = param_grid, \n",
    "                           scoring = \"roc_auc\", \n",
    "                           cv = 5, n_jobs = -1, verbose=2)"
   ]
  },
  {
   "cell_type": "code",
   "execution_count": 74,
   "metadata": {},
   "outputs": [
    {
     "name": "stdout",
     "output_type": "stream",
     "text": [
      "Fitting 5 folds for each of 20 candidates, totalling 100 fits\n",
      "[CV] algorithm=SAMME.R, learning_rate=0.01, n_estimators=50 ..........\n",
      "[CV]  algorithm=SAMME.R, learning_rate=0.01, n_estimators=50, total=  13.5s\n",
      "[CV] algorithm=SAMME.R, learning_rate=0.01, n_estimators=50 ..........\n"
     ]
    },
    {
     "name": "stderr",
     "output_type": "stream",
     "text": [
      "[Parallel(n_jobs=-1)]: Done   1 out of   1 | elapsed:   13.9s remaining:    0.0s\n"
     ]
    },
    {
     "name": "stdout",
     "output_type": "stream",
     "text": [
      "[CV]  algorithm=SAMME.R, learning_rate=0.01, n_estimators=50, total=  13.4s\n",
      "[CV] algorithm=SAMME.R, learning_rate=0.01, n_estimators=50 ..........\n",
      "[CV]  algorithm=SAMME.R, learning_rate=0.01, n_estimators=50, total=  13.2s\n",
      "[CV] algorithm=SAMME.R, learning_rate=0.01, n_estimators=50 ..........\n",
      "[CV]  algorithm=SAMME.R, learning_rate=0.01, n_estimators=50, total=  13.1s\n",
      "[CV] algorithm=SAMME.R, learning_rate=0.01, n_estimators=50 ..........\n",
      "[CV]  algorithm=SAMME.R, learning_rate=0.01, n_estimators=50, total=  13.2s\n",
      "[CV] algorithm=SAMME.R, learning_rate=0.01, n_estimators=100 .........\n",
      "[CV]  algorithm=SAMME.R, learning_rate=0.01, n_estimators=100, total=  26.5s\n",
      "[CV] algorithm=SAMME.R, learning_rate=0.01, n_estimators=100 .........\n",
      "[CV]  algorithm=SAMME.R, learning_rate=0.01, n_estimators=100, total=  26.0s\n",
      "[CV] algorithm=SAMME.R, learning_rate=0.01, n_estimators=100 .........\n",
      "[CV]  algorithm=SAMME.R, learning_rate=0.01, n_estimators=100, total=  26.0s\n",
      "[CV] algorithm=SAMME.R, learning_rate=0.01, n_estimators=100 .........\n",
      "[CV]  algorithm=SAMME.R, learning_rate=0.01, n_estimators=100, total=  26.3s\n",
      "[CV] algorithm=SAMME.R, learning_rate=0.01, n_estimators=100 .........\n",
      "[CV]  algorithm=SAMME.R, learning_rate=0.01, n_estimators=100, total=  26.3s\n",
      "[CV] algorithm=SAMME.R, learning_rate=0.01, n_estimators=150 .........\n",
      "[CV]  algorithm=SAMME.R, learning_rate=0.01, n_estimators=150, total=  39.2s\n",
      "[CV] algorithm=SAMME.R, learning_rate=0.01, n_estimators=150 .........\n",
      "[CV]  algorithm=SAMME.R, learning_rate=0.01, n_estimators=150, total=  39.3s\n",
      "[CV] algorithm=SAMME.R, learning_rate=0.01, n_estimators=150 .........\n",
      "[CV]  algorithm=SAMME.R, learning_rate=0.01, n_estimators=150, total=  39.0s\n",
      "[CV] algorithm=SAMME.R, learning_rate=0.01, n_estimators=150 .........\n",
      "[CV]  algorithm=SAMME.R, learning_rate=0.01, n_estimators=150, total=  39.0s\n",
      "[CV] algorithm=SAMME.R, learning_rate=0.01, n_estimators=150 .........\n",
      "[CV]  algorithm=SAMME.R, learning_rate=0.01, n_estimators=150, total=  39.1s\n",
      "[CV] algorithm=SAMME.R, learning_rate=0.01, n_estimators=200 .........\n",
      "[CV]  algorithm=SAMME.R, learning_rate=0.01, n_estimators=200, total=  51.2s\n",
      "[CV] algorithm=SAMME.R, learning_rate=0.01, n_estimators=200 .........\n",
      "[CV]  algorithm=SAMME.R, learning_rate=0.01, n_estimators=200, total=  51.6s\n",
      "[CV] algorithm=SAMME.R, learning_rate=0.01, n_estimators=200 .........\n",
      "[CV]  algorithm=SAMME.R, learning_rate=0.01, n_estimators=200, total=  51.9s\n",
      "[CV] algorithm=SAMME.R, learning_rate=0.01, n_estimators=200 .........\n",
      "[CV]  algorithm=SAMME.R, learning_rate=0.01, n_estimators=200, total=  51.8s\n",
      "[CV] algorithm=SAMME.R, learning_rate=0.01, n_estimators=200 .........\n",
      "[CV]  algorithm=SAMME.R, learning_rate=0.01, n_estimators=200, total=  52.2s\n",
      "[CV] algorithm=SAMME.R, learning_rate=0.1, n_estimators=50 ...........\n",
      "[CV]  algorithm=SAMME.R, learning_rate=0.1, n_estimators=50, total=  13.3s\n",
      "[CV] algorithm=SAMME.R, learning_rate=0.1, n_estimators=50 ...........\n",
      "[CV]  algorithm=SAMME.R, learning_rate=0.1, n_estimators=50, total=  13.0s\n",
      "[CV] algorithm=SAMME.R, learning_rate=0.1, n_estimators=50 ...........\n",
      "[CV]  algorithm=SAMME.R, learning_rate=0.1, n_estimators=50, total=  13.2s\n",
      "[CV] algorithm=SAMME.R, learning_rate=0.1, n_estimators=50 ...........\n",
      "[CV]  algorithm=SAMME.R, learning_rate=0.1, n_estimators=50, total=  13.0s\n",
      "[CV] algorithm=SAMME.R, learning_rate=0.1, n_estimators=50 ...........\n",
      "[CV]  algorithm=SAMME.R, learning_rate=0.1, n_estimators=50, total=  13.0s\n",
      "[CV] algorithm=SAMME.R, learning_rate=0.1, n_estimators=100 ..........\n",
      "[CV]  algorithm=SAMME.R, learning_rate=0.1, n_estimators=100, total=  25.7s\n",
      "[CV] algorithm=SAMME.R, learning_rate=0.1, n_estimators=100 ..........\n",
      "[CV]  algorithm=SAMME.R, learning_rate=0.1, n_estimators=100, total=  25.4s\n",
      "[CV] algorithm=SAMME.R, learning_rate=0.1, n_estimators=100 ..........\n",
      "[CV]  algorithm=SAMME.R, learning_rate=0.1, n_estimators=100, total=  25.7s\n",
      "[CV] algorithm=SAMME.R, learning_rate=0.1, n_estimators=100 ..........\n",
      "[CV]  algorithm=SAMME.R, learning_rate=0.1, n_estimators=100, total=  25.7s\n",
      "[CV] algorithm=SAMME.R, learning_rate=0.1, n_estimators=100 ..........\n",
      "[CV]  algorithm=SAMME.R, learning_rate=0.1, n_estimators=100, total=  25.4s\n",
      "[CV] algorithm=SAMME.R, learning_rate=0.1, n_estimators=150 ..........\n",
      "[CV]  algorithm=SAMME.R, learning_rate=0.1, n_estimators=150, total=  37.9s\n",
      "[CV] algorithm=SAMME.R, learning_rate=0.1, n_estimators=150 ..........\n",
      "[CV]  algorithm=SAMME.R, learning_rate=0.1, n_estimators=150, total=  38.1s\n",
      "[CV] algorithm=SAMME.R, learning_rate=0.1, n_estimators=150 ..........\n",
      "[CV]  algorithm=SAMME.R, learning_rate=0.1, n_estimators=150, total=  38.4s\n",
      "[CV] algorithm=SAMME.R, learning_rate=0.1, n_estimators=150 ..........\n",
      "[CV]  algorithm=SAMME.R, learning_rate=0.1, n_estimators=150, total=  38.0s\n",
      "[CV] algorithm=SAMME.R, learning_rate=0.1, n_estimators=150 ..........\n",
      "[CV]  algorithm=SAMME.R, learning_rate=0.1, n_estimators=150, total=  38.2s\n",
      "[CV] algorithm=SAMME.R, learning_rate=0.1, n_estimators=200 ..........\n",
      "[CV]  algorithm=SAMME.R, learning_rate=0.1, n_estimators=200, total=  51.0s\n",
      "[CV] algorithm=SAMME.R, learning_rate=0.1, n_estimators=200 ..........\n",
      "[CV]  algorithm=SAMME.R, learning_rate=0.1, n_estimators=200, total=  51.4s\n",
      "[CV] algorithm=SAMME.R, learning_rate=0.1, n_estimators=200 ..........\n",
      "[CV]  algorithm=SAMME.R, learning_rate=0.1, n_estimators=200, total=  50.6s\n",
      "[CV] algorithm=SAMME.R, learning_rate=0.1, n_estimators=200 ..........\n",
      "[CV]  algorithm=SAMME.R, learning_rate=0.1, n_estimators=200, total=  50.9s\n",
      "[CV] algorithm=SAMME.R, learning_rate=0.1, n_estimators=200 ..........\n",
      "[CV]  algorithm=SAMME.R, learning_rate=0.1, n_estimators=200, total=  50.8s\n",
      "[CV] algorithm=SAMME.R, learning_rate=0.5, n_estimators=50 ...........\n",
      "[CV]  algorithm=SAMME.R, learning_rate=0.5, n_estimators=50, total=  12.6s\n",
      "[CV] algorithm=SAMME.R, learning_rate=0.5, n_estimators=50 ...........\n",
      "[CV]  algorithm=SAMME.R, learning_rate=0.5, n_estimators=50, total=  12.6s\n",
      "[CV] algorithm=SAMME.R, learning_rate=0.5, n_estimators=50 ...........\n",
      "[CV]  algorithm=SAMME.R, learning_rate=0.5, n_estimators=50, total=  12.5s\n",
      "[CV] algorithm=SAMME.R, learning_rate=0.5, n_estimators=50 ...........\n",
      "[CV]  algorithm=SAMME.R, learning_rate=0.5, n_estimators=50, total=  11.9s\n",
      "[CV] algorithm=SAMME.R, learning_rate=0.5, n_estimators=50 ...........\n",
      "[CV]  algorithm=SAMME.R, learning_rate=0.5, n_estimators=50, total=  11.9s\n",
      "[CV] algorithm=SAMME.R, learning_rate=0.5, n_estimators=100 ..........\n",
      "[CV]  algorithm=SAMME.R, learning_rate=0.5, n_estimators=100, total=  23.5s\n",
      "[CV] algorithm=SAMME.R, learning_rate=0.5, n_estimators=100 ..........\n",
      "[CV]  algorithm=SAMME.R, learning_rate=0.5, n_estimators=100, total=  23.8s\n",
      "[CV] algorithm=SAMME.R, learning_rate=0.5, n_estimators=100 ..........\n",
      "[CV]  algorithm=SAMME.R, learning_rate=0.5, n_estimators=100, total=  23.8s\n",
      "[CV] algorithm=SAMME.R, learning_rate=0.5, n_estimators=100 ..........\n",
      "[CV]  algorithm=SAMME.R, learning_rate=0.5, n_estimators=100, total=  23.8s\n",
      "[CV] algorithm=SAMME.R, learning_rate=0.5, n_estimators=100 ..........\n",
      "[CV]  algorithm=SAMME.R, learning_rate=0.5, n_estimators=100, total=  23.6s\n",
      "[CV] algorithm=SAMME.R, learning_rate=0.5, n_estimators=150 ..........\n",
      "[CV]  algorithm=SAMME.R, learning_rate=0.5, n_estimators=150, total=  35.5s\n",
      "[CV] algorithm=SAMME.R, learning_rate=0.5, n_estimators=150 ..........\n",
      "[CV]  algorithm=SAMME.R, learning_rate=0.5, n_estimators=150, total=  35.5s\n",
      "[CV] algorithm=SAMME.R, learning_rate=0.5, n_estimators=150 ..........\n",
      "[CV]  algorithm=SAMME.R, learning_rate=0.5, n_estimators=150, total=  35.7s\n",
      "[CV] algorithm=SAMME.R, learning_rate=0.5, n_estimators=150 ..........\n",
      "[CV]  algorithm=SAMME.R, learning_rate=0.5, n_estimators=150, total=  35.7s\n",
      "[CV] algorithm=SAMME.R, learning_rate=0.5, n_estimators=150 ..........\n",
      "[CV]  algorithm=SAMME.R, learning_rate=0.5, n_estimators=150, total=  35.2s\n",
      "[CV] algorithm=SAMME.R, learning_rate=0.5, n_estimators=200 ..........\n",
      "[CV]  algorithm=SAMME.R, learning_rate=0.5, n_estimators=200, total=  47.7s\n",
      "[CV] algorithm=SAMME.R, learning_rate=0.5, n_estimators=200 ..........\n",
      "[CV]  algorithm=SAMME.R, learning_rate=0.5, n_estimators=200, total=  46.8s\n",
      "[CV] algorithm=SAMME.R, learning_rate=0.5, n_estimators=200 ..........\n",
      "[CV]  algorithm=SAMME.R, learning_rate=0.5, n_estimators=200, total=  47.0s\n",
      "[CV] algorithm=SAMME.R, learning_rate=0.5, n_estimators=200 ..........\n",
      "[CV]  algorithm=SAMME.R, learning_rate=0.5, n_estimators=200, total=  47.4s\n",
      "[CV] algorithm=SAMME.R, learning_rate=0.5, n_estimators=200 ..........\n",
      "[CV]  algorithm=SAMME.R, learning_rate=0.5, n_estimators=200, total=  49.8s\n",
      "[CV] algorithm=SAMME.R, learning_rate=0.9, n_estimators=50 ...........\n",
      "[CV]  algorithm=SAMME.R, learning_rate=0.9, n_estimators=50, total=  13.1s\n",
      "[CV] algorithm=SAMME.R, learning_rate=0.9, n_estimators=50 ...........\n",
      "[CV]  algorithm=SAMME.R, learning_rate=0.9, n_estimators=50, total=  13.2s\n",
      "[CV] algorithm=SAMME.R, learning_rate=0.9, n_estimators=50 ...........\n",
      "[CV]  algorithm=SAMME.R, learning_rate=0.9, n_estimators=50, total=  13.1s\n",
      "[CV] algorithm=SAMME.R, learning_rate=0.9, n_estimators=50 ...........\n",
      "[CV]  algorithm=SAMME.R, learning_rate=0.9, n_estimators=50, total=  13.1s\n",
      "[CV] algorithm=SAMME.R, learning_rate=0.9, n_estimators=50 ...........\n",
      "[CV]  algorithm=SAMME.R, learning_rate=0.9, n_estimators=50, total=  13.2s\n",
      "[CV] algorithm=SAMME.R, learning_rate=0.9, n_estimators=100 ..........\n",
      "[CV]  algorithm=SAMME.R, learning_rate=0.9, n_estimators=100, total=  26.6s\n",
      "[CV] algorithm=SAMME.R, learning_rate=0.9, n_estimators=100 ..........\n",
      "[CV]  algorithm=SAMME.R, learning_rate=0.9, n_estimators=100, total=  26.3s\n",
      "[CV] algorithm=SAMME.R, learning_rate=0.9, n_estimators=100 ..........\n",
      "[CV]  algorithm=SAMME.R, learning_rate=0.9, n_estimators=100, total=  26.2s\n",
      "[CV] algorithm=SAMME.R, learning_rate=0.9, n_estimators=100 ..........\n",
      "[CV]  algorithm=SAMME.R, learning_rate=0.9, n_estimators=100, total=  26.8s\n",
      "[CV] algorithm=SAMME.R, learning_rate=0.9, n_estimators=100 ..........\n",
      "[CV]  algorithm=SAMME.R, learning_rate=0.9, n_estimators=100, total=  26.6s\n",
      "[CV] algorithm=SAMME.R, learning_rate=0.9, n_estimators=150 ..........\n",
      "[CV]  algorithm=SAMME.R, learning_rate=0.9, n_estimators=150, total=  39.8s\n",
      "[CV] algorithm=SAMME.R, learning_rate=0.9, n_estimators=150 ..........\n",
      "[CV]  algorithm=SAMME.R, learning_rate=0.9, n_estimators=150, total=  39.8s\n",
      "[CV] algorithm=SAMME.R, learning_rate=0.9, n_estimators=150 ..........\n",
      "[CV]  algorithm=SAMME.R, learning_rate=0.9, n_estimators=150, total=  39.4s\n",
      "[CV] algorithm=SAMME.R, learning_rate=0.9, n_estimators=150 ..........\n",
      "[CV]  algorithm=SAMME.R, learning_rate=0.9, n_estimators=150, total=  39.6s\n",
      "[CV] algorithm=SAMME.R, learning_rate=0.9, n_estimators=150 ..........\n",
      "[CV]  algorithm=SAMME.R, learning_rate=0.9, n_estimators=150, total=  40.1s\n",
      "[CV] algorithm=SAMME.R, learning_rate=0.9, n_estimators=200 ..........\n",
      "[CV]  algorithm=SAMME.R, learning_rate=0.9, n_estimators=200, total=  53.4s\n",
      "[CV] algorithm=SAMME.R, learning_rate=0.9, n_estimators=200 ..........\n",
      "[CV]  algorithm=SAMME.R, learning_rate=0.9, n_estimators=200, total=  53.0s\n",
      "[CV] algorithm=SAMME.R, learning_rate=0.9, n_estimators=200 ..........\n",
      "[CV]  algorithm=SAMME.R, learning_rate=0.9, n_estimators=200, total=  53.1s\n",
      "[CV] algorithm=SAMME.R, learning_rate=0.9, n_estimators=200 ..........\n",
      "[CV]  algorithm=SAMME.R, learning_rate=0.9, n_estimators=200, total=  53.2s\n",
      "[CV] algorithm=SAMME.R, learning_rate=0.9, n_estimators=200 ..........\n",
      "[CV]  algorithm=SAMME.R, learning_rate=0.9, n_estimators=200, total=  52.8s\n",
      "[CV] algorithm=SAMME.R, learning_rate=1.0, n_estimators=50 ...........\n",
      "[CV]  algorithm=SAMME.R, learning_rate=1.0, n_estimators=50, total=  12.9s\n",
      "[CV] algorithm=SAMME.R, learning_rate=1.0, n_estimators=50 ...........\n",
      "[CV]  algorithm=SAMME.R, learning_rate=1.0, n_estimators=50, total=  13.2s\n",
      "[CV] algorithm=SAMME.R, learning_rate=1.0, n_estimators=50 ...........\n",
      "[CV]  algorithm=SAMME.R, learning_rate=1.0, n_estimators=50, total=  13.0s\n",
      "[CV] algorithm=SAMME.R, learning_rate=1.0, n_estimators=50 ...........\n",
      "[CV]  algorithm=SAMME.R, learning_rate=1.0, n_estimators=50, total=  13.1s\n",
      "[CV] algorithm=SAMME.R, learning_rate=1.0, n_estimators=50 ...........\n",
      "[CV]  algorithm=SAMME.R, learning_rate=1.0, n_estimators=50, total=  13.0s\n",
      "[CV] algorithm=SAMME.R, learning_rate=1.0, n_estimators=100 ..........\n",
      "[CV]  algorithm=SAMME.R, learning_rate=1.0, n_estimators=100, total=  26.2s\n",
      "[CV] algorithm=SAMME.R, learning_rate=1.0, n_estimators=100 ..........\n",
      "[CV]  algorithm=SAMME.R, learning_rate=1.0, n_estimators=100, total=  26.7s\n",
      "[CV] algorithm=SAMME.R, learning_rate=1.0, n_estimators=100 ..........\n",
      "[CV]  algorithm=SAMME.R, learning_rate=1.0, n_estimators=100, total=  26.5s\n",
      "[CV] algorithm=SAMME.R, learning_rate=1.0, n_estimators=100 ..........\n",
      "[CV]  algorithm=SAMME.R, learning_rate=1.0, n_estimators=100, total=  26.7s\n",
      "[CV] algorithm=SAMME.R, learning_rate=1.0, n_estimators=100 ..........\n",
      "[CV]  algorithm=SAMME.R, learning_rate=1.0, n_estimators=100, total=  26.9s\n",
      "[CV] algorithm=SAMME.R, learning_rate=1.0, n_estimators=150 ..........\n",
      "[CV]  algorithm=SAMME.R, learning_rate=1.0, n_estimators=150, total=  40.0s\n",
      "[CV] algorithm=SAMME.R, learning_rate=1.0, n_estimators=150 ..........\n",
      "[CV]  algorithm=SAMME.R, learning_rate=1.0, n_estimators=150, total=  39.9s\n",
      "[CV] algorithm=SAMME.R, learning_rate=1.0, n_estimators=150 ..........\n",
      "[CV]  algorithm=SAMME.R, learning_rate=1.0, n_estimators=150, total=  40.3s\n",
      "[CV] algorithm=SAMME.R, learning_rate=1.0, n_estimators=150 ..........\n",
      "[CV]  algorithm=SAMME.R, learning_rate=1.0, n_estimators=150, total=  40.2s\n",
      "[CV] algorithm=SAMME.R, learning_rate=1.0, n_estimators=150 ..........\n",
      "[CV]  algorithm=SAMME.R, learning_rate=1.0, n_estimators=150, total=  40.1s\n",
      "[CV] algorithm=SAMME.R, learning_rate=1.0, n_estimators=200 ..........\n",
      "[CV]  algorithm=SAMME.R, learning_rate=1.0, n_estimators=200, total=  53.9s\n",
      "[CV] algorithm=SAMME.R, learning_rate=1.0, n_estimators=200 ..........\n",
      "[CV]  algorithm=SAMME.R, learning_rate=1.0, n_estimators=200, total=  52.9s\n",
      "[CV] algorithm=SAMME.R, learning_rate=1.0, n_estimators=200 ..........\n",
      "[CV]  algorithm=SAMME.R, learning_rate=1.0, n_estimators=200, total=  53.1s\n",
      "[CV] algorithm=SAMME.R, learning_rate=1.0, n_estimators=200 ..........\n",
      "[CV]  algorithm=SAMME.R, learning_rate=1.0, n_estimators=200, total=  53.7s\n",
      "[CV] algorithm=SAMME.R, learning_rate=1.0, n_estimators=200 ..........\n",
      "[CV]  algorithm=SAMME.R, learning_rate=1.0, n_estimators=200, total=  52.8s\n"
     ]
    },
    {
     "name": "stderr",
     "output_type": "stream",
     "text": [
      "[Parallel(n_jobs=-1)]: Done 100 out of 100 | elapsed: 55.2min finished\n"
     ]
    },
    {
     "name": "stdout",
     "output_type": "stream",
     "text": [
      "Best Score:  0.772209440653\n",
      "Best Params:  {'algorithm': 'SAMME.R', 'learning_rate': 0.1, 'n_estimators': 100}\n",
      "CPU times: user 55min 32s, sys: 0 ns, total: 55min 32s\n",
      "Wall time: 55min 47s\n"
     ]
    }
   ],
   "source": [
    "%%time\n",
    "adaboost_grid.fit(X_train, y_train)\n",
    "\n",
    "best_adaboost = adaboost_grid.best_estimator_\n",
    "\n",
    "print(\"Best Score: \", adaboost_grid.best_score_)\n",
    "print(\"Best Params: \", adaboost_grid.best_params_)"
   ]
  },
  {
   "cell_type": "code",
   "execution_count": 93,
   "metadata": {},
   "outputs": [
    {
     "name": "stdout",
     "output_type": "stream",
     "text": [
      "AUROC score on validation data: 0.7739\n"
     ]
    }
   ],
   "source": [
    "#Predict the results for the best tuned model on the validation data\n",
    "preds_adaboost = best_adaboost.predict_proba(X_val)[:,1]\n",
    "\n",
    "print(\"AUROC score on validation data: {:.4f}\".format(roc_auc_score(y_val, preds_adaboost)))"
   ]
  },
  {
   "cell_type": "code",
   "execution_count": 76,
   "metadata": {},
   "outputs": [],
   "source": [
    "def plot_feature_importances(model, model_name, feature_names, num_features=10):\n",
    "    \"\"\"\n",
    "    Plots top n feature importances for the given model\n",
    "    \"\"\"\n",
    "\n",
    "    \n",
    "    feature_importance_values= np.zeros((len(model.feature_importances_)))\n",
    "    \n",
    "    feature_importance_values += model.feature_importances_\n",
    "\n",
    "    feature_importances = pd.DataFrame({'feature': feature_names, 'importance': feature_importance_values})\n",
    "\n",
    "    # sort based on importance\n",
    "    feature_importances = feature_importances.sort_values('importance', ascending = False).reset_index(drop = True)\n",
    "\n",
    "    # normalize the feature importances to add up to one\n",
    "    feature_importances['normalized_importance'] = feature_importances['importance'] / feature_importances['importance'].sum()\n",
    "    feature_importances['cumulative_importance'] = np.cumsum(feature_importances['normalized_importance'])\n",
    "    \n",
    "    fig = plt.figure(figsize=(8, 5))\n",
    "    ax = fig.add_subplot(111)\n",
    "    \n",
    "    ax.barh(list(reversed(list(feature_importances.index[:num_features]))), \n",
    "                feature_importances['normalized_importance'][:num_features], \n",
    "                align = 'center')\n",
    "\n",
    "    # Set ticks and labels\n",
    "    ax.set_yticks(list(reversed(list(feature_importances.index[:num_features]))))\n",
    "    ax.set_yticklabels(feature_importances['feature'][:num_features])\n",
    "    ax.set_xlabel('Normalized Importance')\n",
    "    ax.set_title(f'Feature Importances ({model_name})') "
   ]
  },
  {
   "cell_type": "code",
   "execution_count": 77,
   "metadata": {},
   "outputs": [
    {
     "data": {
      "image/png": "[encoded data removed]",
      "text/plain": [
       "<matplotlib.figure.Figure at 0x7f581a52fb38>"
      ]
     },
     "metadata": {
      "needs_background": "light"
     },
     "output_type": "display_data"
    }
   ],
   "source": [
    "plot_feature_importances(model=best_adaboost, model_name=\"AdaBoost\", feature_names=mailout_train.columns)"
   ]
  },
  {
   "cell_type": "markdown",
   "metadata": {},
   "source": [
    "### Predicting the best model on new dataset\n",
    "After train and hyper tunning our best model we will use it agains a new dataset for test purposes."
   ]
  },
  {
   "cell_type": "code",
   "execution_count": 88,
   "metadata": {},
   "outputs": [
    {
     "name": "stderr",
     "output_type": "stream",
     "text": [
      "/opt/conda/lib/python3.6/site-packages/IPython/core/interactiveshell.py:2785: DtypeWarning: Columns (18,19) have mixed types. Specify dtype option on import or set low_memory=False.\n",
      "  interactivity=interactivity, compiler=compiler, result=result)\n"
     ]
    }
   ],
   "source": [
    "#Getting the test data\n",
    "mailout_test = pd.read_csv('../../data/Term2/capstone/arvato_data/Udacity_MAILOUT_052018_TEST.csv', sep=';')"
   ]
  },
  {
   "cell_type": "code",
   "execution_count": 89,
   "metadata": {},
   "outputs": [
    {
     "data": {
      "text/html": [
       "<div>\n",
       "<style scoped>\n",
       "    .dataframe tbody tr th:only-of-type {\n",
       "        vertical-align: middle;\n",
       "    }\n",
       "\n",
       "    .dataframe tbody tr th {\n",
       "        vertical-align: top;\n",
       "    }\n",
       "\n",
       "    .dataframe thead th {\n",
       "        text-align: right;\n",
       "    }\n",
       "</style>\n",
       "<table border=\"1\" class=\"dataframe\">\n",
       "  <thead>\n",
       "    <tr style=\"text-align: right;\">\n",
       "      <th></th>\n",
       "      <th>LNR</th>\n",
       "      <th>AGER_TYP</th>\n",
       "      <th>AKT_DAT_KL</th>\n",
       "      <th>ALTER_HH</th>\n",
       "      <th>ALTER_KIND1</th>\n",
       "      <th>ALTER_KIND2</th>\n",
       "      <th>ALTER_KIND3</th>\n",
       "      <th>ALTER_KIND4</th>\n",
       "      <th>ALTERSKATEGORIE_FEIN</th>\n",
       "      <th>ANZ_HAUSHALTE_AKTIV</th>\n",
       "      <th>...</th>\n",
       "      <th>VHN</th>\n",
       "      <th>VK_DHT4A</th>\n",
       "      <th>VK_DISTANZ</th>\n",
       "      <th>VK_ZG11</th>\n",
       "      <th>W_KEIT_KIND_HH</th>\n",
       "      <th>WOHNDAUER_2008</th>\n",
       "      <th>WOHNLAGE</th>\n",
       "      <th>ZABEOTYP</th>\n",
       "      <th>ANREDE_KZ</th>\n",
       "      <th>ALTERSKATEGORIE_GROB</th>\n",
       "    </tr>\n",
       "  </thead>\n",
       "  <tbody>\n",
       "    <tr>\n",
       "      <th>0</th>\n",
       "      <td>1754</td>\n",
       "      <td>2</td>\n",
       "      <td>1.0</td>\n",
       "      <td>7.0</td>\n",
       "      <td>NaN</td>\n",
       "      <td>NaN</td>\n",
       "      <td>NaN</td>\n",
       "      <td>NaN</td>\n",
       "      <td>6.0</td>\n",
       "      <td>2.0</td>\n",
       "      <td>...</td>\n",
       "      <td>4.0</td>\n",
       "      <td>5.0</td>\n",
       "      <td>6.0</td>\n",
       "      <td>3.0</td>\n",
       "      <td>6.0</td>\n",
       "      <td>9.0</td>\n",
       "      <td>3.0</td>\n",
       "      <td>3</td>\n",
       "      <td>1</td>\n",
       "      <td>4</td>\n",
       "    </tr>\n",
       "    <tr>\n",
       "      <th>1</th>\n",
       "      <td>1770</td>\n",
       "      <td>-1</td>\n",
       "      <td>1.0</td>\n",
       "      <td>0.0</td>\n",
       "      <td>NaN</td>\n",
       "      <td>NaN</td>\n",
       "      <td>NaN</td>\n",
       "      <td>NaN</td>\n",
       "      <td>0.0</td>\n",
       "      <td>20.0</td>\n",
       "      <td>...</td>\n",
       "      <td>1.0</td>\n",
       "      <td>5.0</td>\n",
       "      <td>2.0</td>\n",
       "      <td>1.0</td>\n",
       "      <td>6.0</td>\n",
       "      <td>9.0</td>\n",
       "      <td>5.0</td>\n",
       "      <td>3</td>\n",
       "      <td>1</td>\n",
       "      <td>4</td>\n",
       "    </tr>\n",
       "    <tr>\n",
       "      <th>2</th>\n",
       "      <td>1465</td>\n",
       "      <td>2</td>\n",
       "      <td>9.0</td>\n",
       "      <td>16.0</td>\n",
       "      <td>NaN</td>\n",
       "      <td>NaN</td>\n",
       "      <td>NaN</td>\n",
       "      <td>NaN</td>\n",
       "      <td>11.0</td>\n",
       "      <td>2.0</td>\n",
       "      <td>...</td>\n",
       "      <td>3.0</td>\n",
       "      <td>9.0</td>\n",
       "      <td>6.0</td>\n",
       "      <td>3.0</td>\n",
       "      <td>2.0</td>\n",
       "      <td>9.0</td>\n",
       "      <td>4.0</td>\n",
       "      <td>3</td>\n",
       "      <td>2</td>\n",
       "      <td>4</td>\n",
       "    </tr>\n",
       "    <tr>\n",
       "      <th>3</th>\n",
       "      <td>1470</td>\n",
       "      <td>-1</td>\n",
       "      <td>7.0</td>\n",
       "      <td>0.0</td>\n",
       "      <td>NaN</td>\n",
       "      <td>NaN</td>\n",
       "      <td>NaN</td>\n",
       "      <td>NaN</td>\n",
       "      <td>0.0</td>\n",
       "      <td>1.0</td>\n",
       "      <td>...</td>\n",
       "      <td>2.0</td>\n",
       "      <td>6.0</td>\n",
       "      <td>6.0</td>\n",
       "      <td>3.0</td>\n",
       "      <td>NaN</td>\n",
       "      <td>9.0</td>\n",
       "      <td>2.0</td>\n",
       "      <td>3</td>\n",
       "      <td>2</td>\n",
       "      <td>4</td>\n",
       "    </tr>\n",
       "    <tr>\n",
       "      <th>4</th>\n",
       "      <td>1478</td>\n",
       "      <td>1</td>\n",
       "      <td>1.0</td>\n",
       "      <td>21.0</td>\n",
       "      <td>NaN</td>\n",
       "      <td>NaN</td>\n",
       "      <td>NaN</td>\n",
       "      <td>NaN</td>\n",
       "      <td>13.0</td>\n",
       "      <td>1.0</td>\n",
       "      <td>...</td>\n",
       "      <td>1.0</td>\n",
       "      <td>2.0</td>\n",
       "      <td>4.0</td>\n",
       "      <td>3.0</td>\n",
       "      <td>3.0</td>\n",
       "      <td>9.0</td>\n",
       "      <td>7.0</td>\n",
       "      <td>4</td>\n",
       "      <td>2</td>\n",
       "      <td>4</td>\n",
       "    </tr>\n",
       "  </tbody>\n",
       "</table>\n",
       "<p>5 rows × 366 columns</p>\n",
       "</div>"
      ],
      "text/plain": [
       "    LNR  AGER_TYP  AKT_DAT_KL  ALTER_HH  ALTER_KIND1  ALTER_KIND2  \\\n",
       "0  1754         2         1.0       7.0          NaN          NaN   \n",
       "1  1770        -1         1.0       0.0          NaN          NaN   \n",
       "2  1465         2         9.0      16.0          NaN          NaN   \n",
       "3  1470        -1         7.0       0.0          NaN          NaN   \n",
       "4  1478         1         1.0      21.0          NaN          NaN   \n",
       "\n",
       "   ALTER_KIND3  ALTER_KIND4  ALTERSKATEGORIE_FEIN  ANZ_HAUSHALTE_AKTIV  \\\n",
       "0          NaN          NaN                   6.0                  2.0   \n",
       "1          NaN          NaN                   0.0                 20.0   \n",
       "2          NaN          NaN                  11.0                  2.0   \n",
       "3          NaN          NaN                   0.0                  1.0   \n",
       "4          NaN          NaN                  13.0                  1.0   \n",
       "\n",
       "          ...           VHN  VK_DHT4A  VK_DISTANZ  VK_ZG11  W_KEIT_KIND_HH  \\\n",
       "0         ...           4.0       5.0         6.0      3.0             6.0   \n",
       "1         ...           1.0       5.0         2.0      1.0             6.0   \n",
       "2         ...           3.0       9.0         6.0      3.0             2.0   \n",
       "3         ...           2.0       6.0         6.0      3.0             NaN   \n",
       "4         ...           1.0       2.0         4.0      3.0             3.0   \n",
       "\n",
       "   WOHNDAUER_2008  WOHNLAGE ZABEOTYP ANREDE_KZ ALTERSKATEGORIE_GROB  \n",
       "0             9.0       3.0        3         1                    4  \n",
       "1             9.0       5.0        3         1                    4  \n",
       "2             9.0       4.0        3         2                    4  \n",
       "3             9.0       2.0        3         2                    4  \n",
       "4             9.0       7.0        4         2                    4  \n",
       "\n",
       "[5 rows x 366 columns]"
      ]
     },
     "execution_count": 89,
     "metadata": {},
     "output_type": "execute_result"
    }
   ],
   "source": [
    "#Checking the test data\n",
    "mailout_test.head()"
   ]
  },
  {
   "cell_type": "code",
   "execution_count": 97,
   "metadata": {},
   "outputs": [
    {
     "data": {
      "text/plain": [
       "(42833, 364)"
      ]
     },
     "execution_count": 97,
     "metadata": {},
     "output_type": "execute_result"
    }
   ],
   "source": [
    "#Checking the size of test data\n",
    "mailout_test.shape"
   ]
  },
  {
   "cell_type": "code",
   "execution_count": 90,
   "metadata": {},
   "outputs": [
    {
     "name": "stdout",
     "output_type": "stream",
     "text": [
      "Cleaning Given Dataframe\n",
      "\tFixing 18, 19 columns\n",
      "\tFixing LP_* columns\n",
      "\tFixing EINGEFUGT column\n",
      "\tReplacing 'unkown' values with 'NaN'\n",
      "\tEncoding OST_WEST_KZ column\n",
      "\tEncoding ANREDE Column\n",
      "\tEncoding CAMEO_INT column\n",
      "\tEncoding WOHNLAGE column\n",
      "\tDropping extra columns\n",
      "\tImputing missing values with most frequent ones\n",
      "Completed Cleaning in 31.8836190700531 seconds\n"
     ]
    }
   ],
   "source": [
    "#Cleaning the test data\n",
    "mailout_test_LNR = mailout_test[\"LNR\"]\n",
    "mailout_test = clean_data_for_supervised(azdias, mailout_test, attributes_values)\n",
    "mailout_test = pd.DataFrame(scaler.transform(mailout_test), columns = mailout_test.columns)"
   ]
  },
  {
   "cell_type": "code",
   "execution_count": 91,
   "metadata": {},
   "outputs": [
    {
     "data": {
      "text/plain": [
       "AdaBoostClassifier(algorithm='SAMME.R', base_estimator=None,\n",
       "          learning_rate=0.1, n_estimators=100, random_state=2)"
      ]
     },
     "execution_count": 91,
     "metadata": {},
     "output_type": "execute_result"
    }
   ],
   "source": [
    "#Fitting our best model on the train data\n",
    "best_adaboost.fit(mailout_train, labels)"
   ]
  },
  {
   "cell_type": "code",
   "execution_count": 94,
   "metadata": {},
   "outputs": [
    {
     "name": "stdout",
     "output_type": "stream",
     "text": [
      "AUROC score on test data: 0.7739\n"
     ]
    }
   ],
   "source": [
    "#Predicting on the test data using our best model\n",
    "preds_test_adaboost = best_adaboost.predict_proba(mailout_test)[:,1]\n",
    "print(\"AUROC score on test data: {:.4f}\".format(roc_auc_score(y_val, preds_adaboost)))"
   ]
  },
  {
   "cell_type": "markdown",
   "metadata": {},
   "source": [
    "# Results"
   ]
  },
  {
   "cell_type": "markdown",
   "metadata": {},
   "source": [
    "- Using the PCA and K-means algorithm in order to create cluster of customers was successful, we were able to check where the actual customers of the company intersect the cluster of general segments (Clusters 0,3,4 and 5) which are segments that are more likely to convert on actual customers for the company;\n",
    "- We were able to predict campaign response using machine learning by training different models using default hyperparameters, getting the best one to tune using GridSearch with a result of 0.77 AUROC_score which is pretty strong.\n",
    "- With the results of this project the company can be more accurate when working on acquiring new customers both on segmentation and campaign response prediction by addressing marketing budget more accurately aiming the best converting number possible. \n"
   ]
  }
 ],
 "metadata": {
  "kernelspec": {
   "display_name": "Python 3",
   "language": "python",
   "name": "python3"
  },
  "language_info": {
   "codemirror_mode": {
    "name": "ipython",
    "version": 3
   },
   "file_extension": ".py",
   "mimetype": "text/x-python",
   "name": "python",
   "nbconvert_exporter": "python",
   "pygments_lexer": "ipython3",
   "version": "3.6.3"
  }
 },
 "nbformat": 4,
 "nbformat_minor": 2
}
